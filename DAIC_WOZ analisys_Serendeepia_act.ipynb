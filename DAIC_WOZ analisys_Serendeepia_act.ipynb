{
 "cells": [
  {
   "cell_type": "code",
   "execution_count": 1,
   "metadata": {},
   "outputs": [
    {
     "name": "stderr",
     "output_type": "stream",
     "text": [
      "Using TensorFlow backend.\n"
     ]
    }
   ],
   "source": [
    "from pydub import AudioSegment\n",
    "import pandas as pd\n",
    "import numpy as np\n",
    "import statistics as stats\n",
    "import matplotlib.pyplot as plt\n",
    "from scipy import signal\n",
    "from scipy.io import wavfile\n",
    "import librosa\n",
    "import pandas as pd\n",
    "import keras\n",
    "from keras.datasets import fashion_mnist\n",
    "from keras.datasets import mnist\n",
    "from keras.models import Sequential\n",
    "from keras.layers import Dense, Dropout, Flatten\n",
    "from keras.layers import Conv2D, MaxPooling2D\n",
    "from keras.optimizers import sgd\n",
    "import tensorflow as tf\n",
    "import numpy as np\n",
    "import math"
   ]
  },
  {
   "cell_type": "code",
   "execution_count": 2,
   "metadata": {},
   "outputs": [],
   "source": [
    "#Compute spectogram of each audio\n",
    "\n",
    "SR = 22050\n",
    "def get_short_time_fourier_transform(soundwave):\n",
    "    return librosa.stft(soundwave, n_fft=256)\n",
    "\n",
    "def short_time_fourier_transform_amplitude_to_db(stft):\n",
    "    return librosa.amplitude_to_db(stft)\n",
    "\n",
    "def soundwave_to_np_spectogram(soundwave):\n",
    "    step1 = get_short_time_fourier_transform(soundwave)\n",
    "    step2 = short_time_fourier_transform_amplitude_to_db(step1)\n",
    "    step3 = step2/100\n",
    "    return step3\n",
    "\n",
    "def inspect_data(sound):\n",
    "#    plt.figure()\n",
    "#    plt.plot(sound)\n",
    "#    IPython.display.display(IPython.display.Audio(sound, rate=SR))\n",
    "    a = get_short_time_fourier_transform(sound)\n",
    "    Xdb = short_time_fourier_transform_amplitude_to_db(a)\n",
    "#    plt.figure()   \n",
    "#    plt.imshow(Xdb)    \n",
    "#    plt.show()\n",
    "#    print (Xdb.shape)\n",
    "#    print(\"Length per sample: %d, shape of spectogram: %s, max: %f min: %f\" % (len(sound), str(Xdb.shape), Xdb.max(), Xdb.min()))\n",
    "    return Xdb"
   ]
  },
  {
   "cell_type": "code",
   "execution_count": 3,
   "metadata": {},
   "outputs": [],
   "source": [
    "i = 0\n",
    "j = 0\n",
    "k = 0\n",
    "number_list_train = ['']\n",
    "number_list_test = ['']\n",
    "file_count = 107\n",
    "file_count2 = 35\n",
    "input_array_train = ['']\n",
    "phq8_array_train = ['']\n",
    "input_array_train *= file_count\n",
    "phq8_array_train *= file_count\n",
    "number_list_train *= file_count\n",
    "input_array_test = ['']\n",
    "phq8_array_test = ['']\n",
    "input_array_test *= file_count2\n",
    "phq8_array_test *= file_count2\n",
    "number_list_test *= file_count2"
   ]
  },
  {
   "cell_type": "code",
   "execution_count": null,
   "metadata": {},
   "outputs": [],
   "source": [
    "#Abrir archivos de audio y segmentar por segmento de tiempo.\n",
    "#Exportar los segmentos a otra carpeta para su posterior analisis\n",
    "\n",
    "\n",
    "number = 0\n",
    "\n",
    "l = 0\n",
    "m = 0\n",
    "      \n",
    "data = open('C:/Users/Fran/Desktop/Database/datos1.txt', 'r', encoding='utf-8-sig')\n",
    "for line in data:\n",
    "    mylist = line.split(',')\n",
    "    number = mylist[0]\n",
    "    df = pd.read_csv('C:/Users/Fran/Desktop/Database/' + str(number) + '_P/' \n",
    "                     + str(number) + '_TRANSCRIPT.csv', header=0)\n",
    "    while i < len (df):\n",
    "        a = df.iloc[i].str.split()\n",
    "        if a[0][2] == 'Participant' and j == 0: \n",
    "            newAudio = AudioSegment.from_wav('C:/Users/Fran/Desktop/Database/' \n",
    "                                             + str(number) + '_P/' + str(number) + '_AUDIO.wav')\n",
    "            t1 = int(float(a[0][0]) * 1000)\n",
    "            t2 = int(float(a[0][1]) * 1000)\n",
    "            newAudio = newAudio[t1:t2]\n",
    "            newAudio.export('C:/Users/Fran/Desktop/prueba/' + str(number) + '.wav', format=\"wav\")\n",
    "            j = 1\n",
    "        elif a[0][2] == 'Participant':\n",
    "            \n",
    "            newAudio = AudioSegment.from_wav('C:/Users/Fran/Desktop/Database/' \n",
    "                                             + str(number) + '_P/' + str(number) + '_AUDIO.wav')\n",
    "            t1 = int(float(a[0][0]) * 1000)\n",
    "            t2 = int(float(a[0][1]) * 1000)\n",
    "            newAudio = newAudio[t1:t2]\n",
    "            newAudio.export('C:/Users/Fran/Desktop/prueba/' + str(number) + 'segmento.wav', format=\"wav\")\n",
    "            sound1 = AudioSegment.from_wav('C:/Users/Fran/Desktop/prueba/' + str(number) + '.wav')\n",
    "            sound2 = AudioSegment.from_wav('C:/Users/Fran/Desktop/prueba/' + str(number) + 'segmento.wav')\n",
    "\n",
    "            combined_sounds = sound1 + sound2\n",
    "            combined_sounds.export('C:/Users/Fran/Desktop/prueba/' + str(number) + '.wav', format=\"wav\")\n",
    "        i += 1\n",
    "             \n",
    "    w = AudioSegment.from_wav('C:/Users/Fran/Desktop/Database/' + str(number) + '_P/' + str(number) + '_AUDIO.wav')\n",
    "    input_array_train[l] = w\n",
    "    number_list_train[l] = number\n",
    "    phq8_array_train[l] = mylist[1]\n",
    "    l += 1\n",
    "    j = 0\n",
    "    i = 0\n",
    "    \n"
   ]
  },
  {
   "cell_type": "code",
   "execution_count": null,
   "metadata": {},
   "outputs": [],
   "source": [
    "i = 0\n",
    "l = 0\n",
    "m = 0\n",
    "data1 = open('C:/Users/Fran/Desktop/Database/datos2_dev.txt', 'r', encoding='utf-8-sig')\n",
    "for line in data1:\n",
    "    mylist = line.split(',')\n",
    "    number = mylist[0]\n",
    "    df = pd.read_csv('C:/Users/Fran/Desktop/Database/' + str(number) + '_P/' \n",
    "                     + str(number) + '_TRANSCRIPT.csv', header=0)\n",
    "    while i < len (df):\n",
    "        a = df.iloc[i].str.split()\n",
    "        if a[0][2] == 'Participant' and j == 0: \n",
    "            newAudio = AudioSegment.from_wav('C:/Users/Fran/Desktop/Database/' \n",
    "                                             + str(number) + '_P/' + str(number) + '_AUDIO.wav')\n",
    "            t1 = int(float(a[0][0]) * 1000)\n",
    "            t2 = int(float(a[0][1]) * 1000)\n",
    "            newAudio = newAudio[t1:t2]\n",
    "            newAudio.export('C:/Users/Fran/Desktop/prueba_test/' + str(number) + '.wav', format=\"wav\")\n",
    "            j = 1\n",
    "        elif a[0][2] == 'Participant':\n",
    "            \n",
    "            newAudio = AudioSegment.from_wav('C:/Users/Fran/Desktop/Database/' \n",
    "                                             + str(number) + '_P/' + str(number) + '_AUDIO.wav')\n",
    "            t1 = int(float(a[0][0]) * 1000)\n",
    "            t2 = int(float(a[0][1]) * 1000)\n",
    "            newAudio = newAudio[t1:t2]\n",
    "            newAudio.export('C:/Users/Fran/Desktop/prueba_test/' + str(number) + 'segmento.wav', format=\"wav\")\n",
    "            sound1 = AudioSegment.from_wav('C:/Users/Fran/Desktop/prueba_test/' + str(number) + '.wav')\n",
    "            sound2 = AudioSegment.from_wav('C:/Users/Fran/Desktop/prueba_test/' + str(number) + 'segmento.wav')\n",
    "\n",
    "            combined_sounds = sound1 + sound2\n",
    "            combined_sounds.export('C:/Users/Fran/Desktop/prueba_test/' + str(number) + '.wav', format=\"wav\")\n",
    "        i += 1\n",
    "             \n",
    "    w = AudioSegment.from_wav('C:/Users/Fran/Desktop/Database/' + str(number) + '_P/' + str(number) + '_AUDIO.wav')\n",
    "    input_array_test[l] = w\n",
    "    number_list_test[l] = number\n",
    "    phq8_array_test[l] = mylist[1]\n",
    "    l += 1\n",
    "    j = 0\n",
    "    i = 0 "
   ]
  },
  {
   "cell_type": "code",
   "execution_count": 5,
   "metadata": {},
   "outputs": [],
   "source": [
    "#creacion de arrays\n",
    "l = 0\n",
    "data = open('C:/Users/Fran/Desktop/Database/datos1.txt', 'r', encoding='utf-8-sig')\n",
    "for line in data:\n",
    "    mylist = line.split(',')\n",
    "    number = mylist[0]\n",
    "    w = AudioSegment.from_wav('C:/Users/Fran/Desktop/Database/' + str(number) + '_P/' + str(number) + '_AUDIO.wav')\n",
    "    input_array_train[l] = w\n",
    "    number_list_train[l] = number\n",
    "    phq8_array_train[l] = mylist[1]\n",
    "    l += 1\n",
    "    \n",
    "l = 0\n",
    "data1 = open('C:/Users/Fran/Desktop/Database/datos2_dev.txt', 'r', encoding='utf-8-sig')\n",
    "for line in data1:\n",
    "    mylist = line.split(',')\n",
    "    number = mylist[0]\n",
    "    w = AudioSegment.from_wav('C:/Users/Fran/Desktop/Database/' + str(number) + '_P/' + str(number) + '_AUDIO.wav')\n",
    "    input_array_test[l] = w\n",
    "    number_list_test[l] = number\n",
    "    phq8_array_test[l] = mylist[1]\n",
    "    l += 1"
   ]
  },
  {
   "cell_type": "code",
   "execution_count": null,
   "metadata": {},
   "outputs": [],
   "source": []
  },
  {
   "cell_type": "code",
   "execution_count": 6,
   "metadata": {},
   "outputs": [],
   "source": [
    "len_list_train = ['']\n",
    "len_list_test = ['']\n",
    "len_list_train *= file_count\n",
    "len_list_test *= file_count2\n",
    "i = 0\n",
    "j = 0\n",
    "\n",
    "\n",
    "for audio_number in number_list_train:\n",
    "    Audio_train = AudioSegment.from_wav('C:/Users/Fran/Desktop/prueba/' + str(audio_number) + '.wav')\n",
    "    len_list_train[i] = int(len(Audio_train) / (1000))\n",
    "    i += 1\n",
    "    \n",
    "    \n",
    "for audio_number in number_list_test:\n",
    "    Audio_test = AudioSegment.from_wav('C:/Users/Fran/Desktop/prueba_test/' + str(audio_number) + '.wav')\n",
    "    len_list_test[j] = int(len(Audio_test) / (1000))\n",
    "    j += 1\n",
    "    \n"
   ]
  },
  {
   "cell_type": "code",
   "execution_count": null,
   "metadata": {},
   "outputs": [],
   "source": [
    "minimun_audio_train = np.min(len_list_train)\n",
    "minimun_audio_test = np.min(len_list_test)"
   ]
  },
  {
   "cell_type": "code",
   "execution_count": 7,
   "metadata": {},
   "outputs": [],
   "source": [
    "t1_train_ini = 25 * 1000\n",
    "t1_test_ini = 25 * 1000\n",
    "t2_train_end = 30 * 1000\n",
    "t2_test_end = 30 * 1000\n",
    "\n",
    "for audio_number in number_list_train:\n",
    "    Audio_train = AudioSegment.from_wav('C:/Users/Fran/Desktop/prueba/' + str(audio_number) + '.wav')\n",
    "    Audio_train = Audio_train[t1_train_ini:t2_train_end]\n",
    "    Audio_train.export('C:/Users/Fran/Desktop/database_train/' + str(audio_number) + '.wav', format=\"wav\")\n",
    "    \n",
    "    \n",
    "for audio_number in number_list_test:\n",
    "    Audio_test = AudioSegment.from_wav('C:/Users/Fran/Desktop/prueba_test/' + str(audio_number) + '.wav')\n",
    "    Audio_test = Audio_test[t1_train_ini:t2_train_end]\n",
    "    Audio_test.export('C:/Users/Fran/Desktop/database_test/' + str(audio_number) + '.wav', format=\"wav\")"
   ]
  },
  {
   "cell_type": "code",
   "execution_count": 8,
   "metadata": {},
   "outputs": [
    {
     "name": "stderr",
     "output_type": "stream",
     "text": [
      "C:\\Users\\Fran\\Anaconda3\\lib\\site-packages\\librosa\\core\\spectrum.py:960: UserWarning: amplitude_to_db was called on complex input so phase information will be discarded. To suppress this warning, call amplitude_to_db(np.abs(S)) instead.\n",
      "  warnings.warn('amplitude_to_db was called on complex input so phase '\n"
     ]
    }
   ],
   "source": [
    "#Spectograms of each segmented audio\n",
    "\n",
    "i = 0\n",
    "Xdb_train = ['']\n",
    "Xdb_train_normalized = ['']\n",
    "Xdb_train *= file_count\n",
    "Xdb_train_normalized *= file_count\n",
    "\n",
    "Xdb_test = ['']\n",
    "Xdb_test_normalized = ['']\n",
    "Xdb_test *= file_count2\n",
    "Xdb_test_normalized *= file_count2\n",
    "\n",
    "for audio_train in number_list_train:\n",
    "    X, sr = librosa.load('C:/Users/Fran/Desktop/database_train/' + str(audio_train) + '.wav')\n",
    "    Xdb_train[i] = inspect_data(X)\n",
    "    #Xdb_train_normalized[i] = tf.log(tf.abs(Xdb_train[i]) + 0.01)\n",
    "    i += 1\n",
    "\n",
    "i = 0\n",
    "\n",
    "for audio_test in number_list_test:\n",
    "    X, sr = librosa.load('C:/Users/Fran/Desktop/database_test/' + str(audio_test) + '.wav')\n",
    "    Xdb_test[i] = inspect_data(X)\n",
    "    #Xdb_test_normalized[i] = tf.log(tf.abs(Xdb_test[i]) + 0.01)\n",
    "    i += 1"
   ]
  },
  {
   "cell_type": "code",
   "execution_count": null,
   "metadata": {},
   "outputs": [],
   "source": [
    "np.shape(Xdb_train_normalized[0])"
   ]
  },
  {
   "cell_type": "code",
   "execution_count": null,
   "metadata": {},
   "outputs": [],
   "source": [
    "Xdb_train_normalized[0]"
   ]
  },
  {
   "cell_type": "code",
   "execution_count": 11,
   "metadata": {},
   "outputs": [
    {
     "data": {
      "image/png": "[encoded data removed]",
      "text/plain": [
       "<Figure size 432x288 with 1 Axes>"
      ]
     },
     "metadata": {
      "needs_background": "light"
     },
     "output_type": "display_data"
    }
   ],
   "source": [
    "plt.imshow(Xdb_train[0])\n",
    "alto, ancho = np.shape(Xdb_train[0])"
   ]
  },
  {
   "cell_type": "code",
   "execution_count": null,
   "metadata": {},
   "outputs": [],
   "source": [
    "np.shape(Xdb_train)"
   ]
  },
  {
   "cell_type": "code",
   "execution_count": 12,
   "metadata": {},
   "outputs": [],
   "source": [
    "num_classes = 2\n",
    "batch_size = 64\n",
    "epochs = 10\n",
    "\n",
    "# convert class vectors to binary class matrices\n",
    "phq8_array_train = keras.utils.to_categorical(phq8_array_train, num_classes)\n",
    "phq8_array_test = keras.utils.to_categorical(phq8_array_test, num_classes)"
   ]
  },
  {
   "cell_type": "code",
   "execution_count": 13,
   "metadata": {},
   "outputs": [],
   "source": [
    "Xdb_train_array = np.ndarray(shape = (107,alto,ancho))\n",
    "Xdb_test_array = np.ndarray(shape = (35,alto,ancho))"
   ]
  },
  {
   "cell_type": "code",
   "execution_count": 14,
   "metadata": {},
   "outputs": [],
   "source": [
    "i = 0\n",
    "for train in Xdb_train:\n",
    "    Xdb_train_array[i] = train\n",
    "    i += 1\n",
    "    \n",
    "i = 0\n",
    "for train in Xdb_test:\n",
    "    Xdb_test_array[i] = train\n",
    "    i += 1"
   ]
  },
  {
   "cell_type": "code",
   "execution_count": 15,
   "metadata": {},
   "outputs": [],
   "source": [
    "Xdb_train_array = Xdb_train_array.reshape(Xdb_train_array.shape[0], alto, ancho, 1)\n",
    "Xdb_test_array = Xdb_test_array.reshape(Xdb_test_array.shape[0], alto, ancho, 1)"
   ]
  },
  {
   "cell_type": "code",
   "execution_count": 16,
   "metadata": {},
   "outputs": [
    {
     "name": "stdout",
     "output_type": "stream",
     "text": [
      "(107, 129, 1723, 1)\n",
      "(35, 129, 1723, 1)\n"
     ]
    }
   ],
   "source": [
    "print (Xdb_train_array.shape)\n",
    "print (Xdb_test_array.shape)"
   ]
  },
  {
   "cell_type": "code",
   "execution_count": 17,
   "metadata": {},
   "outputs": [
    {
     "name": "stdout",
     "output_type": "stream",
     "text": [
      "_________________________________________________________________\n",
      "Layer (type)                 Output Shape              Param #   \n",
      "=================================================================\n",
      "conv2d_1 (Conv2D)            (None, 127, 1721, 32)     320       \n",
      "_________________________________________________________________\n",
      "max_pooling2d_1 (MaxPooling2 (None, 63, 860, 32)       0         \n",
      "_________________________________________________________________\n",
      "conv2d_2 (Conv2D)            (None, 61, 858, 64)       18496     \n",
      "_________________________________________________________________\n",
      "max_pooling2d_2 (MaxPooling2 (None, 30, 429, 64)       0         \n",
      "_________________________________________________________________\n",
      "conv2d_3 (Conv2D)            (None, 28, 427, 128)      73856     \n",
      "_________________________________________________________________\n",
      "max_pooling2d_3 (MaxPooling2 (None, 14, 213, 128)      0         \n",
      "_________________________________________________________________\n",
      "conv2d_4 (Conv2D)            (None, 12, 211, 256)      295168    \n",
      "_________________________________________________________________\n",
      "max_pooling2d_4 (MaxPooling2 (None, 6, 105, 256)       0         \n",
      "_________________________________________________________________\n",
      "dropout_1 (Dropout)          (None, 6, 105, 256)       0         \n",
      "_________________________________________________________________\n",
      "flatten_1 (Flatten)          (None, 161280)            0         \n",
      "_________________________________________________________________\n",
      "dense_1 (Dense)              (None, 128)               20643968  \n",
      "_________________________________________________________________\n",
      "dropout_2 (Dropout)          (None, 128)               0         \n",
      "_________________________________________________________________\n",
      "dense_2 (Dense)              (None, 2)                 258       \n",
      "=================================================================\n",
      "Total params: 21,032,066\n",
      "Trainable params: 21,032,066\n",
      "Non-trainable params: 0\n",
      "_________________________________________________________________\n"
     ]
    }
   ],
   "source": [
    "#Red neuronal\n",
    "\n",
    "model = Sequential()\n",
    "model.add(Conv2D(32, kernel_size=(3, 3), activation='relu', input_shape=(alto,ancho,1)))\n",
    "model.add(MaxPooling2D(pool_size=(2, 2)))\n",
    "model.add(Conv2D(64, (3, 3), activation='relu'))\n",
    "model.add(MaxPooling2D(pool_size=(2, 2)))\n",
    "model.add(Conv2D(128, (3, 3), activation='relu'))\n",
    "model.add(MaxPooling2D(pool_size=(2, 2)))\n",
    "model.add(Conv2D(256, (3, 3), activation='relu'))\n",
    "model.add(MaxPooling2D(pool_size=(2, 2)))\n",
    "model.add(Dropout(0.25))\n",
    "model.add(Flatten())\n",
    "model.add(Dense(128, activation='relu'))\n",
    "model.add(Dropout(0.5))\n",
    "model.add(Dense(num_classes, activation='softmax'))\n",
    "\n",
    "model.summary()"
   ]
  },
  {
   "cell_type": "code",
   "execution_count": null,
   "metadata": {},
   "outputs": [],
   "source": []
  },
  {
   "cell_type": "code",
   "execution_count": 18,
   "metadata": {},
   "outputs": [],
   "source": [
    "model.compile(loss=keras.losses.categorical_crossentropy,\n",
    "              optimizer=keras.optimizers.Adadelta(),\n",
    "              metrics=['accuracy'])"
   ]
  },
  {
   "cell_type": "code",
   "execution_count": 19,
   "metadata": {},
   "outputs": [
    {
     "name": "stdout",
     "output_type": "stream",
     "text": [
      "Train on 107 samples, validate on 35 samples\n",
      "Epoch 1/10\n",
      "107/107 [==============================] - 37s 342ms/step - loss: 5.0531 - acc: 0.5047 - val_loss: 5.5262 - val_acc: 0.6571\n",
      "Epoch 2/10\n",
      "107/107 [==============================] - 33s 306ms/step - loss: 4.5191 - acc: 0.7196 - val_loss: 5.5262 - val_acc: 0.6571\n",
      "Epoch 3/10\n",
      "107/107 [==============================] - 34s 320ms/step - loss: 4.5191 - acc: 0.7196 - val_loss: 5.5262 - val_acc: 0.6571\n",
      "Epoch 4/10\n",
      "107/107 [==============================] - 36s 335ms/step - loss: 4.5191 - acc: 0.7196 - val_loss: 5.5262 - val_acc: 0.6571\n",
      "Epoch 5/10\n",
      "107/107 [==============================] - 34s 314ms/step - loss: 4.5191 - acc: 0.7196 - val_loss: 5.5262 - val_acc: 0.6571\n",
      "Epoch 6/10\n",
      "107/107 [==============================] - 33s 313ms/step - loss: 4.5191 - acc: 0.7196 - val_loss: 5.5262 - val_acc: 0.6571\n",
      "Epoch 7/10\n",
      "107/107 [==============================] - 32s 303ms/step - loss: 4.5191 - acc: 0.7196 - val_loss: 5.5262 - val_acc: 0.6571\n",
      "Epoch 8/10\n",
      "107/107 [==============================] - 32s 297ms/step - loss: 4.5191 - acc: 0.7196 - val_loss: 5.5262 - val_acc: 0.6571\n",
      "Epoch 9/10\n",
      "107/107 [==============================] - 32s 298ms/step - loss: 4.5191 - acc: 0.7196 - val_loss: 5.5262 - val_acc: 0.6571\n",
      "Epoch 10/10\n",
      "107/107 [==============================] - 32s 297ms/step - loss: 4.5191 - acc: 0.7196 - val_loss: 5.5262 - val_acc: 0.6571\n",
      "Test loss: 5.526204146657673\n",
      "Test accuracy: 0.6571428571428571\n"
     ]
    }
   ],
   "source": [
    "model.fit(Xdb_train_array, phq8_array_train,\n",
    "          batch_size=batch_size,\n",
    "          epochs=epochs,\n",
    "          verbose=1,\n",
    "          validation_data=(Xdb_test_array, phq8_array_test))\n",
    "score = model.evaluate(Xdb_test_array, phq8_array_test, verbose=0)\n",
    "print('Test loss:', score[0])\n",
    "print('Test accuracy:', score[1])"
   ]
  },
  {
   "cell_type": "code",
   "execution_count": null,
   "metadata": {},
   "outputs": [],
   "source": [
    "#prediccion = model.predict(Xdb_test, batch_size=batch_size, verbose=1, steps=None)"
   ]
  },
  {
   "cell_type": "code",
   "execution_count": null,
   "metadata": {},
   "outputs": [],
   "source": []
  },
  {
   "cell_type": "code",
   "execution_count": null,
   "metadata": {},
   "outputs": [],
   "source": []
  },
  {
   "cell_type": "code",
   "execution_count": null,
   "metadata": {},
   "outputs": [],
   "source": []
  },
  {
   "cell_type": "code",
   "execution_count": null,
   "metadata": {},
   "outputs": [],
   "source": []
  },
  {
   "cell_type": "code",
   "execution_count": null,
   "metadata": {},
   "outputs": [],
   "source": []
  },
  {
   "cell_type": "code",
   "execution_count": null,
   "metadata": {},
   "outputs": [],
   "source": []
  },
  {
   "cell_type": "code",
   "execution_count": null,
   "metadata": {},
   "outputs": [],
   "source": []
  },
  {
   "cell_type": "code",
   "execution_count": null,
   "metadata": {},
   "outputs": [],
   "source": []
  },
  {
   "cell_type": "code",
   "execution_count": null,
   "metadata": {},
   "outputs": [],
   "source": []
  },
  {
   "cell_type": "code",
   "execution_count": null,
   "metadata": {},
   "outputs": [],
   "source": []
  },
  {
   "cell_type": "code",
   "execution_count": null,
   "metadata": {},
   "outputs": [],
   "source": []
  },
  {
   "cell_type": "code",
   "execution_count": null,
   "metadata": {},
   "outputs": [],
   "source": []
  },
  {
   "cell_type": "code",
   "execution_count": null,
   "metadata": {},
   "outputs": [],
   "source": []
  }
 ],
 "metadata": {
  "kernelspec": {
   "display_name": "Python 3",
   "language": "python",
   "name": "python3"
  },
  "language_info": {
   "codemirror_mode": {
    "name": "ipython",
    "version": 3
   },
   "file_extension": ".py",
   "mimetype": "text/x-python",
   "name": "python",
   "nbconvert_exporter": "python",
   "pygments_lexer": "ipython3",
   "version": "3.6.6"
  }
 },
 "nbformat": 4,
 "nbformat_minor": 2
}
