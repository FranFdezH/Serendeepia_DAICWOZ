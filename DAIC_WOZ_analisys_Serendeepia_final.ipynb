{
  "nbformat": 4,
  "nbformat_minor": 0,
  "metadata": {
    "colab": {
      "name": "DAIC_WOZ analisys_Serendeepia_v2.ipynb",
      "version": "0.3.2",
      "provenance": []
    },
    "kernelspec": {
      "display_name": "Python 3",
      "language": "python",
      "name": "python3"
    }
  },
  "cells": [
    {
      "metadata": {
        "id": "9LWu7VlM4BM3",
        "colab_type": "text"
      },
      "cell_type": "markdown",
      "source": [
        "# Depression detection in elderly people\n",
        "\n",
        "This project is property of Sereendepia Research (http://serendeepia.com/) and supervised by its team of experts Jorge Muñoz (CEO), Javier Ordoñez (CIO) and Raul Arrabales (CBDO) who helped me to develop this project as a Minimum Viable Product. I was able to work with this team of experts by making an intership in this company, as part of my Master's degree in Artificial intelligence in the International University of La Rioja (UNIR).\n",
        "\n",
        "The aim of this project is to create a virtual robot to detect depression traits in elderly people at home, that can be created for instance when they are alone.\n",
        "\n",
        "To detect depression traits we have used the DAIC-WOZ database from the University of Southern California, which has 189 participants with audio recordings and transcripts, and the PHQ-8 score associated to each particpant.\n",
        "\n",
        "\n"
      ]
    },
    {
      "metadata": {
        "id": "P73PxJN8b7Up",
        "colab_type": "text"
      },
      "cell_type": "markdown",
      "source": [
        "## Work plan of this project\n",
        "\n",
        "1. Gathering data about depression traits and develop and working plan.\n",
        "\n",
        "2. Analyze the database.\n",
        "\n",
        "3. Tensorflow modelling.\n",
        "\n",
        "4. Training and validation\n",
        "\n",
        "5. Design, parameters, hyperparameters and algorithm selection."
      ]
    },
    {
      "metadata": {
        "id": "sf-7tn_qLD4v",
        "colab_type": "text"
      },
      "cell_type": "markdown",
      "source": [
        "### Preparing the enviroment"
      ]
    },
    {
      "metadata": {
        "id": "6uR_mjCYu890",
        "colab_type": "code",
        "outputId": "5ff60f66-57fa-4200-f8cb-a3f03a464436",
        "colab": {
          "base_uri": "https://localhost:8080/",
          "height": 386
        }
      },
      "cell_type": "code",
      "source": [
        "!pip install librosa\n",
        "!pip install pydub\n",
        "!pip install pydrive"
      ],
      "execution_count": 5,
      "outputs": [
        {
          "output_type": "stream",
          "text": [
            "Requirement already satisfied: librosa in /usr/local/lib/python3.6/dist-packages (0.6.2)\n",
            "Requirement already satisfied: audioread>=2.0.0 in /usr/local/lib/python3.6/dist-packages (from librosa) (2.1.6)\n",
            "Requirement already satisfied: numpy>=1.8.0 in /usr/local/lib/python3.6/dist-packages (from librosa) (1.14.6)\n",
            "Requirement already satisfied: scipy>=0.14.0 in /usr/local/lib/python3.6/dist-packages (from librosa) (1.1.0)\n",
            "Requirement already satisfied: scikit-learn!=0.19.0,>=0.14.0 in /usr/local/lib/python3.6/dist-packages (from librosa) (0.20.1)\n",
            "Requirement already satisfied: joblib>=0.12 in /usr/local/lib/python3.6/dist-packages (from librosa) (0.13.0)\n",
            "Requirement already satisfied: decorator>=3.0.0 in /usr/local/lib/python3.6/dist-packages (from librosa) (4.3.0)\n",
            "Requirement already satisfied: six>=1.3 in /usr/local/lib/python3.6/dist-packages (from librosa) (1.11.0)\n",
            "Requirement already satisfied: resampy>=0.2.0 in /usr/local/lib/python3.6/dist-packages (from librosa) (0.2.1)\n",
            "Requirement already satisfied: numba>=0.38.0 in /usr/local/lib/python3.6/dist-packages (from librosa) (0.40.1)\n",
            "Requirement already satisfied: llvmlite>=0.25.0dev0 in /usr/local/lib/python3.6/dist-packages (from numba>=0.38.0->librosa) (0.26.0)\n",
            "Requirement already satisfied: pydub in /usr/local/lib/python3.6/dist-packages (0.23.0)\n",
            "Requirement already satisfied: pydrive in /usr/local/lib/python3.6/dist-packages (1.3.1)\n",
            "Requirement already satisfied: PyYAML>=3.0 in /usr/local/lib/python3.6/dist-packages (from pydrive) (3.13)\n",
            "Requirement already satisfied: google-api-python-client>=1.2 in /usr/local/lib/python3.6/dist-packages (from pydrive) (1.6.7)\n",
            "Requirement already satisfied: oauth2client>=4.0.0 in /usr/local/lib/python3.6/dist-packages (from pydrive) (4.1.3)\n",
            "Requirement already satisfied: uritemplate<4dev,>=3.0.0 in /usr/local/lib/python3.6/dist-packages (from google-api-python-client>=1.2->pydrive) (3.0.0)\n",
            "Requirement already satisfied: six<2dev,>=1.6.1 in /usr/local/lib/python3.6/dist-packages (from google-api-python-client>=1.2->pydrive) (1.11.0)\n",
            "Requirement already satisfied: httplib2<1dev,>=0.9.2 in /usr/local/lib/python3.6/dist-packages (from google-api-python-client>=1.2->pydrive) (0.11.3)\n",
            "Requirement already satisfied: pyasn1-modules>=0.0.5 in /usr/local/lib/python3.6/dist-packages (from oauth2client>=4.0.0->pydrive) (0.2.2)\n",
            "Requirement already satisfied: rsa>=3.1.4 in /usr/local/lib/python3.6/dist-packages (from oauth2client>=4.0.0->pydrive) (4.0)\n",
            "Requirement already satisfied: pyasn1>=0.1.7 in /usr/local/lib/python3.6/dist-packages (from oauth2client>=4.0.0->pydrive) (0.4.4)\n"
          ],
          "name": "stdout"
        }
      ]
    },
    {
      "metadata": {
        "id": "_LFleaBCoWE4",
        "colab_type": "code",
        "outputId": "4ef5fd16-db26-4f17-a0a8-e934f0507915",
        "colab": {
          "base_uri": "https://localhost:8080/",
          "height": 67
        }
      },
      "cell_type": "code",
      "source": [
        "from pydub import AudioSegment\n",
        "from scipy import signal\n",
        "import pandas as pd\n",
        "import numpy as np\n",
        "import statistics as stats\n",
        "import matplotlib.pyplot as plt\n",
        "from scipy import signal\n",
        "from scipy.io import wavfile\n",
        "import librosa\n",
        "from librosa import display\n",
        "import pandas as pd\n",
        "from sklearn.metrics import confusion_matrix\n",
        "import keras\n",
        "from keras.datasets import fashion_mnist\n",
        "from keras.datasets import mnist\n",
        "from keras.models import Sequential\n",
        "from keras.layers import Dense, Dropout, Flatten, BatchNormalization, Embedding\n",
        "from keras.layers import Conv2D, MaxPooling2D, ConvLSTM2D, LSTM, Bidirectional\n",
        "from keras.optimizers import sgd\n",
        "import tensorflow as tf\n",
        "import numpy as np\n",
        "import itertools\n",
        "import math\n",
        "import time"
      ],
      "execution_count": 0,
      "outputs": [
        {
          "output_type": "stream",
          "text": [
            "/usr/local/lib/python3.6/dist-packages/pydub/utils.py:165: RuntimeWarning: Couldn't find ffmpeg or avconv - defaulting to ffmpeg, but may not work\n",
            "  warn(\"Couldn't find ffmpeg or avconv - defaulting to ffmpeg, but may not work\", RuntimeWarning)\n",
            "Using TensorFlow backend.\n"
          ],
          "name": "stderr"
        }
      ]
    },
    {
      "metadata": {
        "id": "VvE5Yd1sqK3C",
        "colab_type": "code",
        "outputId": "7513af9a-a486-41d4-ab58-92436e0a02ce",
        "colab": {
          "base_uri": "https://localhost:8080/",
          "height": 121
        }
      },
      "cell_type": "code",
      "source": [
        "# Mount google drive to access DAIC-WOZ database \n",
        "\n",
        "from google.colab import drive\n",
        "drive.mount('/content/drive',force_remount=True)"
      ],
      "execution_count": 1,
      "outputs": [
        {
          "output_type": "stream",
          "text": [
            "Go to this URL in a browser: https://accounts.google.com/o/oauth2/auth?client_id=947318989803-6bn6qk8qdgf4n4g3pfee6491hc0brc4i.apps.googleusercontent.com&redirect_uri=urn%3Aietf%3Awg%3Aoauth%3A2.0%3Aoob&scope=email%20https%3A%2F%2Fwww.googleapis.com%2Fauth%2Fdocs.test%20https%3A%2F%2Fwww.googleapis.com%2Fauth%2Fdrive%20https%3A%2F%2Fwww.googleapis.com%2Fauth%2Fdrive.photos.readonly%20https%3A%2F%2Fwww.googleapis.com%2Fauth%2Fpeopleapi.readonly&response_type=code\n",
            "\n",
            "Enter your authorization code:\n",
            "··········\n",
            "Mounted at /content/drive\n"
          ],
          "name": "stdout"
        }
      ]
    },
    {
      "metadata": {
        "id": "C0b_LVYrRmXg",
        "colab_type": "text"
      },
      "cell_type": "markdown",
      "source": [
        "### Function definition to calculate spectograms and confussion matrix"
      ]
    },
    {
      "metadata": {
        "id": "uPjrI77UoWFD",
        "colab_type": "code",
        "colab": {}
      },
      "cell_type": "code",
      "source": [
        "#Compute spectogram of each audio\n",
        "\n",
        "SR = 22050\n",
        "def get_short_time_fourier_transform(soundwave):\n",
        "    return librosa.stft(soundwave, n_fft=256)\n",
        "\n",
        "def short_time_fourier_transform_amplitude_to_db(stft):\n",
        "    return librosa.amplitude_to_db(stft)\n",
        "\n",
        "def soundwave_to_np_spectogram(soundwave):\n",
        "    step1 = get_short_time_fourier_transform(soundwave)\n",
        "    step2 = short_time_fourier_transform_amplitude_to_db(step1)\n",
        "    step3 = step2/100\n",
        "    return step3\n",
        "\n",
        "def inspect_data(sound):\n",
        "#    plt.figure()\n",
        "#    plt.plot(sound)\n",
        "#    IPython.display.display(IPython.display.Audio(sound, rate=SR))\n",
        "    a = get_short_time_fourier_transform(sound)\n",
        "    Xdb = short_time_fourier_transform_amplitude_to_db(a)\n",
        "#    plt.figure()   \n",
        "#    plt.imshow(Xdb)    \n",
        "#    plt.show()\n",
        "#    print (Xdb.shape)\n",
        "#    print(\"Length per sample: %d, shape of spectogram: %s, max: %f min: %f\" % (len(sound), str(Xdb.shape), Xdb.max(), Xdb.min()))\n",
        "    return Xdb"
      ],
      "execution_count": 0,
      "outputs": []
    },
    {
      "metadata": {
        "id": "8NN6jFb2oWFI",
        "colab_type": "code",
        "colab": {}
      },
      "cell_type": "code",
      "source": [
        "def plot_confusion_matrix(cm, classes,\n",
        "                          normalize=False,\n",
        "                          title='Confusion matrix',\n",
        "                          cmap=plt.cm.Blues):\n",
        "    \"\"\"\n",
        "    This function prints and plots the confusion matrix.\n",
        "    Normalization can be applied by setting `normalize=True`.\n",
        "    \"\"\"\n",
        "    if normalize:\n",
        "        cm = cm.astype('float') / cm.sum(axis=1)[:, np.newaxis]\n",
        "        print(\"Normalized confusion matrix\")\n",
        "    else:\n",
        "        print('Confusion matrix, without normalization')\n",
        "\n",
        "    print(cm)\n",
        "\n",
        "    plt.imshow(cm, interpolation='nearest', cmap=cmap)\n",
        "    plt.title(title)\n",
        "    plt.colorbar()\n",
        "    tick_marks = np.arange(len(classes))\n",
        "    plt.xticks(tick_marks, classes, rotation=45)\n",
        "    plt.yticks(tick_marks, classes)\n",
        "\n",
        "    fmt = '.2f' if normalize else 'd'\n",
        "    thresh = cm.max() / 2.\n",
        "    for i, j in itertools.product(range(cm.shape[0]), range(cm.shape[1])):\n",
        "        plt.text(j, i, format(cm[i, j], fmt),\n",
        "                 horizontalalignment=\"center\",\n",
        "                 color=\"white\" if cm[i, j] > thresh else \"black\")\n",
        "\n",
        "    plt.ylabel('True label')\n",
        "    plt.xlabel('Predicted label')\n",
        "    plt.tight_layout()"
      ],
      "execution_count": 0,
      "outputs": []
    },
    {
      "metadata": {
        "id": "N-barzgFR5cY",
        "colab_type": "text"
      },
      "cell_type": "markdown",
      "source": [
        "### Create the arrays that contain the information that will be used to train the system, such as the processed audios and number tag of each participant."
      ]
    },
    {
      "metadata": {
        "id": "7fYg-QUroWFK",
        "colab_type": "code",
        "colab": {}
      },
      "cell_type": "code",
      "source": [
        "#Variable creation. They will contain the information neccesary to train the system.\n",
        "\n",
        "i = 0\n",
        "j = 0\n",
        "k = 0\n",
        "number_list_train = ['']\n",
        "number_list_test = ['']\n",
        "file_count = 60\n",
        "file_count2 = 35\n",
        "input_array_train = ['']\n",
        "phq8_array_train = ['']\n",
        "input_array_train *= file_count\n",
        "phq8_array_train *= file_count\n",
        "number_list_train *= file_count\n",
        "input_array_test = ['']\n",
        "phq8_array_test = ['']\n",
        "input_array_test *= file_count2\n",
        "phq8_array_test *= file_count2\n",
        "number_list_test *= file_count2"
      ],
      "execution_count": 0,
      "outputs": []
    },
    {
      "metadata": {
        "id": "5DWbJ4ijEVY1",
        "colab_type": "text"
      },
      "cell_type": "markdown",
      "source": [
        "### Segmentation of .wav from the DAIC-WOZ database\n",
        "\n",
        "The segmentation is done using the transcript that the database provides for each participant, is this transcript would not exists, a speaker diarization library should be used.\n",
        "\n",
        "This way we get .wav files that only contains the audio from each participant, erasing the interviewer´s audio, which is irrelevant for this project. We do this to achieve better performance in the training and validation of the system."
      ]
    },
    {
      "metadata": {
        "id": "Cvcl7NBqoWFQ",
        "colab_type": "code",
        "colab": {}
      },
      "cell_type": "code",
      "source": [
        "number = 0\n",
        "l = 0\n",
        "m = 0\n",
        "\n",
        "# Open data file, which contains the particpants used in the training\n",
        "\n",
        "data = open('C:/Users/Fran/Desktop/Database/datos1.txt', 'r', encoding='utf-8-sig')\n",
        "\n",
        "# Segmentate using the time info of the transcript of each participant, also concatenate\n",
        "# each segmented audio to the end of the sums of all audios, to create a .wzv that only contains\n",
        "# the audio from the particpant. The audio from the interviewer gets erased using this segmentation.\n",
        "\n",
        "# The following code is for the train set.\n",
        "\n",
        "for line in data:\n",
        "    mylist = line.split(',')\n",
        "    number = mylist[0]\n",
        "    \n",
        "    # Open .wav files\n",
        "    df = pd.read_csv('C:/Users/Fran/Desktop/Database/' + str(number) + '_P/' \n",
        "                     + str(number) + '_TRANSCRIPT.csv', header=0)\n",
        "    while i < len (df):\n",
        "        a = df.iloc[i].str.split()\n",
        "        if a[0][2] == 'Participant' and j == 0: \n",
        "            newAudio = AudioSegment.from_wav('C:/Users/Fran/Desktop/Database/' \n",
        "                                             + str(number) + '_P/' + str(number) + '_AUDIO.wav')\n",
        "            t1 = int(float(a[0][0]) * 1000)\n",
        "            t2 = int(float(a[0][1]) * 1000)\n",
        "            newAudio = newAudio[t1:t2]\n",
        "            newAudio.export('C:/Users/Fran/Desktop/prueba/' + str(number) + '.wav', format=\"wav\")\n",
        "            j = 1\n",
        "        elif a[0][2] == 'Participant':\n",
        "            \n",
        "            newAudio = AudioSegment.from_wav('C:/Users/Fran/Desktop/Database/' \n",
        "                                             + str(number) + '_P/' + str(number) + '_AUDIO.wav')\n",
        "            t1 = int(float(a[0][0]) * 1000)\n",
        "            t2 = int(float(a[0][1]) * 1000)\n",
        "            newAudio = newAudio[t1:t2]\n",
        "            newAudio.export('C:/Users/Fran/Desktop/prueba/' + str(number) + 'segmento.wav', format=\"wav\")\n",
        "            sound1 = AudioSegment.from_wav('C:/Users/Fran/Desktop/prueba/' + str(number) + '.wav')\n",
        "            sound2 = AudioSegment.from_wav('C:/Users/Fran/Desktop/prueba/' + str(number) + 'segmento.wav')\n",
        "\n",
        "            combined_sounds = sound1 + sound2\n",
        "            combined_sounds.export('C:/Users/Fran/Desktop/prueba/' + str(number) + '.wav', format=\"wav\")\n",
        "        i += 1\n",
        "\n",
        "# Complete the variables created with the information needed, .wav, number tag of the participant.\n",
        "\n",
        "    w = AudioSegment.from_wav('C:/Users/Fran/Desktop/Database/' + str(number) + '_P/' + str(number) + '_AUDIO.wav')\n",
        "    input_array_train[l] = w\n",
        "    number_list_train[l] = number\n",
        "    phq8_array_train[l] = mylist[1]\n",
        "    l += 1\n",
        "    j = 0\n",
        "    i = 0\n",
        "    \n"
      ],
      "execution_count": 0,
      "outputs": []
    },
    {
      "metadata": {
        "id": "IvmuPyBPoWGF",
        "colab_type": "code",
        "colab": {}
      },
      "cell_type": "code",
      "source": [
        "i = 0\n",
        "l = 0\n",
        "m = 0\n",
        "\n",
        "# Open data file, which contains the particpants used in the validation \n",
        "\n",
        "data1 = open('C:/Users/Fran/Desktop/Database/datos2_dev.txt', 'r', encoding='utf-8-sig')\n",
        "\n",
        "# Segmentate using the time info of the transcript of each participant, also concatenate\n",
        "# each segmented audio to the end of the sums of all audios, to create a .wzv that only contains\n",
        "# the audio from the particpant. The audio from the interviewer gets erased using this segmentation.\n",
        "\n",
        "# The following code is for the validation set.\n",
        "\n",
        "for line in data1:\n",
        "    mylist = line.split(',')\n",
        "    number = mylist[0]\n",
        "    \n",
        "    # Open .wav files\n",
        "    df = pd.read_csv('C:/Users/Fran/Desktop/Database/' + str(number) + '_P/' \n",
        "                     + str(number) + '_TRANSCRIPT.csv', header=0)\n",
        "    while i < len (df):\n",
        "        a = df.iloc[i].str.split()\n",
        "        if a[0][2] == 'Participant' and j == 0: \n",
        "            newAudio = AudioSegment.from_wav('C:/Users/Fran/Desktop/Database/' \n",
        "                                             + str(number) + '_P/' + str(number) + '_AUDIO.wav')\n",
        "            t1 = int(float(a[0][0]) * 1000)\n",
        "            t2 = int(float(a[0][1]) * 1000)\n",
        "            newAudio = newAudio[t1:t2]\n",
        "            newAudio.export('C:/Users/Fran/Desktop/prueba_test/' + str(number) + '.wav', format=\"wav\")\n",
        "            j = 1\n",
        "        elif a[0][2] == 'Participant':\n",
        "            \n",
        "            newAudio = AudioSegment.from_wav('C:/Users/Fran/Desktop/Database/' \n",
        "                                             + str(number) + '_P/' + str(number) + '_AUDIO.wav')\n",
        "            t1 = int(float(a[0][0]) * 1000)\n",
        "            t2 = int(float(a[0][1]) * 1000)\n",
        "            newAudio = newAudio[t1:t2]\n",
        "            newAudio.export('C:/Users/Fran/Desktop/prueba_test/' + str(number) + 'segmento.wav', format=\"wav\")\n",
        "            sound1 = AudioSegment.from_wav('C:/Users/Fran/Desktop/prueba_test/' + str(number) + '.wav')\n",
        "            sound2 = AudioSegment.from_wav('C:/Users/Fran/Desktop/prueba_test/' + str(number) + 'segmento.wav')\n",
        "\n",
        "            combined_sounds = sound1 + sound2\n",
        "            combined_sounds.export('C:/Users/Fran/Desktop/prueba_test/' + str(number) + '.wav', format=\"wav\")\n",
        "        i += 1\n",
        "        \n",
        "# Complete the variables created with the information needed, .wav, number tag of the participant.\n",
        "\n",
        "    w = AudioSegment.from_wav('C:/Users/Fran/Desktop/Database/' + str(number) + '_P/' + str(number) + '_AUDIO.wav')\n",
        "    input_array_test[l] = w\n",
        "    number_list_test[l] = number\n",
        "    phq8_array_test[l] = mylist[1]\n",
        "    l += 1\n",
        "    j = 0\n",
        "    i = 0 "
      ],
      "execution_count": 0,
      "outputs": []
    },
    {
      "metadata": {
        "id": "z23XenkKEgcI",
        "colab_type": "text"
      },
      "cell_type": "markdown",
      "source": [
        "### Calculation of the length of each segmented audio.\n",
        "\n",
        "This information could be used in the future to create windows of a certain lenght of audio of each segmented and processed audio."
      ]
    },
    {
      "metadata": {
        "id": "QoaKoHAAoWGR",
        "colab_type": "code",
        "colab": {}
      },
      "cell_type": "code",
      "source": [
        "l = 0\n",
        "data = open('/content/drive/My Drive/datos1_prueba.txt', 'r', encoding='utf-8-sig')\n",
        "for line in data:\n",
        "    mylist = line.split(',')\n",
        "    number = mylist[0]\n",
        "    #w = AudioSegment.from_wav('C:/Users/Fran/Desktop/Database/' + str(number) + '_P/' + str(number) + '_AUDIO.wav')\n",
        "    #input_array_train[l] = w\n",
        "    number_list_train[l] = number\n",
        "    phq8_array_train[l] = mylist[1]\n",
        "    l += 1\n",
        "    \n",
        "l = 0\n",
        "data1 = open('/content/drive/My Drive/datos2_dev.txt', 'r', encoding='utf-8-sig')\n",
        "for line in data1:\n",
        "    mylist = line.split(',')\n",
        "    number = mylist[0]\n",
        "    #w = AudioSegment.from_wav('C:/Users/Fran/Desktop/Database/' + str(number) + '_P/' + str(number) + '_AUDIO.wav')\n",
        "    #input_array_test[l] = w\n",
        "    number_list_test[l] = number\n",
        "    phq8_array_test[l] = mylist[1]\n",
        "    l += 1"
      ],
      "execution_count": 0,
      "outputs": []
    },
    {
      "metadata": {
        "id": "XtPdO5V-oWGg",
        "colab_type": "code",
        "colab": {}
      },
      "cell_type": "code",
      "source": [
        "# Calculation of .wav leght so we can move de time window from the start to the end without any problems\n",
        "\n",
        "len_list_train = ['']\n",
        "len_list_test = ['']\n",
        "len_list_train *= file_count\n",
        "len_list_test *= file_count2\n",
        "i = 0\n",
        "j = 0\n",
        "\n",
        "\n",
        "for audio_number in number_list_train:\n",
        "    Audio_train = AudioSegment.from_wav('/content/drive/My Drive/prueba/' + str(audio_number) + '.wav')\n",
        "    len_list_train[i] = int(len(Audio_train) / (1000))\n",
        "    i += 1\n",
        "    \n",
        "    \n",
        "for audio_number in number_list_test:\n",
        "    Audio_test = AudioSegment.from_wav('/content/drive/My Drive/prueba_test/' + str(audio_number) + '.wav')\n",
        "    len_list_test[j] = int(len(Audio_test) / (1000))\n",
        "    j += 1\n",
        "    \n"
      ],
      "execution_count": 0,
      "outputs": []
    },
    {
      "metadata": {
        "id": "bCy2Cel6EyZP",
        "colab_type": "text"
      },
      "cell_type": "markdown",
      "source": [
        "### Data Augmentation \n",
        "\n",
        "We use data augmentation to increase the number of samples to train the system. We take a time window and move it along the .wav that was segmented. We can create as many windows as we want, in this case we create 10 samples of each segmented .wav file. Also we add the PHQ-8 score (predicted value) of each new sample."
      ]
    },
    {
      "metadata": {
        "id": "MK669A65oWGv",
        "colab_type": "code",
        "colab": {}
      },
      "cell_type": "code",
      "source": [
        "# Audio sample creation in each .wav file by moving the timw window along the .wav\n",
        "# The length of the time window can vary and can be adjusted, also the number of samples of each .wav file\n",
        "# can be increased or decreased\n",
        "\n",
        "t1_train_ini = 5 * 1000\n",
        "t1_test_ini = 5 * 1000\n",
        "t2_train_end = 8 * 1000\n",
        "t2_test_end = 8 * 1000\n",
        "i = 0\n",
        "for audio_number in number_list_train:  \n",
        "    i = 0\n",
        "    while i<10:\n",
        "        Audio_train = AudioSegment.from_wav('/content/drive/My Drive/prueba/' + str(audio_number) + '.wav')\n",
        "        t1_train_ini_ = t1_train_ini + ((i*3)+(i))*1000\n",
        "        t2_train_end_ = t2_train_end + ((i*3)+(i))*1000\n",
        "        Audio_train = Audio_train[t1_train_ini_:t2_train_end_]\n",
        "        Audio_train.export('/content/drive/My Drive/database_train/' + str(audio_number) + '_' + str(i) + '.wav', format=\"wav\")\n",
        "        i += 1\n",
        "        time.sleep(1)\n",
        "\n",
        "t1_train_ini = 5 * 1000\n",
        "t1_test_ini = 5 * 1000\n",
        "t2_train_end = 8 * 1000\n",
        "t2_test_end = 8 * 1000\n",
        "i = 0   \n",
        "for audio_number in number_list_test:\n",
        "    i = 0\n",
        "    while i<10:\n",
        "        Audio_test = AudioSegment.from_wav('/content/drive/My Drive/prueba_test/' + str(audio_number) + '.wav')\n",
        "        t1_train_ini_ = t1_train_ini + ((i*3)+(i))*1000\n",
        "        t2_train_end_ = t2_train_end + ((i*3)+(i))*1000\n",
        "        Audio_test = Audio_test[t1_train_ini_:t2_train_end_]\n",
        "        Audio_test.export('/content/drive/My Drive/database_test/' + str(audio_number) + '_' + str(i) + '.wav', format=\"wav\")\n",
        "        time.sleep(1)\n",
        "        i += 1"
      ],
      "execution_count": 0,
      "outputs": []
    },
    {
      "metadata": {
        "id": "JpHxT0vHunTl",
        "colab_type": "code",
        "colab": {}
      },
      "cell_type": "code",
      "source": [
        "#data augmentation PHQ-8 score (predicted value)\n",
        "\n",
        "multiplier = 10\n",
        "phq8_array_train_extended = np.ndarray(shape = (60*multiplier,1))\n",
        "phq8_array_test_extended = np.ndarray(shape = (35*multiplier,1))\n",
        "i = 0\n",
        "j = 0\n",
        "for valor in phq8_array_train:\n",
        "    while i < multiplier:\n",
        "        phq8_array_train_extended[j] = valor\n",
        "        i += 1\n",
        "        j += 1\n",
        "    i = 0\n",
        "\n",
        "i = 0\n",
        "j = 0\n",
        "for valor in phq8_array_test:\n",
        "    while i < multiplier:\n",
        "        phq8_array_test_extended[j] = valor\n",
        "        i += 1\n",
        "        j += 1\n",
        "    i = 0"
      ],
      "execution_count": 0,
      "outputs": []
    },
    {
      "metadata": {
        "id": "qObmqltPE_cD",
        "colab_type": "text"
      },
      "cell_type": "markdown",
      "source": [
        "### Spectograms calculation of each sample of audio\n",
        "\n",
        "The spectogram shows the information of the audio in the frequency domain, as it is shown in the next example. The frequencies shown are up to ~3600 MHz, the information shown above that frequency is not interesting for this project so we eliminate tis part of each spectogram."
      ]
    },
    {
      "metadata": {
        "id": "hJe_WzHcy5Pw",
        "colab_type": "code",
        "colab": {}
      },
      "cell_type": "code",
      "source": [
        "# Read the audio sample and calulate the normalized spectogram\n",
        "\n",
        "X, sr = librosa.load('/content/drive/My Drive/database_train/' + '303' + '_' + '0' + '.wav')\n",
        "prueba = soundwave_to_np_spectogram(X)"
      ],
      "execution_count": 0,
      "outputs": []
    },
    {
      "metadata": {
        "id": "uPSua0_KUbTk",
        "colab_type": "code",
        "outputId": "420e6d87-ca4a-4610-ff65-a087b355177e",
        "colab": {
          "base_uri": "https://localhost:8080/",
          "height": 401
        }
      },
      "cell_type": "code",
      "source": [
        "# Show the spectogram\n",
        "\n",
        "librosa.display.specshow(prueba,\n",
        "                         y_axis='mel',\n",
        "                         x_axis='time')\n",
        "plt.colorbar(format='%+2.0f dB')\n",
        "plt.title('Mel spectrogram')\n",
        "plt.tight_layout()"
      ],
      "execution_count": 0,
      "outputs": [
        {
          "output_type": "display_data",
          "data": {
            "image/png": "[encoded data removed]",
            "text/plain": [
              "<matplotlib.figure.Figure at 0x7f7208457048>"
            ]
          },
          "metadata": {
            "tags": []
          }
        }
      ]
    },
    {
      "metadata": {
        "id": "7PH4kO6QoWG0",
        "colab_type": "code",
        "outputId": "016283cb-3111-4129-aa54-e28ff433f633",
        "colab": {
          "base_uri": "https://localhost:8080/",
          "height": 50
        }
      },
      "cell_type": "code",
      "source": [
        "# Spectograms of each segmented audio\n",
        "\n",
        "\n",
        "Xdb_train = ['']\n",
        "Xdb_train_normalized = ['']\n",
        "Xdb_train *= file_count\n",
        "Xdb_train_normalized *= file_count\n",
        "\n",
        "Xdb_train *= 10\n",
        "\n",
        "Xdb_test = ['']\n",
        "Xdb_test_normalized = ['']\n",
        "Xdb_test *= file_count2\n",
        "Xdb_test_normalized *= file_count2\n",
        "\n",
        "Xdb_test *= 10\n",
        "\n",
        "i = 0\n",
        "j = 0\n",
        "for audio_train in number_list_train:\n",
        "    j = 0\n",
        "    while j<10:\n",
        "        X, sr = librosa.load('/content/drive/My Drive/database_train_0.3/' + str(audio_train) + '_' + str(j) + '.wav')\n",
        "        Xdb_train[i] = abs(soundwave_to_np_spectogram(X))\n",
        "        #Xdb_train_normalized[i] = tf.log(tf.abs(Xdb_train[i]) + 0.01)\n",
        "        i += 1\n",
        "        j += 1\n",
        "\n",
        "i = 0\n",
        "j = 0\n",
        "for audio_test in number_list_test:\n",
        "    j = 0\n",
        "    while j<10:\n",
        "        X, sr = librosa.load('/content/drive/My Drive/database_test_0.3/' + str(audio_test) + '_' + str(j) + '.wav')\n",
        "        Xdb_test[i] = abs(soundwave_to_np_spectogram(X))\n",
        "        #Xdb_test_normalized[i] = tf.log(tf.abs(Xdb_test[i]) + 0.01)\n",
        "        i += 1\n",
        "        j += 1"
      ],
      "execution_count": 0,
      "outputs": [
        {
          "output_type": "stream",
          "text": [
            "/usr/local/lib/python3.6/dist-packages/librosa/core/spectrum.py:960: UserWarning: amplitude_to_db was called on complex input so phase information will be discarded. To suppress this warning, call amplitude_to_db(np.abs(S)) instead.\n",
            "  warnings.warn('amplitude_to_db was called on complex input so phase '\n"
          ],
          "name": "stderr"
        }
      ]
    },
    {
      "metadata": {
        "id": "8zjgxVWuoWG5",
        "colab_type": "code",
        "colab": {}
      },
      "cell_type": "code",
      "source": [
        "# Size of the spectogram. Every sample has the same lenght so only 1 size is calculated.\n",
        "\n",
        "alto, ancho = np.shape(Xdb_train[0])"
      ],
      "execution_count": 0,
      "outputs": []
    },
    {
      "metadata": {
        "id": "tWS2EWfMFJUl",
        "colab_type": "text"
      },
      "cell_type": "markdown",
      "source": [
        "### Reshaping the data input to the system.\n",
        "\n",
        "We reshape the spectogram matrix to feed it in a LSTM network or a Convolutional network."
      ]
    },
    {
      "metadata": {
        "id": "5qeGY_K3oWJI",
        "colab_type": "code",
        "colab": {}
      },
      "cell_type": "code",
      "source": [
        "# Reshaping for a convolutional network\n",
        "\n",
        "multiplier = 10\n",
        "Xdb_train_array = np.ndarray(shape = (60*multiplier,95,ancho))\n",
        "Xdb_test_array = np.ndarray(shape = (35*multiplier,95,ancho))\n",
        "\n",
        "i = 0\n",
        "for train in Xdb_train:\n",
        "    Xdb_train_array[i] = train[0:95,:]\n",
        "    i += 1\n",
        "    \n",
        "i = 0\n",
        "for test in Xdb_test:\n",
        "    Xdb_test_array[i] = test[0:95,:]\n",
        "    i += 1\n",
        "    \n",
        "Xdb_train_array = Xdb_train_array.reshape(600,95, ancho, 1)\n",
        "Xdb_test_array = Xdb_test_array.reshape(350,95, ancho, 1)"
      ],
      "execution_count": 0,
      "outputs": []
    },
    {
      "metadata": {
        "id": "Xk0AsZ_EoWJU",
        "colab_type": "code",
        "colab": {}
      },
      "cell_type": "code",
      "source": [
        "# Reshaping for a LSTM network\n",
        "\n",
        "Xdb_train_array_lstm = np.ndarray(shape = (60*multiplier,95,ancho))\n",
        "Xdb_test_array_lstm = np.ndarray(shape = (35*multiplier,95,ancho))\n",
        "\n",
        "i = 0\n",
        "for train in Xdb_train:\n",
        "    Xdb_train_array_lstm[i] = train[0:95,:]\n",
        "    i += 1\n",
        "    \n",
        "i = 0\n",
        "for test in Xdb_test:\n",
        "    Xdb_test_array_lstm[i] = test[0:95,:]\n",
        "    i += 1\n",
        "    \n",
        "Xdb_train_array_lstm = Xdb_train_array_lstm.reshape(60*multiplier ,95*ancho)\n",
        "Xdb_test_array_lstm = Xdb_test_array_lstm.reshape(35*multiplier, 95*ancho)\n",
        "\n",
        "Xdb_train_array_lstm = np.reshape(Xdb_train_array_lstm, (Xdb_train_array_lstm.shape[0], 1, Xdb_train_array_lstm.shape[1]))\n",
        "Xdb_test_array_lstm = np.reshape(Xdb_test_array_lstm, (Xdb_test_array_lstm.shape[0], 1, Xdb_test_array_lstm.shape[1]))"
      ],
      "execution_count": 0,
      "outputs": []
    },
    {
      "metadata": {
        "id": "eX6EtlP-FV8u",
        "colab_type": "text"
      },
      "cell_type": "markdown",
      "source": [
        "### Creation of LSTM model and Convolutional model"
      ]
    },
    {
      "metadata": {
        "id": "3V_A5Vl0oWJ1",
        "colab_type": "code",
        "colab": {}
      },
      "cell_type": "code",
      "source": [
        "num_classes = 2\n",
        "batch_size = 64\n",
        "epochs = 10\n",
        "\n",
        "# convert class vectors to binary class matrices\n",
        "phq8_array_train = keras.utils.to_categorical(phq8_array_train_extended, num_classes)\n",
        "phq8_array_test = keras.utils.to_categorical(phq8_array_test_extended, num_classes)"
      ],
      "execution_count": 0,
      "outputs": []
    },
    {
      "metadata": {
        "id": "OV4tnuhhoWJy",
        "colab_type": "code",
        "outputId": "c6220712-d1e5-4ef3-e9b5-c4c2f555e110",
        "colab": {
          "base_uri": "https://localhost:8080/",
          "height": 470
        }
      },
      "cell_type": "code",
      "source": [
        "# Convolutional model\n",
        "\n",
        "model = Sequential()\n",
        "model.add(Conv2D(80, kernel_size=(3, 3), activation='relu', input_shape=(95,ancho,1)))\n",
        "model.add(MaxPooling2D(pool_size=(4, 3)))\n",
        "model.add(Conv2D(80, (3, 3), activation='relu'))\n",
        "model.add(MaxPooling2D(pool_size=(1, 3)))\n",
        "model.add(Flatten())\n",
        "model.add(Dense(256, activation='relu'))\n",
        "model.add(Dropout(0.5))\n",
        "model.add(Dense(256, activation='relu'))\n",
        "model.add(Dropout(0.5))\n",
        "model.add(Dense(num_classes, activation='softmax'))\n",
        "\n",
        "model.summary()\n",
        "\n",
        "model.compile(loss=keras.losses.categorical_crossentropy,\n",
        "              optimizer=keras.optimizers.Adadelta(),\n",
        "              metrics=['accuracy'])"
      ],
      "execution_count": 0,
      "outputs": [
        {
          "output_type": "stream",
          "text": [
            "_________________________________________________________________\n",
            "Layer (type)                 Output Shape              Param #   \n",
            "=================================================================\n",
            "conv2d_5 (Conv2D)            (None, 93, 102, 80)       800       \n",
            "_________________________________________________________________\n",
            "max_pooling2d_5 (MaxPooling2 (None, 23, 34, 80)        0         \n",
            "_________________________________________________________________\n",
            "conv2d_6 (Conv2D)            (None, 21, 32, 80)        57680     \n",
            "_________________________________________________________________\n",
            "max_pooling2d_6 (MaxPooling2 (None, 21, 10, 80)        0         \n",
            "_________________________________________________________________\n",
            "flatten_3 (Flatten)          (None, 16800)             0         \n",
            "_________________________________________________________________\n",
            "dense_8 (Dense)              (None, 256)               4301056   \n",
            "_________________________________________________________________\n",
            "dropout_6 (Dropout)          (None, 256)               0         \n",
            "_________________________________________________________________\n",
            "dense_9 (Dense)              (None, 256)               65792     \n",
            "_________________________________________________________________\n",
            "dropout_7 (Dropout)          (None, 256)               0         \n",
            "_________________________________________________________________\n",
            "dense_10 (Dense)             (None, 2)                 514       \n",
            "=================================================================\n",
            "Total params: 4,425,842\n",
            "Trainable params: 4,425,842\n",
            "Non-trainable params: 0\n",
            "_________________________________________________________________\n"
          ],
          "name": "stdout"
        }
      ]
    },
    {
      "metadata": {
        "id": "eUX7zRMvoWJ9",
        "colab_type": "code",
        "outputId": "77b67d56-44fe-4570-de9a-68ea4f6a2271",
        "colab": {
          "base_uri": "https://localhost:8080/",
          "height": 302
        }
      },
      "cell_type": "code",
      "source": [
        "# LSTM model\n",
        "\n",
        "model1 = Sequential()\n",
        "model1.add(Bidirectional(LSTM(128, return_sequences=True),\n",
        "                        input_shape=(1, 95*ancho)))\n",
        "model1.add(Bidirectional(LSTM(64)))\n",
        "model1.add(Dense(64, activation='relu'))\n",
        "model1.add(Dropout(0.2))\n",
        "model1.add(Dense(num_classes, activation='softmax'))\n",
        "\n",
        "model1.summary()\n",
        "model1.compile(loss=keras.losses.categorical_crossentropy,\n",
        "              optimizer=keras.optimizers.rmsprop(),\n",
        "              metrics=['accuracy'])\n",
        "#categorical_crossentropy\n"
      ],
      "execution_count": 0,
      "outputs": [
        {
          "output_type": "stream",
          "text": [
            "_________________________________________________________________\n",
            "Layer (type)                 Output Shape              Param #   \n",
            "=================================================================\n",
            "bidirectional_3 (Bidirection (None, 1, 256)            10249216  \n",
            "_________________________________________________________________\n",
            "bidirectional_4 (Bidirection (None, 128)               164352    \n",
            "_________________________________________________________________\n",
            "dense_11 (Dense)             (None, 64)                8256      \n",
            "_________________________________________________________________\n",
            "dropout_8 (Dropout)          (None, 64)                0         \n",
            "_________________________________________________________________\n",
            "dense_12 (Dense)             (None, 2)                 130       \n",
            "=================================================================\n",
            "Total params: 10,421,954\n",
            "Trainable params: 10,421,954\n",
            "Non-trainable params: 0\n",
            "_________________________________________________________________\n"
          ],
          "name": "stdout"
        }
      ]
    },
    {
      "metadata": {
        "id": "AOG1bmNz5E8V",
        "colab_type": "code",
        "colab": {}
      },
      "cell_type": "code",
      "source": [
        "model = Sequential()\n",
        "model.add(Bidirectional(LSTM(32, return_sequences=True,\n",
        "               input_shape=(1, alto*ancho))))  # returns a sequence of vectors of dimension 32\n",
        "model.add(Bidirectional(LSTM(32, return_sequences=True)))  # returns a sequence of vectors of dimension 32\n",
        "model.add(Bidirectional(LSTM(32)))  # return a single vector of dimension 32\n",
        "model.add(Dense(10, activation='softmax'))\n",
        "model.add(Dense(2, activation='softmax'))\n",
        "model.summary\n",
        "model.compile(loss='categorical_crossentropy',\n",
        "              optimizer='rmsprop',\n",
        "              metrics=['accuracy'])"
      ],
      "execution_count": 0,
      "outputs": []
    },
    {
      "metadata": {
        "id": "-GQ7jJAGFsif",
        "colab_type": "text"
      },
      "cell_type": "markdown",
      "source": [
        "### Training and validation phase"
      ]
    },
    {
      "metadata": {
        "id": "75Ft4JSmoWJ_",
        "colab_type": "code",
        "outputId": "0a25d547-a28b-4702-9bfc-d1d5c4ec5b9e",
        "colab": {
          "base_uri": "https://localhost:8080/",
          "height": 403
        }
      },
      "cell_type": "code",
      "source": [
        "model.fit(Xdb_train_array, phq8_array_train,\n",
        "          batch_size=batch_size,\n",
        "          epochs=epochs,\n",
        "          verbose=1,\n",
        "          validation_data=(Xdb_test_array, phq8_array_test))\n",
        "score = model.evaluate(Xdb_test_array, phq8_array_test, verbose=0)\n",
        "print('Test loss:', score[0])\n",
        "print('Test accuracy:', score[1])"
      ],
      "execution_count": 0,
      "outputs": [
        {
          "output_type": "stream",
          "text": [
            "Train on 600 samples, validate on 350 samples\n",
            "Epoch 1/10\n",
            "600/600 [==============================] - 18s 30ms/step - loss: 0.7030 - acc: 0.4850 - val_loss: 0.6900 - val_acc: 0.6571\n",
            "Epoch 2/10\n",
            "600/600 [==============================] - 16s 27ms/step - loss: 0.6949 - acc: 0.4900 - val_loss: 0.7117 - val_acc: 0.3429\n",
            "Epoch 3/10\n",
            "600/600 [==============================] - 16s 26ms/step - loss: 0.6942 - acc: 0.5000 - val_loss: 0.7002 - val_acc: 0.3429\n",
            "Epoch 4/10\n",
            "600/600 [==============================] - 16s 26ms/step - loss: 0.6976 - acc: 0.4900 - val_loss: 0.6971 - val_acc: 0.3429\n",
            "Epoch 5/10\n",
            "600/600 [==============================] - 16s 27ms/step - loss: 0.6932 - acc: 0.5000 - val_loss: 0.6946 - val_acc: 0.3429\n",
            "Epoch 6/10\n",
            "600/600 [==============================] - 16s 26ms/step - loss: 0.6928 - acc: 0.5100 - val_loss: 0.6857 - val_acc: 0.6571\n",
            "Epoch 7/10\n",
            "600/600 [==============================] - 16s 27ms/step - loss: 0.6951 - acc: 0.4767 - val_loss: 0.6927 - val_acc: 0.6457\n",
            "Epoch 8/10\n",
            "600/600 [==============================] - 16s 27ms/step - loss: 0.6948 - acc: 0.4583 - val_loss: 0.6931 - val_acc: 0.4829\n",
            "Epoch 9/10\n",
            "600/600 [==============================] - 16s 27ms/step - loss: 0.6934 - acc: 0.5017 - val_loss: 0.7079 - val_acc: 0.3429\n",
            "Epoch 10/10\n",
            "600/600 [==============================] - 16s 27ms/step - loss: 0.6949 - acc: 0.5033 - val_loss: 0.6923 - val_acc: 0.6600\n",
            "Test loss: 0.6922679390226092\n",
            "Test accuracy: 0.66\n"
          ],
          "name": "stdout"
        }
      ]
    },
    {
      "metadata": {
        "id": "d6kVLNvYoWKB",
        "colab_type": "code",
        "outputId": "ea76ba58-6b1e-40a4-efb7-34d0ec3eba03",
        "colab": {
          "base_uri": "https://localhost:8080/",
          "height": 403
        }
      },
      "cell_type": "code",
      "source": [
        "model1.fit(Xdb_train_array_lstm, phq8_array_train,\n",
        "          batch_size=batch_size,\n",
        "          epochs=epochs,\n",
        "          verbose=1,\n",
        "          validation_data=(Xdb_test_array_lstm, phq8_array_test))\n",
        "score = model1.evaluate(Xdb_test_array_lstm, phq8_array_test, verbose=0)\n",
        "print('Test loss:', score[0])\n",
        "print('Test accuracy:', score[1])"
      ],
      "execution_count": 0,
      "outputs": [
        {
          "output_type": "stream",
          "text": [
            "Train on 600 samples, validate on 350 samples\n",
            "Epoch 1/10\n",
            "600/600 [==============================] - 4s 6ms/step - loss: 0.6954 - acc: 0.4867 - val_loss: 0.6997 - val_acc: 0.3429\n",
            "Epoch 2/10\n",
            "600/600 [==============================] - 4s 7ms/step - loss: 0.6923 - acc: 0.5100 - val_loss: 0.6916 - val_acc: 0.6571\n",
            "Epoch 3/10\n",
            "600/600 [==============================] - 4s 7ms/step - loss: 0.6940 - acc: 0.5200 - val_loss: 0.6913 - val_acc: 0.6571\n",
            "Epoch 4/10\n",
            "600/600 [==============================] - 4s 7ms/step - loss: 0.6951 - acc: 0.4917 - val_loss: 0.6973 - val_acc: 0.3429\n",
            "Epoch 5/10\n",
            "600/600 [==============================] - 4s 7ms/step - loss: 0.6964 - acc: 0.4583 - val_loss: 0.6983 - val_acc: 0.3429\n",
            "Epoch 6/10\n",
            "600/600 [==============================] - 4s 7ms/step - loss: 0.6946 - acc: 0.4967 - val_loss: 0.6917 - val_acc: 0.6571\n",
            "Epoch 7/10\n",
            "600/600 [==============================] - 4s 7ms/step - loss: 0.6937 - acc: 0.5083 - val_loss: 0.6876 - val_acc: 0.6571\n",
            "Epoch 8/10\n",
            "600/600 [==============================] - 4s 7ms/step - loss: 0.6949 - acc: 0.4617 - val_loss: 0.6925 - val_acc: 0.6571\n",
            "Epoch 9/10\n",
            "600/600 [==============================] - 4s 7ms/step - loss: 0.6934 - acc: 0.4900 - val_loss: 0.6944 - val_acc: 0.3429\n",
            "Epoch 10/10\n",
            "600/600 [==============================] - 4s 7ms/step - loss: 0.6935 - acc: 0.4833 - val_loss: 0.6961 - val_acc: 0.3429\n",
            "Test loss: 0.6961409262248448\n",
            "Test accuracy: 0.34285714285714286\n"
          ],
          "name": "stdout"
        }
      ]
    },
    {
      "metadata": {
        "id": "NPLQngVAoWKH",
        "colab_type": "code",
        "colab": {}
      },
      "cell_type": "code",
      "source": [
        "prediccion = model.predict(Xdb_test_array, batch_size=batch_size, verbose=1, steps=None)\n",
        "for i in prediccion:\n",
        "    print('Valor predicho:', i)"
      ],
      "execution_count": 0,
      "outputs": []
    },
    {
      "metadata": {
        "id": "VOtUMVS7FvzR",
        "colab_type": "text"
      },
      "cell_type": "markdown",
      "source": [
        "### Confussion Matrix"
      ]
    },
    {
      "metadata": {
        "id": "U4oDk-O8oWKd",
        "colab_type": "code",
        "outputId": "a11bdd6d-76df-407e-fe0f-43e19b90cc44",
        "colab": {}
      },
      "cell_type": "code",
      "source": [
        "conf_matrix_pred = ['']\n",
        "conf_matrix_pred *= 35\n",
        "j = 0\n",
        "for i in prediccion:\n",
        "    conf_matrix_pred[j] = i.argmax(axis=0)\n",
        "    print (\"Clase: \" + str(i.argmax(axis=0)))\n",
        "    j += 1"
      ],
      "execution_count": 0,
      "outputs": [
        {
          "output_type": "stream",
          "text": [
            "Clase: 0\n",
            "Clase: 0\n",
            "Clase: 0\n",
            "Clase: 0\n",
            "Clase: 0\n",
            "Clase: 0\n",
            "Clase: 0\n",
            "Clase: 0\n",
            "Clase: 0\n",
            "Clase: 0\n",
            "Clase: 0\n",
            "Clase: 0\n",
            "Clase: 0\n",
            "Clase: 0\n",
            "Clase: 0\n",
            "Clase: 0\n",
            "Clase: 0\n",
            "Clase: 0\n",
            "Clase: 0\n",
            "Clase: 0\n",
            "Clase: 0\n",
            "Clase: 0\n",
            "Clase: 0\n",
            "Clase: 0\n",
            "Clase: 0\n",
            "Clase: 0\n",
            "Clase: 0\n",
            "Clase: 0\n",
            "Clase: 0\n",
            "Clase: 0\n",
            "Clase: 0\n",
            "Clase: 0\n",
            "Clase: 0\n",
            "Clase: 0\n",
            "Clase: 0\n"
          ],
          "name": "stdout"
        }
      ]
    },
    {
      "metadata": {
        "id": "Zc4mEIlHoWKf",
        "colab_type": "code",
        "outputId": "14ded6f2-ec48-4ea5-9635-67c81f13cee3",
        "colab": {}
      },
      "cell_type": "code",
      "source": [
        "conf_matrix_test = ['']\n",
        "conf_matrix_test *= 35\n",
        "j = 0\n",
        "for i in phq8_array_test:\n",
        "    conf_matrix_test[j] = i.argmax(axis=0)\n",
        "    print (\"Clase: \" + str(i.argmax(axis=0)))\n",
        "    j += 1"
      ],
      "execution_count": 0,
      "outputs": [
        {
          "output_type": "stream",
          "text": [
            "Clase: 0\n",
            "Clase: 0\n",
            "Clase: 0\n",
            "Clase: 1\n",
            "Clase: 1\n",
            "Clase: 1\n",
            "Clase: 1\n",
            "Clase: 1\n",
            "Clase: 0\n",
            "Clase: 1\n",
            "Clase: 1\n",
            "Clase: 0\n",
            "Clase: 0\n",
            "Clase: 0\n",
            "Clase: 0\n",
            "Clase: 0\n",
            "Clase: 1\n",
            "Clase: 0\n",
            "Clase: 1\n",
            "Clase: 0\n",
            "Clase: 1\n",
            "Clase: 0\n",
            "Clase: 0\n",
            "Clase: 1\n",
            "Clase: 0\n",
            "Clase: 0\n",
            "Clase: 0\n",
            "Clase: 0\n",
            "Clase: 0\n",
            "Clase: 0\n",
            "Clase: 1\n",
            "Clase: 0\n",
            "Clase: 0\n",
            "Clase: 0\n",
            "Clase: 0\n"
          ],
          "name": "stdout"
        }
      ]
    },
    {
      "metadata": {
        "id": "7qCt-AzLoWKm",
        "colab_type": "code",
        "colab": {}
      },
      "cell_type": "code",
      "source": [
        "cnf_matrix = confusion_matrix(conf_matrix_test,conf_matrix_pred)"
      ],
      "execution_count": 0,
      "outputs": []
    },
    {
      "metadata": {
        "id": "uQOIhMYOoWKo",
        "colab_type": "code",
        "outputId": "d7c8cdcc-8103-45f8-d652-520d3ed09c6b",
        "colab": {}
      },
      "cell_type": "code",
      "source": [
        "plot_confusion_matrix(cnf_matrix, classes=['No depresion','Depresion'],\n",
        "                      title='Confusion matrix')"
      ],
      "execution_count": 0,
      "outputs": [
        {
          "output_type": "stream",
          "text": [
            "Confusion matrix, without normalization\n",
            "[[23  0]\n",
            " [12  0]]\n"
          ],
          "name": "stdout"
        },
        {
          "output_type": "display_data",
          "data": {
            "image/png": "[encoded data removed]",
            "text/plain": [
              "<Figure size 432x288 with 2 Axes>"
            ]
          },
          "metadata": {
            "tags": [],
            "needs_background": "light"
          }
        }
      ]
    },
    {
      "metadata": {
        "id": "9eF4F00D3-v3",
        "colab_type": "text"
      },
      "cell_type": "markdown",
      "source": [
        ""
      ]
    }
  ]
}