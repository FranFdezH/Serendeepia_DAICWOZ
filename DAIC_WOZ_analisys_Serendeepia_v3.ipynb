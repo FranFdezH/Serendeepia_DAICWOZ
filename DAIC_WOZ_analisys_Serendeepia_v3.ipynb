{
  "nbformat": 4,
  "nbformat_minor": 0,
  "metadata": {
    "colab": {
      "name": "DAIC_WOZ analisys_Serendeepia_v2.ipynb",
      "version": "0.3.2",
      "provenance": []
    },
    "kernelspec": {
      "display_name": "Python 3",
      "language": "python",
      "name": "python3"
    }
  },
  "cells": [
    {
      "metadata": {
        "id": "_LFleaBCoWE4",
        "colab_type": "code",
        "colab": {}
      },
      "cell_type": "code",
      "source": [
        "from pydub import AudioSegment\n",
        "import pandas as pd\n",
        "import numpy as np\n",
        "import statistics as stats\n",
        "import matplotlib.pyplot as plt\n",
        "from scipy import signal\n",
        "from scipy.io import wavfile\n",
        "import librosa\n",
        "import pandas as pd\n",
        "from sklearn.metrics import confusion_matrix\n",
        "import keras\n",
        "from keras.datasets import fashion_mnist\n",
        "from keras.datasets import mnist\n",
        "from keras.models import Sequential\n",
        "from keras.layers import Dense, Dropout, Flatten, BatchNormalization, Embedding\n",
        "from keras.layers import Conv2D, MaxPooling2D, ConvLSTM2D, LSTM, Bidirectional\n",
        "from keras.optimizers import sgd\n",
        "import tensorflow as tf\n",
        "import numpy as np\n",
        "import itertools\n",
        "import math\n",
        "import time"
      ],
      "execution_count": 0,
      "outputs": []
    },
    {
      "metadata": {
        "id": "6uR_mjCYu890",
        "colab_type": "code",
        "outputId": "de0a98e6-de28-44c7-8466-d3ef9aa089c8",
        "colab": {
          "base_uri": "https://localhost:8080/",
          "height": 901
        }
      },
      "cell_type": "code",
      "source": [
        "!pip install librosa\n",
        "!pip install pydub\n",
        "!pip install pydrive"
      ],
      "execution_count": 1,
      "outputs": [
        {
          "output_type": "stream",
          "text": [
            "Collecting librosa\n",
            "\u001b[?25l  Downloading https://files.pythonhosted.org/packages/09/b4/5b411f19de48f8fc1a0ff615555aa9124952e4156e94d4803377e50cfa4c/librosa-0.6.2.tar.gz (1.6MB)\n",
            "\u001b[K    100% |████████████████████████████████| 1.6MB 13.1MB/s \n",
            "\u001b[?25hCollecting audioread>=2.0.0 (from librosa)\n",
            "  Downloading https://files.pythonhosted.org/packages/f0/41/8cd160c6b2046b997d571a744a7f398f39e954a62dd747b2aae1ad7f07d4/audioread-2.1.6.tar.gz\n",
            "Requirement already satisfied: numpy>=1.8.0 in /usr/local/lib/python3.6/dist-packages (from librosa) (1.14.6)\n",
            "Requirement already satisfied: scipy>=0.14.0 in /usr/local/lib/python3.6/dist-packages (from librosa) (1.1.0)\n",
            "Requirement already satisfied: scikit-learn!=0.19.0,>=0.14.0 in /usr/local/lib/python3.6/dist-packages (from librosa) (0.19.2)\n",
            "Requirement already satisfied: joblib>=0.12 in /usr/local/lib/python3.6/dist-packages (from librosa) (0.13.0)\n",
            "Requirement already satisfied: decorator>=3.0.0 in /usr/local/lib/python3.6/dist-packages (from librosa) (4.3.0)\n",
            "Requirement already satisfied: six>=1.3 in /usr/local/lib/python3.6/dist-packages (from librosa) (1.11.0)\n",
            "Collecting resampy>=0.2.0 (from librosa)\n",
            "\u001b[?25l  Downloading https://files.pythonhosted.org/packages/14/b6/66a06d85474190b50aee1a6c09cdc95bb405ac47338b27e9b21409da1760/resampy-0.2.1.tar.gz (322kB)\n",
            "\u001b[K    100% |████████████████████████████████| 327kB 26.7MB/s \n",
            "\u001b[?25hCollecting numba>=0.38.0 (from librosa)\n",
            "\u001b[?25l  Downloading https://files.pythonhosted.org/packages/42/45/8d5fc45e5f760ac65906ba48dec98e99e7920c96783ac7248c5e31c9464e/numba-0.40.1-cp36-cp36m-manylinux1_x86_64.whl (3.2MB)\n",
            "\u001b[K    100% |████████████████████████████████| 3.2MB 10.4MB/s \n",
            "\u001b[?25hCollecting llvmlite>=0.25.0dev0 (from numba>=0.38.0->librosa)\n",
            "\u001b[?25l  Downloading https://files.pythonhosted.org/packages/34/fb/f9c2e9e0ef2b54c52f0b727cf6af75b68c3d7ddb6d88c8d557b1b16bc1ab/llvmlite-0.25.0-cp36-cp36m-manylinux1_x86_64.whl (16.1MB)\n",
            "\u001b[K    100% |████████████████████████████████| 16.1MB 2.1MB/s \n",
            "\u001b[?25hBuilding wheels for collected packages: librosa, audioread, resampy\n",
            "  Running setup.py bdist_wheel for librosa ... \u001b[?25l-\b \b\\\b \bdone\n",
            "\u001b[?25h  Stored in directory: /root/.cache/pip/wheels/18/b8/10/f0f8f6ac60668a5cd75596cf14c25bb6b3ea1ecd815f058b7e\n",
            "  Running setup.py bdist_wheel for audioread ... \u001b[?25l-\b \bdone\n",
            "\u001b[?25h  Stored in directory: /root/.cache/pip/wheels/53/02/90/7b5c4081b7470c550ab605f600bad237dde12a6b8999b11f50\n",
            "  Running setup.py bdist_wheel for resampy ... \u001b[?25l-\b \b\\\b \bdone\n",
            "\u001b[?25h  Stored in directory: /root/.cache/pip/wheels/ff/4f/ed/2e6c676c23efe5394bb40ade50662e90eb46e29b48324c5f9b\n",
            "Successfully built librosa audioread resampy\n",
            "Installing collected packages: audioread, llvmlite, numba, resampy, librosa\n",
            "Successfully installed audioread-2.1.6 librosa-0.6.2 llvmlite-0.25.0 numba-0.40.1 resampy-0.2.1\n",
            "Collecting pydub\n",
            "  Downloading https://files.pythonhosted.org/packages/2f/73/bb9c093882d647437a9e6e87c7e6592d2df852f83ffac6f348b878979be0/pydub-0.23.0-py2.py3-none-any.whl\n",
            "Installing collected packages: pydub\n",
            "Successfully installed pydub-0.23.0\n",
            "Collecting pydrive\n",
            "\u001b[?25l  Downloading https://files.pythonhosted.org/packages/52/e0/0e64788e5dd58ce2d6934549676243dc69d982f198524be9b99e9c2a4fd5/PyDrive-1.3.1.tar.gz (987kB)\n",
            "\u001b[K    100% |████████████████████████████████| 993kB 6.4MB/s \n",
            "\u001b[?25hRequirement already satisfied: google-api-python-client>=1.2 in /usr/local/lib/python3.6/dist-packages (from pydrive) (1.6.7)\n",
            "Requirement already satisfied: oauth2client>=4.0.0 in /usr/local/lib/python3.6/dist-packages (from pydrive) (4.1.3)\n",
            "Requirement already satisfied: PyYAML>=3.0 in /usr/local/lib/python3.6/dist-packages (from pydrive) (3.13)\n",
            "Requirement already satisfied: uritemplate<4dev,>=3.0.0 in /usr/local/lib/python3.6/dist-packages (from google-api-python-client>=1.2->pydrive) (3.0.0)\n",
            "Requirement already satisfied: httplib2<1dev,>=0.9.2 in /usr/local/lib/python3.6/dist-packages (from google-api-python-client>=1.2->pydrive) (0.11.3)\n",
            "Requirement already satisfied: six<2dev,>=1.6.1 in /usr/local/lib/python3.6/dist-packages (from google-api-python-client>=1.2->pydrive) (1.11.0)\n",
            "Requirement already satisfied: pyasn1-modules>=0.0.5 in /usr/local/lib/python3.6/dist-packages (from oauth2client>=4.0.0->pydrive) (0.2.2)\n",
            "Requirement already satisfied: pyasn1>=0.1.7 in /usr/local/lib/python3.6/dist-packages (from oauth2client>=4.0.0->pydrive) (0.4.4)\n",
            "Requirement already satisfied: rsa>=3.1.4 in /usr/local/lib/python3.6/dist-packages (from oauth2client>=4.0.0->pydrive) (4.0)\n",
            "Building wheels for collected packages: pydrive\n",
            "  Running setup.py bdist_wheel for pydrive ... \u001b[?25l-\b \bdone\n",
            "\u001b[?25h  Stored in directory: /root/.cache/pip/wheels/fa/d2/9a/d3b6b506c2da98289e5d417215ce34b696db856643bad779f4\n",
            "Successfully built pydrive\n",
            "Installing collected packages: pydrive\n",
            "Successfully installed pydrive-1.3.1\n"
          ],
          "name": "stdout"
        }
      ]
    },
    {
      "metadata": {
        "id": "_ZmQWj5etqv0",
        "colab_type": "code",
        "colab": {}
      },
      "cell_type": "code",
      "source": [
        "from google.colab import files\n",
        "\n",
        "uploaded = files.upload()\n",
        "\n",
        "for fn in uploaded.keys():\n",
        "  print('User uploaded file \"{name}\" with length {length} bytes'.format(\n",
        "      name=fn, length=len(uploaded[fn])))"
      ],
      "execution_count": 0,
      "outputs": []
    },
    {
      "metadata": {
        "id": "Og3rKD2YzCM9",
        "colab_type": "code",
        "colab": {}
      },
      "cell_type": "code",
      "source": [
        ""
      ],
      "execution_count": 0,
      "outputs": []
    },
    {
      "metadata": {
        "id": "VvE5Yd1sqK3C",
        "colab_type": "code",
        "outputId": "eb09f3d4-1bc5-4de7-ee50-cec3b1ec842a",
        "colab": {
          "base_uri": "https://localhost:8080/",
          "height": 122
        }
      },
      "cell_type": "code",
      "source": [
        "from google.colab import drive\n",
        "drive.mount('/content/drive',force_remount=True)"
      ],
      "execution_count": 3,
      "outputs": [
        {
          "output_type": "stream",
          "text": [
            "Go to this URL in a browser: https://accounts.google.com/o/oauth2/auth?client_id=947318989803-6bn6qk8qdgf4n4g3pfee6491hc0brc4i.apps.googleusercontent.com&redirect_uri=urn%3Aietf%3Awg%3Aoauth%3A2.0%3Aoob&scope=email%20https%3A%2F%2Fwww.googleapis.com%2Fauth%2Fdocs.test%20https%3A%2F%2Fwww.googleapis.com%2Fauth%2Fdrive%20https%3A%2F%2Fwww.googleapis.com%2Fauth%2Fdrive.photos.readonly%20https%3A%2F%2Fwww.googleapis.com%2Fauth%2Fpeopleapi.readonly&response_type=code\n",
            "\n",
            "Enter your authorization code:\n",
            "··········\n",
            "Mounted at /content/drive\n"
          ],
          "name": "stdout"
        }
      ]
    },
    {
      "metadata": {
        "id": "fKpdFkSMrIU1",
        "colab_type": "code",
        "colab": {}
      },
      "cell_type": "code",
      "source": [
        "prueba = AudioSegment.from_wav(\"/content/drive/My Drive/prueba_test/302.wav\")"
      ],
      "execution_count": 0,
      "outputs": []
    },
    {
      "metadata": {
        "id": "FqB9fEAArW5g",
        "colab_type": "code",
        "colab": {}
      },
      "cell_type": "code",
      "source": [
        "\n"
      ],
      "execution_count": 0,
      "outputs": []
    },
    {
      "metadata": {
        "id": "gz4UV11uuRdy",
        "colab_type": "code",
        "colab": {}
      },
      "cell_type": "code",
      "source": [
        ""
      ],
      "execution_count": 0,
      "outputs": []
    },
    {
      "metadata": {
        "id": "uPjrI77UoWFD",
        "colab_type": "code",
        "colab": {}
      },
      "cell_type": "code",
      "source": [
        "#Compute spectogram of each audio\n",
        "\n",
        "SR = 22050\n",
        "def get_short_time_fourier_transform(soundwave):\n",
        "    return librosa.stft(soundwave, n_fft=256)\n",
        "\n",
        "def short_time_fourier_transform_amplitude_to_db(stft):\n",
        "    return librosa.amplitude_to_db(stft)\n",
        "\n",
        "def soundwave_to_np_spectogram(soundwave):\n",
        "    step1 = get_short_time_fourier_transform(soundwave)\n",
        "    step2 = short_time_fourier_transform_amplitude_to_db(step1)\n",
        "    step3 = step2/100\n",
        "    return step3\n",
        "\n",
        "def inspect_data(sound):\n",
        "#    plt.figure()\n",
        "#    plt.plot(sound)\n",
        "#    IPython.display.display(IPython.display.Audio(sound, rate=SR))\n",
        "    a = get_short_time_fourier_transform(sound)\n",
        "    Xdb = short_time_fourier_transform_amplitude_to_db(a)\n",
        "#    plt.figure()   \n",
        "#    plt.imshow(Xdb)    \n",
        "#    plt.show()\n",
        "#    print (Xdb.shape)\n",
        "#    print(\"Length per sample: %d, shape of spectogram: %s, max: %f min: %f\" % (len(sound), str(Xdb.shape), Xdb.max(), Xdb.min()))\n",
        "    return Xdb"
      ],
      "execution_count": 0,
      "outputs": []
    },
    {
      "metadata": {
        "id": "8NN6jFb2oWFI",
        "colab_type": "code",
        "colab": {}
      },
      "cell_type": "code",
      "source": [
        "def plot_confusion_matrix(cm, classes,\n",
        "                          normalize=False,\n",
        "                          title='Confusion matrix',\n",
        "                          cmap=plt.cm.Blues):\n",
        "    \"\"\"\n",
        "    This function prints and plots the confusion matrix.\n",
        "    Normalization can be applied by setting `normalize=True`.\n",
        "    \"\"\"\n",
        "    if normalize:\n",
        "        cm = cm.astype('float') / cm.sum(axis=1)[:, np.newaxis]\n",
        "        print(\"Normalized confusion matrix\")\n",
        "    else:\n",
        "        print('Confusion matrix, without normalization')\n",
        "\n",
        "    print(cm)\n",
        "\n",
        "    plt.imshow(cm, interpolation='nearest', cmap=cmap)\n",
        "    plt.title(title)\n",
        "    plt.colorbar()\n",
        "    tick_marks = np.arange(len(classes))\n",
        "    plt.xticks(tick_marks, classes, rotation=45)\n",
        "    plt.yticks(tick_marks, classes)\n",
        "\n",
        "    fmt = '.2f' if normalize else 'd'\n",
        "    thresh = cm.max() / 2.\n",
        "    for i, j in itertools.product(range(cm.shape[0]), range(cm.shape[1])):\n",
        "        plt.text(j, i, format(cm[i, j], fmt),\n",
        "                 horizontalalignment=\"center\",\n",
        "                 color=\"white\" if cm[i, j] > thresh else \"black\")\n",
        "\n",
        "    plt.ylabel('True label')\n",
        "    plt.xlabel('Predicted label')\n",
        "    plt.tight_layout()"
      ],
      "execution_count": 0,
      "outputs": []
    },
    {
      "metadata": {
        "id": "7fYg-QUroWFK",
        "colab_type": "code",
        "colab": {}
      },
      "cell_type": "code",
      "source": [
        "#Creacion de las variables necesarias para la ejecucion del codigo\n",
        "\n",
        "i = 0\n",
        "j = 0\n",
        "k = 0\n",
        "number_list_train = ['']\n",
        "number_list_test = ['']\n",
        "file_count = 107\n",
        "file_count2 = 35\n",
        "input_array_train = ['']\n",
        "phq8_array_train = ['']\n",
        "input_array_train *= file_count\n",
        "phq8_array_train *= file_count\n",
        "number_list_train *= file_count\n",
        "input_array_test = ['']\n",
        "phq8_array_test = ['']\n",
        "input_array_test *= file_count2\n",
        "phq8_array_test *= file_count2\n",
        "number_list_test *= file_count2"
      ],
      "execution_count": 0,
      "outputs": []
    },
    {
      "metadata": {
        "id": "Cvcl7NBqoWFQ",
        "colab_type": "code",
        "colab": {}
      },
      "cell_type": "code",
      "source": [
        "#Abrir archivos de audio y segmentar por segmento de tiempo.\n",
        "#Exportar los segmentos a otra carpeta para su posterior analisis\n",
        "\n",
        "\n",
        "number = 0\n",
        "\n",
        "l = 0\n",
        "m = 0\n",
        "      \n",
        "data = open('C:/Users/Fran/Desktop/Database/datos1.txt', 'r', encoding='utf-8-sig')\n",
        "for line in data:\n",
        "    mylist = line.split(',')\n",
        "    number = mylist[0]\n",
        "    df = pd.read_csv('C:/Users/Fran/Desktop/Database/' + str(number) + '_P/' \n",
        "                     + str(number) + '_TRANSCRIPT.csv', header=0)\n",
        "    while i < len (df):\n",
        "        a = df.iloc[i].str.split()\n",
        "        if a[0][2] == 'Participant' and j == 0: \n",
        "            newAudio = AudioSegment.from_wav('C:/Users/Fran/Desktop/Database/' \n",
        "                                             + str(number) + '_P/' + str(number) + '_AUDIO.wav')\n",
        "            t1 = int(float(a[0][0]) * 1000)\n",
        "            t2 = int(float(a[0][1]) * 1000)\n",
        "            newAudio = newAudio[t1:t2]\n",
        "            newAudio.export('C:/Users/Fran/Desktop/prueba/' + str(number) + '.wav', format=\"wav\")\n",
        "            j = 1\n",
        "        elif a[0][2] == 'Participant':\n",
        "            \n",
        "            newAudio = AudioSegment.from_wav('C:/Users/Fran/Desktop/Database/' \n",
        "                                             + str(number) + '_P/' + str(number) + '_AUDIO.wav')\n",
        "            t1 = int(float(a[0][0]) * 1000)\n",
        "            t2 = int(float(a[0][1]) * 1000)\n",
        "            newAudio = newAudio[t1:t2]\n",
        "            newAudio.export('C:/Users/Fran/Desktop/prueba/' + str(number) + 'segmento.wav', format=\"wav\")\n",
        "            sound1 = AudioSegment.from_wav('C:/Users/Fran/Desktop/prueba/' + str(number) + '.wav')\n",
        "            sound2 = AudioSegment.from_wav('C:/Users/Fran/Desktop/prueba/' + str(number) + 'segmento.wav')\n",
        "\n",
        "            combined_sounds = sound1 + sound2\n",
        "            combined_sounds.export('C:/Users/Fran/Desktop/prueba/' + str(number) + '.wav', format=\"wav\")\n",
        "        i += 1\n",
        "             \n",
        "    w = AudioSegment.from_wav('C:/Users/Fran/Desktop/Database/' + str(number) + '_P/' + str(number) + '_AUDIO.wav')\n",
        "    input_array_train[l] = w\n",
        "    number_list_train[l] = number\n",
        "    phq8_array_train[l] = mylist[1]\n",
        "    l += 1\n",
        "    j = 0\n",
        "    i = 0\n",
        "    \n"
      ],
      "execution_count": 0,
      "outputs": []
    },
    {
      "metadata": {
        "id": "IvmuPyBPoWGF",
        "colab_type": "code",
        "colab": {}
      },
      "cell_type": "code",
      "source": [
        "#Abrir archivos de audio y segmentar por segmento de tiempo.\n",
        "#Exportar los segmentos a otra carpeta para su posterior analisis\n",
        "\n",
        "i = 0\n",
        "l = 0\n",
        "m = 0\n",
        "data1 = open('C:/Users/Fran/Desktop/Database/datos2_dev.txt', 'r', encoding='utf-8-sig')\n",
        "for line in data1:\n",
        "    mylist = line.split(',')\n",
        "    number = mylist[0]\n",
        "    df = pd.read_csv('C:/Users/Fran/Desktop/Database/' + str(number) + '_P/' \n",
        "                     + str(number) + '_TRANSCRIPT.csv', header=0)\n",
        "    while i < len (df):\n",
        "        a = df.iloc[i].str.split()\n",
        "        if a[0][2] == 'Participant' and j == 0: \n",
        "            newAudio = AudioSegment.from_wav('C:/Users/Fran/Desktop/Database/' \n",
        "                                             + str(number) + '_P/' + str(number) + '_AUDIO.wav')\n",
        "            t1 = int(float(a[0][0]) * 1000)\n",
        "            t2 = int(float(a[0][1]) * 1000)\n",
        "            newAudio = newAudio[t1:t2]\n",
        "            newAudio.export('C:/Users/Fran/Desktop/prueba_test/' + str(number) + '.wav', format=\"wav\")\n",
        "            j = 1\n",
        "        elif a[0][2] == 'Participant':\n",
        "            \n",
        "            newAudio = AudioSegment.from_wav('C:/Users/Fran/Desktop/Database/' \n",
        "                                             + str(number) + '_P/' + str(number) + '_AUDIO.wav')\n",
        "            t1 = int(float(a[0][0]) * 1000)\n",
        "            t2 = int(float(a[0][1]) * 1000)\n",
        "            newAudio = newAudio[t1:t2]\n",
        "            newAudio.export('C:/Users/Fran/Desktop/prueba_test/' + str(number) + 'segmento.wav', format=\"wav\")\n",
        "            sound1 = AudioSegment.from_wav('C:/Users/Fran/Desktop/prueba_test/' + str(number) + '.wav')\n",
        "            sound2 = AudioSegment.from_wav('C:/Users/Fran/Desktop/prueba_test/' + str(number) + 'segmento.wav')\n",
        "\n",
        "            combined_sounds = sound1 + sound2\n",
        "            combined_sounds.export('C:/Users/Fran/Desktop/prueba_test/' + str(number) + '.wav', format=\"wav\")\n",
        "        i += 1\n",
        "             \n",
        "    w = AudioSegment.from_wav('C:/Users/Fran/Desktop/Database/' + str(number) + '_P/' + str(number) + '_AUDIO.wav')\n",
        "    input_array_test[l] = w\n",
        "    number_list_test[l] = number\n",
        "    phq8_array_test[l] = mylist[1]\n",
        "    l += 1\n",
        "    j = 0\n",
        "    i = 0 "
      ],
      "execution_count": 0,
      "outputs": []
    },
    {
      "metadata": {
        "id": "QoaKoHAAoWGR",
        "colab_type": "code",
        "colab": {}
      },
      "cell_type": "code",
      "source": [
        "#creacion de arrays, que seran usados despues para el entranamiento del modelo y creacion de espectogramas\n",
        "\n",
        "l = 0\n",
        "data = open('/content/drive/My Drive/datos1.txt', 'r', encoding='utf-8-sig')\n",
        "for line in data:\n",
        "    mylist = line.split(',')\n",
        "    number = mylist[0]\n",
        "    #w = AudioSegment.from_wav('C:/Users/Fran/Desktop/Database/' + str(number) + '_P/' + str(number) + '_AUDIO.wav')\n",
        "    #input_array_train[l] = w\n",
        "    number_list_train[l] = number\n",
        "    phq8_array_train[l] = mylist[1]\n",
        "    l += 1\n",
        "    \n",
        "l = 0\n",
        "data1 = open('/content/drive/My Drive/datos2_dev.txt', 'r', encoding='utf-8-sig')\n",
        "for line in data1:\n",
        "    mylist = line.split(',')\n",
        "    number = mylist[0]\n",
        "    #w = AudioSegment.from_wav('C:/Users/Fran/Desktop/Database/' + str(number) + '_P/' + str(number) + '_AUDIO.wav')\n",
        "    #input_array_test[l] = w\n",
        "    number_list_test[l] = number\n",
        "    phq8_array_test[l] = mylist[1]\n",
        "    l += 1"
      ],
      "execution_count": 0,
      "outputs": []
    },
    {
      "metadata": {
        "id": "XtPdO5V-oWGg",
        "colab_type": "code",
        "colab": {}
      },
      "cell_type": "code",
      "source": [
        "#Calculo de la longitud de cada audio para en un futuro poder mover la ventana de tiempo \n",
        "#del minimo al maximo unos determinados segundos, de momento esta informacion no se utiliza\n",
        "#y se calcula el segmento de audio con un tiempo fijo\n",
        "\n",
        "len_list_train = ['']\n",
        "len_list_test = ['']\n",
        "len_list_train *= file_count\n",
        "len_list_test *= file_count2\n",
        "i = 0\n",
        "j = 0\n",
        "\n",
        "\n",
        "for audio_number in number_list_train:\n",
        "    Audio_train = AudioSegment.from_wav('/content/drive/My Drive/prueba/' + str(audio_number) + '.wav')\n",
        "    len_list_train[i] = int(len(Audio_train) / (1000))\n",
        "    i += 1\n",
        "    \n",
        "    \n",
        "for audio_number in number_list_test:\n",
        "    Audio_test = AudioSegment.from_wav('/content/drive/My Drive/prueba_test/' + str(audio_number) + '.wav')\n",
        "    len_list_test[j] = int(len(Audio_test) / (1000))\n",
        "    j += 1\n",
        "    \n"
      ],
      "execution_count": 0,
      "outputs": []
    },
    {
      "metadata": {
        "id": "jnfqcLXOoWGk",
        "colab_type": "code",
        "outputId": "3b92f741-1ae7-4915-84d1-9f33b8c49340",
        "colab": {
          "base_uri": "https://localhost:8080/",
          "height": 34
        }
      },
      "cell_type": "code",
      "source": [
        "t1_train_ini = 20 * 1000 + 1*1000\n",
        "t1_train_ini"
      ],
      "execution_count": 0,
      "outputs": [
        {
          "output_type": "execute_result",
          "data": {
            "text/plain": [
              "21000"
            ]
          },
          "metadata": {
            "tags": []
          },
          "execution_count": 67
        }
      ]
    },
    {
      "metadata": {
        "id": "MK669A65oWGv",
        "colab_type": "code",
        "colab": {}
      },
      "cell_type": "code",
      "source": [
        "#Creacion de los segmentos de audio para despues crear los espectogramas\n",
        "#data augmentation segun el valor de la comparacion con la variable i de cada bucle while\n",
        "\n",
        "t1_train_ini = 20 * 1000\n",
        "t1_test_ini = 20 * 1000\n",
        "t2_train_end = 20300\n",
        "t2_test_end = 20300\n",
        "i = 0\n",
        "for audio_number in number_list_train:  \n",
        "    i = 0\n",
        "    while i<10:\n",
        "        Audio_train = AudioSegment.from_wav('/content/drive/My Drive/prueba/' + str(audio_number) + '.wav')\n",
        "        t1_train_ini_ = t1_train_ini + i*1000\n",
        "        t2_train_end_ = t2_train_end + i*1000\n",
        "        Audio_train = Audio_train[t1_train_ini_:t2_train_end_]\n",
        "        Audio_train.export('/content/drive/My Drive/database_train/' + str(audio_number) + '_' + str(i) + '.wav', format=\"wav\")\n",
        "        i += 1\n",
        "        time.sleep(1)\n",
        "i = 0   \n",
        "for audio_number in number_list_test:\n",
        "    i = 0\n",
        "    while i<10:\n",
        "        Audio_test = AudioSegment.from_wav('/content/drive/My Drive/prueba_test/' + str(audio_number) + '.wav')\n",
        "        t1_train_ini_ = t1_train_ini + i*1000\n",
        "        t2_train_end_ = t2_train_end + i*1000\n",
        "        Audio_test = Audio_test[t1_train_ini_:t2_train_end_]\n",
        "        Audio_test.export('/content/drive/My Drive/database_test/' + str(audio_number) + '_' + str(i) + '.wav', format=\"wav\")\n",
        "        time.sleep(1)\n",
        "        i += 1"
      ],
      "execution_count": 0,
      "outputs": []
    },
    {
      "metadata": {
        "id": "08Okkx0qP8od",
        "colab_type": "code",
        "colab": {}
      },
      "cell_type": "code",
      "source": [
        ""
      ],
      "execution_count": 0,
      "outputs": []
    },
    {
      "metadata": {
        "id": "7PH4kO6QoWG0",
        "colab_type": "code",
        "outputId": "1082bcd1-992c-4c79-f93f-19dce56ad94d",
        "colab": {
          "base_uri": "https://localhost:8080/",
          "height": 71
        }
      },
      "cell_type": "code",
      "source": [
        "#Spectograms of each segmented audio\n",
        "\n",
        "\n",
        "Xdb_train = ['']\n",
        "Xdb_train_normalized = ['']\n",
        "Xdb_train *= file_count\n",
        "Xdb_train_normalized *= file_count\n",
        "\n",
        "Xdb_train *= 10\n",
        "\n",
        "Xdb_test = ['']\n",
        "Xdb_test_normalized = ['']\n",
        "Xdb_test *= file_count2\n",
        "Xdb_test_normalized *= file_count2\n",
        "\n",
        "Xdb_test *= 10\n",
        "\n",
        "i = 0\n",
        "j = 0\n",
        "for audio_train in number_list_train:\n",
        "    j = 0\n",
        "    while j<10:\n",
        "        X, sr = librosa.load('/content/drive/My Drive/database_train/' + str(audio_train) + '_' + str(j) + '.wav')\n",
        "        Xdb_train[i] = inspect_data(X)\n",
        "        #Xdb_train_normalized[i] = tf.log(tf.abs(Xdb_train[i]) + 0.01)\n",
        "        i += 1\n",
        "        j += 1\n",
        "\n",
        "i = 0\n",
        "j = 0\n",
        "for audio_test in number_list_test:\n",
        "    j = 0\n",
        "    while j<10:\n",
        "        X, sr = librosa.load('/content/drive/My Drive/database_test/' + str(audio_test) + '_' + str(j) + '.wav')\n",
        "        Xdb_test[i] = inspect_data(X)\n",
        "        #Xdb_test_normalized[i] = tf.log(tf.abs(Xdb_test[i]) + 0.01)\n",
        "        i += 1\n",
        "        j += 1"
      ],
      "execution_count": 10,
      "outputs": [
        {
          "output_type": "stream",
          "text": [
            "/usr/local/lib/python3.6/dist-packages/librosa/core/spectrum.py:960: UserWarning: amplitude_to_db was called on complex input so phase information will be discarded. To suppress this warning, call amplitude_to_db(np.abs(S)) instead.\n",
            "  warnings.warn('amplitude_to_db was called on complex input so phase '\n"
          ],
          "name": "stderr"
        }
      ]
    },
    {
      "metadata": {
        "id": "8zjgxVWuoWG5",
        "colab_type": "code",
        "colab": {
          "base_uri": "https://localhost:8080/",
          "height": 34
        },
        "outputId": "6bc7af93-4e79-4969-b3b4-8fa10b440d87"
      },
      "cell_type": "code",
      "source": [
        "np.shape(Xdb_test)"
      ],
      "execution_count": 40,
      "outputs": [
        {
          "output_type": "execute_result",
          "data": {
            "text/plain": [
              "(350, 129, 104)"
            ]
          },
          "metadata": {
            "tags": []
          },
          "execution_count": 40
        }
      ]
    },
    {
      "metadata": {
        "id": "qAK-CCfw1Msl",
        "colab_type": "code",
        "colab": {
          "base_uri": "https://localhost:8080/",
          "height": 357
        },
        "outputId": "e70fda0a-e7b7-46bf-e9c4-f15ec919c2df"
      },
      "cell_type": "code",
      "source": [
        "phq8_array_test[0:20]"
      ],
      "execution_count": 36,
      "outputs": [
        {
          "output_type": "execute_result",
          "data": {
            "text/plain": [
              "['0',\n",
              " '0',\n",
              " '0',\n",
              " '1',\n",
              " '1',\n",
              " '1',\n",
              " '1',\n",
              " '1',\n",
              " '0',\n",
              " '1',\n",
              " '1',\n",
              " '0',\n",
              " '0',\n",
              " '0',\n",
              " '0',\n",
              " '0',\n",
              " '1',\n",
              " '0',\n",
              " '1',\n",
              " '0']"
            ]
          },
          "metadata": {
            "tags": []
          },
          "execution_count": 36
        }
      ]
    },
    {
      "metadata": {
        "id": "Nh9linwWoWHQ",
        "colab_type": "code",
        "colab": {}
      },
      "cell_type": "code",
      "source": [
        "#data augmentation para el valor a predecir\n",
        "\n",
        "multiplier = 10\n",
        "phq8_array_train_extended = ['']\n",
        "phq8_array_train_extended = phq8_array_train_extended * file_count * multiplier\n",
        "phq8_array_test_extended = ['']\n",
        "phq8_array_test_extended = phq8_array_test_extended * file_count2 * multiplier\n",
        "i = 0\n",
        "j = 0\n",
        "for valor in phq8_array_train:\n",
        "    while i < multiplier:\n",
        "        phq8_array_train_extended[j] = valor\n",
        "        i += 1\n",
        "        j += 1\n",
        "    i = 0\n",
        "\n",
        "i = 0\n",
        "j = 0\n",
        "for valor in phq8_array_test:\n",
        "    while i < multiplier:\n",
        "        phq8_array_test_extended[j] = valor\n",
        "        i += 1\n",
        "        j += 1\n",
        "    i = 0"
      ],
      "execution_count": 0,
      "outputs": []
    },
    {
      "metadata": {
        "id": "hJe_WzHcy5Pw",
        "colab_type": "code",
        "colab": {}
      },
      "cell_type": "code",
      "source": [
        ""
      ],
      "execution_count": 0,
      "outputs": []
    },
    {
      "metadata": {
        "id": "neqgxgWLoWHr",
        "colab_type": "code",
        "outputId": "7689b716-5c12-4444-dc15-e577703200f2",
        "colab": {
          "base_uri": "https://localhost:8080/",
          "height": 350
        }
      },
      "cell_type": "code",
      "source": [
        "#Espectograma de 1 audio segmentado\n",
        "\n",
        "plt.imshow(Xdb_train[0])\n",
        "alto, ancho = np.shape(Xdb_train[0])"
      ],
      "execution_count": 39,
      "outputs": [
        {
          "output_type": "display_data",
          "data": {
            "image/png": "[encoded data removed]",
            "text/plain": [
              "<matplotlib.figure.Figure at 0x7f456e5ebc88>"
            ]
          },
          "metadata": {
            "tags": []
          }
        }
      ]
    },
    {
      "metadata": {
        "id": "G3toiXoroWHw",
        "colab_type": "code",
        "outputId": "83269c9f-845e-4db7-9b93-81256c505b6f",
        "colab": {
          "base_uri": "https://localhost:8080/",
          "height": 34
        }
      },
      "cell_type": "code",
      "source": [
        "np.shape(Xdb_train)"
      ],
      "execution_count": 41,
      "outputs": [
        {
          "output_type": "execute_result",
          "data": {
            "text/plain": [
              "(1070, 129, 104)"
            ]
          },
          "metadata": {
            "tags": []
          },
          "execution_count": 41
        }
      ]
    },
    {
      "metadata": {
        "id": "15NHkogqoWIs",
        "colab_type": "code",
        "outputId": "3def8dff-503e-43be-cef8-82382ccbe508",
        "colab": {
          "base_uri": "https://localhost:8080/",
          "height": 34
        }
      },
      "cell_type": "code",
      "source": [
        "np.shape(Xdb_train_array)"
      ],
      "execution_count": 0,
      "outputs": [
        {
          "output_type": "execute_result",
          "data": {
            "text/plain": [
              "(107, 1, 4515)"
            ]
          },
          "metadata": {
            "tags": []
          },
          "execution_count": 37
        }
      ]
    },
    {
      "metadata": {
        "id": "5qeGY_K3oWJI",
        "colab_type": "code",
        "colab": {}
      },
      "cell_type": "code",
      "source": [
        ""
      ],
      "execution_count": 0,
      "outputs": []
    },
    {
      "metadata": {
        "id": "Xk0AsZ_EoWJU",
        "colab_type": "code",
        "colab": {}
      },
      "cell_type": "code",
      "source": [
        "#Creacion de los arrays, transformand el array para introducirlo en la red LSTM\n",
        "\n",
        "Xdb_train_array = np.ndarray(shape = (107*multiplier,alto,ancho))\n",
        "Xdb_test_array = np.ndarray(shape = (35*multiplier,alto,ancho))\n",
        "\n",
        "i = 0\n",
        "for train in Xdb_train:\n",
        "    Xdb_train_array[i] = train\n",
        "    i += 1\n",
        "    \n",
        "i = 0\n",
        "for test in Xdb_test:\n",
        "    Xdb_test_array[i] = test\n",
        "    i += 1\n",
        "    \n",
        "Xdb_train_array = Xdb_train_array.reshape(107*multiplier ,alto*ancho)\n",
        "Xdb_test_array = Xdb_test_array.reshape(35*multiplier, alto*ancho)\n",
        "\n",
        "Xdb_train_array = np.reshape(Xdb_train_array, (Xdb_train_array.shape[0], 1, Xdb_train_array.shape[1]))\n",
        "Xdb_test_array = np.reshape(Xdb_test_array, (Xdb_test_array.shape[0], 1, Xdb_test_array.shape[1]))"
      ],
      "execution_count": 0,
      "outputs": []
    },
    {
      "metadata": {
        "id": "3Dqvo6bRoWJX",
        "colab_type": "code",
        "colab": {}
      },
      "cell_type": "code",
      "source": [
        "#i= 0\n",
        "#for audio_train in number_list_train:\n",
        "#    Xdb_train[i] = Xdb_train[i].reshape(1333344,)\n",
        "#    i += 1\n",
        "    \n",
        "#i= 0    \n",
        "#for audio_test in number_list_test:\n",
        "#    Xdb_test[i] = Xdb_test[i].reshape(1333344,)\n",
        "#    i += 1"
      ],
      "execution_count": 0,
      "outputs": []
    },
    {
      "metadata": {
        "id": "jRkvqC4BoWJa",
        "colab_type": "code",
        "colab": {}
      },
      "cell_type": "code",
      "source": [
        "#Xdb_train_array=Xdb_train_array.reshape(Xdb_train_array.shape[0],Xdb_train_array.shape[1],1)"
      ],
      "execution_count": 0,
      "outputs": []
    },
    {
      "metadata": {
        "id": "21MBFyVooWJc",
        "colab_type": "code",
        "colab": {}
      },
      "cell_type": "code",
      "source": [
        "#Xdb_test_array=Xdb_test_array.reshape(Xdb_test_array.shape[0],Xdb_test_array.shape[1],1)"
      ],
      "execution_count": 0,
      "outputs": []
    },
    {
      "metadata": {
        "id": "-lpwCX7YoWJe",
        "colab_type": "code",
        "colab": {}
      },
      "cell_type": "code",
      "source": [
        "#np.shape(Xdb_train_array)"
      ],
      "execution_count": 0,
      "outputs": []
    },
    {
      "metadata": {
        "id": "-0oMhxBHoWJi",
        "colab_type": "code",
        "colab": {}
      },
      "cell_type": "code",
      "source": [
        "#num_classes = 2\n",
        "#batch_size = 64\n",
        "#epochs = 10"
      ],
      "execution_count": 0,
      "outputs": []
    },
    {
      "metadata": {
        "id": "kKx8xVjioWJk",
        "colab_type": "code",
        "colab": {}
      },
      "cell_type": "code",
      "source": [
        "#Xdb_train_array = Xdb_train_array.reshape(Xdb_train_array.shape[0], alto, ancho, 1)\n",
        "#Xdb_test_array = Xdb_test_array.reshape(Xdb_test_array.shape[0], alto, ancho, 1)"
      ],
      "execution_count": 0,
      "outputs": []
    },
    {
      "metadata": {
        "id": "GAlUh4jPoWJn",
        "colab_type": "code",
        "colab": {}
      },
      "cell_type": "code",
      "source": [
        "#print (Xdb_train_array.shape)\n",
        "#print (Xdb_test_array.shape)"
      ],
      "execution_count": 0,
      "outputs": []
    },
    {
      "metadata": {
        "id": "FbzwoWgZoWJv",
        "colab_type": "code",
        "colab": {}
      },
      "cell_type": "code",
      "source": [
        "#seq = Sequential()\n",
        "#seq.add(ConvLSTM2D(filters=40, kernel_size=(3, 3),\n",
        "#                   input_shape=(107, 129, 1723, 1),\n",
        "#                   padding='same', return_sequences=True))\n",
        "#seq.add(BatchNormalization())\n",
        "\n",
        "#seq.add(ConvLSTM2D(filters=40, kernel_size=(3, 3),\n",
        "#                   padding='same', return_sequences=True))\n",
        "#seq.add(BatchNormalization())\n",
        "\n",
        "#seq.add(ConvLSTM2D(filters=40, kernel_size=(3, 3),\n",
        "#                   padding='same', return_sequences=True))\n",
        "#seq.add(BatchNormalization())\n",
        "\n",
        "#seq.add(ConvLSTM2D(filters=40, kernel_size=(3, 3),\n",
        "#                   padding='same', return_sequences=True))\n",
        "#seq.add(BatchNormalization())\n",
        "\n",
        "#seq.add(Conv3D(filters=1, kernel_size=(3, 3, 3),\n",
        "#               activation='sigmoid',\n",
        "#               padding='same', data_format='channels_last'))\n",
        "#seq.compile(loss='binary_crossentropy', optimizer='adadelta', metrics=['accuracy'])"
      ],
      "execution_count": 0,
      "outputs": []
    },
    {
      "metadata": {
        "id": "OV4tnuhhoWJy",
        "colab_type": "code",
        "colab": {}
      },
      "cell_type": "code",
      "source": [
        "#Red neuronal\n",
        "\n",
        "#model = Sequential()\n",
        "#model.add(Conv2D(32, kernel_size=(3, 3), activation='relu', input_shape=(alto,ancho,1)))\n",
        "#model.add(MaxPooling2D(pool_size=(2, 2)))\n",
        "#model.add(Conv2D(64, (3, 3), activation='relu'))\n",
        "#model.add(MaxPooling2D(pool_size=(2, 2)))\n",
        "#model.add(Conv2D(128, (3, 3), activation='relu'))\n",
        "#model.add(MaxPooling2D(pool_size=(2, 2)))\n",
        "#model.add(Conv2D(256, (3, 3), activation='relu'))\n",
        "#model.add(MaxPooling2D(pool_size=(2, 2)))\n",
        "#model.add(Dropout(0.25))\n",
        "#model.add(Flatten())\n",
        "#model.add(Dense(128, activation='relu'))\n",
        "#model.add(Dropout(0.5))\n",
        "#model.add(Dense(num_classes, activation='softmax'))\n",
        "\n",
        "#model.summary()\n",
        "\n",
        "#model.compile(loss=keras.losses.categorical_crossentropy,\n",
        "#              optimizer=keras.optimizers.Adadelta(),\n",
        "#              metrics=['accuracy'])"
      ],
      "execution_count": 0,
      "outputs": []
    },
    {
      "metadata": {
        "id": "3V_A5Vl0oWJ1",
        "colab_type": "code",
        "colab": {}
      },
      "cell_type": "code",
      "source": [
        "num_classes = 2\n",
        "batch_size = 64\n",
        "epochs = 10\n",
        "\n",
        "# convert class vectors to binary class matrices\n",
        "phq8_array_train = keras.utils.to_categorical(phq8_array_train_extended, num_classes)\n",
        "phq8_array_test = keras.utils.to_categorical(phq8_array_test_extended, num_classes)"
      ],
      "execution_count": 0,
      "outputs": []
    },
    {
      "metadata": {
        "id": "eUX7zRMvoWJ9",
        "colab_type": "code",
        "outputId": "deec9670-2514-496b-a080-4ec28722e3b4",
        "colab": {
          "base_uri": "https://localhost:8080/",
          "height": 306
        }
      },
      "cell_type": "code",
      "source": [
        "model = Sequential()\n",
        "model.add(Bidirectional(LSTM(128, return_sequences=True),\n",
        "                        input_shape=(1, alto*ancho)))\n",
        "model.add(Bidirectional(LSTM(64)))\n",
        "model.add(Dense(64, activation='relu'))\n",
        "model.add(Dropout(0.2))\n",
        "model.add(Dense(num_classes, activation='softmax'))\n",
        "\n",
        "model.summary()\n",
        "model.compile(loss=keras.losses.categorical_crossentropy,\n",
        "              optimizer=keras.optimizers.rmsprop(),\n",
        "              metrics=['accuracy'])\n",
        "#categorical_crossentropy\n"
      ],
      "execution_count": 45,
      "outputs": [
        {
          "output_type": "stream",
          "text": [
            "_________________________________________________________________\n",
            "Layer (type)                 Output Shape              Param #   \n",
            "=================================================================\n",
            "bidirectional_1 (Bidirection (None, 1, 256)            13870080  \n",
            "_________________________________________________________________\n",
            "bidirectional_2 (Bidirection (None, 128)               164352    \n",
            "_________________________________________________________________\n",
            "dense_1 (Dense)              (None, 64)                8256      \n",
            "_________________________________________________________________\n",
            "dropout_1 (Dropout)          (None, 64)                0         \n",
            "_________________________________________________________________\n",
            "dense_2 (Dense)              (None, 2)                 130       \n",
            "=================================================================\n",
            "Total params: 14,042,818\n",
            "Trainable params: 14,042,818\n",
            "Non-trainable params: 0\n",
            "_________________________________________________________________\n"
          ],
          "name": "stdout"
        }
      ]
    },
    {
      "metadata": {
        "id": "AOG1bmNz5E8V",
        "colab_type": "code",
        "colab": {}
      },
      "cell_type": "code",
      "source": [
        "model = Sequential()\n",
        "model.add(Bidirectional(LSTM(32, return_sequences=True,\n",
        "               input_shape=(1, alto*ancho))))  # returns a sequence of vectors of dimension 32\n",
        "model.add(Bidirectional(LSTM(32, return_sequences=True)))  # returns a sequence of vectors of dimension 32\n",
        "model.add(Bidirectional(LSTM(32)))  # return a single vector of dimension 32\n",
        "model.add(Dense(10, activation='softmax'))\n",
        "model.add(Dense(2, activation='softmax'))\n",
        "model.summary\n",
        "model.compile(loss='categorical_crossentropy',\n",
        "              optimizer='rmsprop',\n",
        "              metrics=['accuracy'])"
      ],
      "execution_count": 0,
      "outputs": []
    },
    {
      "metadata": {
        "id": "75Ft4JSmoWJ_",
        "colab_type": "code",
        "outputId": "9db54c68-8f3c-49d3-802b-6f6e927c005e",
        "colab": {
          "base_uri": "https://localhost:8080/",
          "height": 408
        }
      },
      "cell_type": "code",
      "source": [
        "model.fit(Xdb_train_array, phq8_array_train,\n",
        "          batch_size=batch_size,\n",
        "          epochs=epochs,\n",
        "          verbose=1,\n",
        "          validation_data=(Xdb_test_array, phq8_array_test))\n",
        "score = model.evaluate(Xdb_test_array, phq8_array_test, verbose=0)\n",
        "print('Test loss:', score[0])\n",
        "print('Test accuracy:', score[1])"
      ],
      "execution_count": 67,
      "outputs": [
        {
          "output_type": "stream",
          "text": [
            "Train on 1070 samples, validate on 350 samples\n",
            "Epoch 1/10\n",
            "1070/1070 [==============================] - 8s 8ms/step - loss: 0.6134 - acc: 0.7196 - val_loss: 0.6432 - val_acc: 0.6571\n",
            "Epoch 2/10\n",
            "1070/1070 [==============================] - 3s 2ms/step - loss: 0.6009 - acc: 0.7196 - val_loss: 0.6447 - val_acc: 0.6571\n",
            "Epoch 3/10\n",
            "1070/1070 [==============================] - 3s 2ms/step - loss: 0.5955 - acc: 0.7196 - val_loss: 0.6480 - val_acc: 0.6571\n",
            "Epoch 4/10\n",
            "1070/1070 [==============================] - 3s 2ms/step - loss: 0.5939 - acc: 0.7196 - val_loss: 0.6499 - val_acc: 0.6571\n",
            "Epoch 5/10\n",
            "1070/1070 [==============================] - 3s 3ms/step - loss: 0.5939 - acc: 0.7196 - val_loss: 0.6518 - val_acc: 0.6571\n",
            "Epoch 6/10\n",
            "1070/1070 [==============================] - 3s 2ms/step - loss: 0.5937 - acc: 0.7196 - val_loss: 0.6522 - val_acc: 0.6571\n",
            "Epoch 7/10\n",
            "1070/1070 [==============================] - 3s 3ms/step - loss: 0.5939 - acc: 0.7196 - val_loss: 0.6523 - val_acc: 0.6571\n",
            "Epoch 8/10\n",
            "1070/1070 [==============================] - 3s 2ms/step - loss: 0.5936 - acc: 0.7196 - val_loss: 0.6517 - val_acc: 0.6571\n",
            "Epoch 9/10\n",
            "1070/1070 [==============================] - 3s 3ms/step - loss: 0.5936 - acc: 0.7196 - val_loss: 0.6529 - val_acc: 0.6571\n",
            "Epoch 10/10\n",
            "1070/1070 [==============================] - 3s 2ms/step - loss: 0.5938 - acc: 0.7196 - val_loss: 0.6512 - val_acc: 0.6571\n",
            "Test loss: 0.6512080955505372\n",
            "Test accuracy: 0.6571428571428571\n"
          ],
          "name": "stdout"
        }
      ]
    },
    {
      "metadata": {
        "id": "d6kVLNvYoWKB",
        "colab_type": "code",
        "outputId": "e7853c84-c1c0-461a-c7d9-0a2cd9ce355a",
        "colab": {
          "base_uri": "https://localhost:8080/",
          "height": 34
        }
      },
      "cell_type": "code",
      "source": [
        "np.shape(phq8_array_test)"
      ],
      "execution_count": 47,
      "outputs": [
        {
          "output_type": "execute_result",
          "data": {
            "text/plain": [
              "(350, 2)"
            ]
          },
          "metadata": {
            "tags": []
          },
          "execution_count": 47
        }
      ]
    },
    {
      "metadata": {
        "id": "NPLQngVAoWKH",
        "colab_type": "code",
        "outputId": "8d67fb93-53c2-4a19-ce47-e22772527d46",
        "colab": {}
      },
      "cell_type": "code",
      "source": [
        "prediccion = model.predict(Xdb_test_array, batch_size=batch_size, verbose=1, steps=None)\n",
        "for i in prediccion:\n",
        "    print('Valor predicho:', i)"
      ],
      "execution_count": 0,
      "outputs": [
        {
          "output_type": "stream",
          "text": [
            "35/35 [==============================] - 3s 76ms/step\n",
            "Valor predicho: [0.7687864  0.23121361]\n",
            "Valor predicho: [0.7626601  0.23733997]\n",
            "Valor predicho: [0.7687864  0.23121361]\n",
            "Valor predicho: [0.7687864  0.23121361]\n",
            "Valor predicho: [0.7613366  0.23866336]\n",
            "Valor predicho: [0.7687864  0.23121361]\n",
            "Valor predicho: [0.7687864  0.23121361]\n",
            "Valor predicho: [0.7687864  0.23121361]\n",
            "Valor predicho: [0.7687864  0.23121361]\n",
            "Valor predicho: [0.7687864  0.23121361]\n",
            "Valor predicho: [0.7687864  0.23121361]\n",
            "Valor predicho: [0.7687864  0.23121361]\n",
            "Valor predicho: [0.7687864  0.23121361]\n",
            "Valor predicho: [0.7707407  0.22925933]\n",
            "Valor predicho: [0.7687864  0.23121361]\n",
            "Valor predicho: [0.7687864  0.23121361]\n",
            "Valor predicho: [0.7687864  0.23121361]\n",
            "Valor predicho: [0.7687864  0.23121361]\n",
            "Valor predicho: [0.7687864  0.23121361]\n",
            "Valor predicho: [0.7606199  0.23938014]\n",
            "Valor predicho: [0.7687864  0.23121361]\n",
            "Valor predicho: [0.7687864  0.23121361]\n",
            "Valor predicho: [0.7606951 0.2393049]\n",
            "Valor predicho: [0.7687864  0.23121361]\n",
            "Valor predicho: [0.7687864  0.23121361]\n",
            "Valor predicho: [0.7687864  0.23121361]\n",
            "Valor predicho: [0.7687864  0.23121361]\n",
            "Valor predicho: [0.7687864  0.23121361]\n",
            "Valor predicho: [0.7687864  0.23121361]\n",
            "Valor predicho: [0.7687864  0.23121361]\n",
            "Valor predicho: [0.7687864  0.23121361]\n",
            "Valor predicho: [0.7687864  0.23121361]\n",
            "Valor predicho: [0.76619846 0.23380156]\n",
            "Valor predicho: [0.7687864  0.23121361]\n",
            "Valor predicho: [0.7687864  0.23121361]\n"
          ],
          "name": "stdout"
        }
      ]
    },
    {
      "metadata": {
        "id": "XmVEVJ9moWKY",
        "colab_type": "code",
        "colab": {}
      },
      "cell_type": "code",
      "source": [
        ""
      ],
      "execution_count": 0,
      "outputs": []
    },
    {
      "metadata": {
        "id": "U4oDk-O8oWKd",
        "colab_type": "code",
        "outputId": "a11bdd6d-76df-407e-fe0f-43e19b90cc44",
        "colab": {}
      },
      "cell_type": "code",
      "source": [
        "conf_matrix_pred = ['']\n",
        "conf_matrix_pred *= 35\n",
        "j = 0\n",
        "for i in prediccion:\n",
        "    conf_matrix_pred[j] = i.argmax(axis=0)\n",
        "    print (\"Clase: \" + str(i.argmax(axis=0)))\n",
        "    j += 1"
      ],
      "execution_count": 0,
      "outputs": [
        {
          "output_type": "stream",
          "text": [
            "Clase: 0\n",
            "Clase: 0\n",
            "Clase: 0\n",
            "Clase: 0\n",
            "Clase: 0\n",
            "Clase: 0\n",
            "Clase: 0\n",
            "Clase: 0\n",
            "Clase: 0\n",
            "Clase: 0\n",
            "Clase: 0\n",
            "Clase: 0\n",
            "Clase: 0\n",
            "Clase: 0\n",
            "Clase: 0\n",
            "Clase: 0\n",
            "Clase: 0\n",
            "Clase: 0\n",
            "Clase: 0\n",
            "Clase: 0\n",
            "Clase: 0\n",
            "Clase: 0\n",
            "Clase: 0\n",
            "Clase: 0\n",
            "Clase: 0\n",
            "Clase: 0\n",
            "Clase: 0\n",
            "Clase: 0\n",
            "Clase: 0\n",
            "Clase: 0\n",
            "Clase: 0\n",
            "Clase: 0\n",
            "Clase: 0\n",
            "Clase: 0\n",
            "Clase: 0\n"
          ],
          "name": "stdout"
        }
      ]
    },
    {
      "metadata": {
        "id": "Zc4mEIlHoWKf",
        "colab_type": "code",
        "outputId": "14ded6f2-ec48-4ea5-9635-67c81f13cee3",
        "colab": {}
      },
      "cell_type": "code",
      "source": [
        "conf_matrix_test = ['']\n",
        "conf_matrix_test *= 35\n",
        "j = 0\n",
        "for i in phq8_array_test:\n",
        "    conf_matrix_test[j] = i.argmax(axis=0)\n",
        "    print (\"Clase: \" + str(i.argmax(axis=0)))\n",
        "    j += 1"
      ],
      "execution_count": 0,
      "outputs": [
        {
          "output_type": "stream",
          "text": [
            "Clase: 0\n",
            "Clase: 0\n",
            "Clase: 0\n",
            "Clase: 1\n",
            "Clase: 1\n",
            "Clase: 1\n",
            "Clase: 1\n",
            "Clase: 1\n",
            "Clase: 0\n",
            "Clase: 1\n",
            "Clase: 1\n",
            "Clase: 0\n",
            "Clase: 0\n",
            "Clase: 0\n",
            "Clase: 0\n",
            "Clase: 0\n",
            "Clase: 1\n",
            "Clase: 0\n",
            "Clase: 1\n",
            "Clase: 0\n",
            "Clase: 1\n",
            "Clase: 0\n",
            "Clase: 0\n",
            "Clase: 1\n",
            "Clase: 0\n",
            "Clase: 0\n",
            "Clase: 0\n",
            "Clase: 0\n",
            "Clase: 0\n",
            "Clase: 0\n",
            "Clase: 1\n",
            "Clase: 0\n",
            "Clase: 0\n",
            "Clase: 0\n",
            "Clase: 0\n"
          ],
          "name": "stdout"
        }
      ]
    },
    {
      "metadata": {
        "id": "7qCt-AzLoWKm",
        "colab_type": "code",
        "colab": {}
      },
      "cell_type": "code",
      "source": [
        "cnf_matrix = confusion_matrix(conf_matrix_test,conf_matrix_pred)"
      ],
      "execution_count": 0,
      "outputs": []
    },
    {
      "metadata": {
        "id": "uQOIhMYOoWKo",
        "colab_type": "code",
        "outputId": "d7c8cdcc-8103-45f8-d652-520d3ed09c6b",
        "colab": {}
      },
      "cell_type": "code",
      "source": [
        "plot_confusion_matrix(cnf_matrix, classes=['No depresion','Depresion'],\n",
        "                      title='Confusion matrix')"
      ],
      "execution_count": 0,
      "outputs": [
        {
          "output_type": "stream",
          "text": [
            "Confusion matrix, without normalization\n",
            "[[23  0]\n",
            " [12  0]]\n"
          ],
          "name": "stdout"
        },
        {
          "output_type": "display_data",
          "data": {
            "image/png": "[encoded data removed]",
            "text/plain": [
              "<Figure size 432x288 with 2 Axes>"
            ]
          },
          "metadata": {
            "tags": [],
            "needs_background": "light"
          }
        }
      ]
    },
    {
      "metadata": {
        "id": "vnSxLz_poWKr",
        "colab_type": "code",
        "colab": {}
      },
      "cell_type": "code",
      "source": [
        ""
      ],
      "execution_count": 0,
      "outputs": []
    },
    {
      "metadata": {
        "id": "U1Aa1yv9oWKt",
        "colab_type": "code",
        "colab": {}
      },
      "cell_type": "code",
      "source": [
        ""
      ],
      "execution_count": 0,
      "outputs": []
    },
    {
      "metadata": {
        "id": "A34-HqyZoWK0",
        "colab_type": "code",
        "colab": {}
      },
      "cell_type": "code",
      "source": [
        ""
      ],
      "execution_count": 0,
      "outputs": []
    },
    {
      "metadata": {
        "id": "UPJXJ_kxoWK1",
        "colab_type": "code",
        "colab": {}
      },
      "cell_type": "code",
      "source": [
        ""
      ],
      "execution_count": 0,
      "outputs": []
    },
    {
      "metadata": {
        "id": "eCgF2knPoWK6",
        "colab_type": "code",
        "colab": {}
      },
      "cell_type": "code",
      "source": [
        ""
      ],
      "execution_count": 0,
      "outputs": []
    },
    {
      "metadata": {
        "id": "x9BnpDdBoWK8",
        "colab_type": "code",
        "colab": {}
      },
      "cell_type": "code",
      "source": [
        ""
      ],
      "execution_count": 0,
      "outputs": []
    },
    {
      "metadata": {
        "id": "xrm0go__oWK_",
        "colab_type": "code",
        "colab": {}
      },
      "cell_type": "code",
      "source": [
        ""
      ],
      "execution_count": 0,
      "outputs": []
    },
    {
      "metadata": {
        "id": "3ezz3XrZoWLB",
        "colab_type": "code",
        "colab": {}
      },
      "cell_type": "code",
      "source": [
        ""
      ],
      "execution_count": 0,
      "outputs": []
    }
  ]
}