{
 "cells": [
  {
   "cell_type": "code",
   "execution_count": 49,
   "metadata": {},
   "outputs": [],
   "source": [
    "from pydub import AudioSegment\n",
    "import pandas as pd\n",
    "import numpy as np\n",
    "import statistics as stats\n",
    "import matplotlib.pyplot as plt\n",
    "from scipy import signal\n",
    "from scipy.io import wavfile\n",
    "import librosa\n",
    "import pandas as pd\n",
    "from sklearn.metrics import confusion_matrix\n",
    "import keras\n",
    "from keras.datasets import fashion_mnist\n",
    "from keras.datasets import mnist\n",
    "from keras.models import Sequential\n",
    "from keras.layers import Dense, Dropout, Flatten, BatchNormalization\n",
    "from keras.layers import Conv2D, MaxPooling2D, ConvLSTM2D, LSTM, Bidirectional\n",
    "from keras.optimizers import sgd\n",
    "import tensorflow as tf\n",
    "import numpy as np\n",
    "import itertools\n",
    "import math"
   ]
  },
  {
   "cell_type": "code",
   "execution_count": 2,
   "metadata": {},
   "outputs": [],
   "source": [
    "#Compute spectogram of each audio\n",
    "\n",
    "SR = 22050\n",
    "def get_short_time_fourier_transform(soundwave):\n",
    "    return librosa.stft(soundwave, n_fft=256)\n",
    "\n",
    "def short_time_fourier_transform_amplitude_to_db(stft):\n",
    "    return librosa.amplitude_to_db(stft)\n",
    "\n",
    "def soundwave_to_np_spectogram(soundwave):\n",
    "    step1 = get_short_time_fourier_transform(soundwave)\n",
    "    step2 = short_time_fourier_transform_amplitude_to_db(step1)\n",
    "    step3 = step2/100\n",
    "    return step3\n",
    "\n",
    "def inspect_data(sound):\n",
    "#    plt.figure()\n",
    "#    plt.plot(sound)\n",
    "#    IPython.display.display(IPython.display.Audio(sound, rate=SR))\n",
    "    a = get_short_time_fourier_transform(sound)\n",
    "    Xdb = short_time_fourier_transform_amplitude_to_db(a)\n",
    "#    plt.figure()   \n",
    "#    plt.imshow(Xdb)    \n",
    "#    plt.show()\n",
    "#    print (Xdb.shape)\n",
    "#    print(\"Length per sample: %d, shape of spectogram: %s, max: %f min: %f\" % (len(sound), str(Xdb.shape), Xdb.max(), Xdb.min()))\n",
    "    return Xdb"
   ]
  },
  {
   "cell_type": "code",
   "execution_count": 45,
   "metadata": {},
   "outputs": [],
   "source": [
    "def plot_confusion_matrix(cm, classes,\n",
    "                          normalize=False,\n",
    "                          title='Confusion matrix',\n",
    "                          cmap=plt.cm.Blues):\n",
    "    \"\"\"\n",
    "    This function prints and plots the confusion matrix.\n",
    "    Normalization can be applied by setting `normalize=True`.\n",
    "    \"\"\"\n",
    "    if normalize:\n",
    "        cm = cm.astype('float') / cm.sum(axis=1)[:, np.newaxis]\n",
    "        print(\"Normalized confusion matrix\")\n",
    "    else:\n",
    "        print('Confusion matrix, without normalization')\n",
    "\n",
    "    print(cm)\n",
    "\n",
    "    plt.imshow(cm, interpolation='nearest', cmap=cmap)\n",
    "    plt.title(title)\n",
    "    plt.colorbar()\n",
    "    tick_marks = np.arange(len(classes))\n",
    "    plt.xticks(tick_marks, classes, rotation=45)\n",
    "    plt.yticks(tick_marks, classes)\n",
    "\n",
    "    fmt = '.2f' if normalize else 'd'\n",
    "    thresh = cm.max() / 2.\n",
    "    for i, j in itertools.product(range(cm.shape[0]), range(cm.shape[1])):\n",
    "        plt.text(j, i, format(cm[i, j], fmt),\n",
    "                 horizontalalignment=\"center\",\n",
    "                 color=\"white\" if cm[i, j] > thresh else \"black\")\n",
    "\n",
    "    plt.ylabel('True label')\n",
    "    plt.xlabel('Predicted label')\n",
    "    plt.tight_layout()"
   ]
  },
  {
   "cell_type": "code",
   "execution_count": 3,
   "metadata": {},
   "outputs": [],
   "source": [
    "#Creacion de las variables necesarias para la ejecucion del codigo\n",
    "\n",
    "i = 0\n",
    "j = 0\n",
    "k = 0\n",
    "number_list_train = ['']\n",
    "number_list_test = ['']\n",
    "file_count = 107\n",
    "file_count2 = 35\n",
    "input_array_train = ['']\n",
    "phq8_array_train = ['']\n",
    "input_array_train *= file_count\n",
    "phq8_array_train *= file_count\n",
    "number_list_train *= file_count\n",
    "input_array_test = ['']\n",
    "phq8_array_test = ['']\n",
    "input_array_test *= file_count2\n",
    "phq8_array_test *= file_count2\n",
    "number_list_test *= file_count2"
   ]
  },
  {
   "cell_type": "code",
   "execution_count": null,
   "metadata": {},
   "outputs": [],
   "source": [
    "#Abrir archivos de audio y segmentar por segmento de tiempo.\n",
    "#Exportar los segmentos a otra carpeta para su posterior analisis\n",
    "\n",
    "\n",
    "number = 0\n",
    "\n",
    "l = 0\n",
    "m = 0\n",
    "      \n",
    "data = open('C:/Users/Fran/Desktop/Database/datos1.txt', 'r', encoding='utf-8-sig')\n",
    "for line in data:\n",
    "    mylist = line.split(',')\n",
    "    number = mylist[0]\n",
    "    df = pd.read_csv('C:/Users/Fran/Desktop/Database/' + str(number) + '_P/' \n",
    "                     + str(number) + '_TRANSCRIPT.csv', header=0)\n",
    "    while i < len (df):\n",
    "        a = df.iloc[i].str.split()\n",
    "        if a[0][2] == 'Participant' and j == 0: \n",
    "            newAudio = AudioSegment.from_wav('C:/Users/Fran/Desktop/Database/' \n",
    "                                             + str(number) + '_P/' + str(number) + '_AUDIO.wav')\n",
    "            t1 = int(float(a[0][0]) * 1000)\n",
    "            t2 = int(float(a[0][1]) * 1000)\n",
    "            newAudio = newAudio[t1:t2]\n",
    "            newAudio.export('C:/Users/Fran/Desktop/prueba/' + str(number) + '.wav', format=\"wav\")\n",
    "            j = 1\n",
    "        elif a[0][2] == 'Participant':\n",
    "            \n",
    "            newAudio = AudioSegment.from_wav('C:/Users/Fran/Desktop/Database/' \n",
    "                                             + str(number) + '_P/' + str(number) + '_AUDIO.wav')\n",
    "            t1 = int(float(a[0][0]) * 1000)\n",
    "            t2 = int(float(a[0][1]) * 1000)\n",
    "            newAudio = newAudio[t1:t2]\n",
    "            newAudio.export('C:/Users/Fran/Desktop/prueba/' + str(number) + 'segmento.wav', format=\"wav\")\n",
    "            sound1 = AudioSegment.from_wav('C:/Users/Fran/Desktop/prueba/' + str(number) + '.wav')\n",
    "            sound2 = AudioSegment.from_wav('C:/Users/Fran/Desktop/prueba/' + str(number) + 'segmento.wav')\n",
    "\n",
    "            combined_sounds = sound1 + sound2\n",
    "            combined_sounds.export('C:/Users/Fran/Desktop/prueba/' + str(number) + '.wav', format=\"wav\")\n",
    "        i += 1\n",
    "             \n",
    "    w = AudioSegment.from_wav('C:/Users/Fran/Desktop/Database/' + str(number) + '_P/' + str(number) + '_AUDIO.wav')\n",
    "    input_array_train[l] = w\n",
    "    number_list_train[l] = number\n",
    "    phq8_array_train[l] = mylist[1]\n",
    "    l += 1\n",
    "    j = 0\n",
    "    i = 0\n",
    "    \n"
   ]
  },
  {
   "cell_type": "code",
   "execution_count": null,
   "metadata": {},
   "outputs": [],
   "source": [
    "#Abrir archivos de audio y segmentar por segmento de tiempo.\n",
    "#Exportar los segmentos a otra carpeta para su posterior analisis\n",
    "\n",
    "i = 0\n",
    "l = 0\n",
    "m = 0\n",
    "data1 = open('C:/Users/Fran/Desktop/Database/datos2_dev.txt', 'r', encoding='utf-8-sig')\n",
    "for line in data1:\n",
    "    mylist = line.split(',')\n",
    "    number = mylist[0]\n",
    "    df = pd.read_csv('C:/Users/Fran/Desktop/Database/' + str(number) + '_P/' \n",
    "                     + str(number) + '_TRANSCRIPT.csv', header=0)\n",
    "    while i < len (df):\n",
    "        a = df.iloc[i].str.split()\n",
    "        if a[0][2] == 'Participant' and j == 0: \n",
    "            newAudio = AudioSegment.from_wav('C:/Users/Fran/Desktop/Database/' \n",
    "                                             + str(number) + '_P/' + str(number) + '_AUDIO.wav')\n",
    "            t1 = int(float(a[0][0]) * 1000)\n",
    "            t2 = int(float(a[0][1]) * 1000)\n",
    "            newAudio = newAudio[t1:t2]\n",
    "            newAudio.export('C:/Users/Fran/Desktop/prueba_test/' + str(number) + '.wav', format=\"wav\")\n",
    "            j = 1\n",
    "        elif a[0][2] == 'Participant':\n",
    "            \n",
    "            newAudio = AudioSegment.from_wav('C:/Users/Fran/Desktop/Database/' \n",
    "                                             + str(number) + '_P/' + str(number) + '_AUDIO.wav')\n",
    "            t1 = int(float(a[0][0]) * 1000)\n",
    "            t2 = int(float(a[0][1]) * 1000)\n",
    "            newAudio = newAudio[t1:t2]\n",
    "            newAudio.export('C:/Users/Fran/Desktop/prueba_test/' + str(number) + 'segmento.wav', format=\"wav\")\n",
    "            sound1 = AudioSegment.from_wav('C:/Users/Fran/Desktop/prueba_test/' + str(number) + '.wav')\n",
    "            sound2 = AudioSegment.from_wav('C:/Users/Fran/Desktop/prueba_test/' + str(number) + 'segmento.wav')\n",
    "\n",
    "            combined_sounds = sound1 + sound2\n",
    "            combined_sounds.export('C:/Users/Fran/Desktop/prueba_test/' + str(number) + '.wav', format=\"wav\")\n",
    "        i += 1\n",
    "             \n",
    "    w = AudioSegment.from_wav('C:/Users/Fran/Desktop/Database/' + str(number) + '_P/' + str(number) + '_AUDIO.wav')\n",
    "    input_array_test[l] = w\n",
    "    number_list_test[l] = number\n",
    "    phq8_array_test[l] = mylist[1]\n",
    "    l += 1\n",
    "    j = 0\n",
    "    i = 0 "
   ]
  },
  {
   "cell_type": "code",
   "execution_count": 4,
   "metadata": {},
   "outputs": [],
   "source": [
    "#creacion de arrays, que seran usados despues para el entranamiento del modelo y creacion de espectogramas\n",
    "\n",
    "l = 0\n",
    "data = open('C:/Users/Fran/Desktop/Database/datos1.txt', 'r', encoding='utf-8-sig')\n",
    "for line in data:\n",
    "    mylist = line.split(',')\n",
    "    number = mylist[0]\n",
    "    w = AudioSegment.from_wav('C:/Users/Fran/Desktop/Database/' + str(number) + '_P/' + str(number) + '_AUDIO.wav')\n",
    "    input_array_train[l] = w\n",
    "    number_list_train[l] = number\n",
    "    phq8_array_train[l] = mylist[1]\n",
    "    l += 1\n",
    "    \n",
    "l = 0\n",
    "data1 = open('C:/Users/Fran/Desktop/Database/datos2_dev.txt', 'r', encoding='utf-8-sig')\n",
    "for line in data1:\n",
    "    mylist = line.split(',')\n",
    "    number = mylist[0]\n",
    "    w = AudioSegment.from_wav('C:/Users/Fran/Desktop/Database/' + str(number) + '_P/' + str(number) + '_AUDIO.wav')\n",
    "    input_array_test[l] = w\n",
    "    number_list_test[l] = number\n",
    "    phq8_array_test[l] = mylist[1]\n",
    "    l += 1"
   ]
  },
  {
   "cell_type": "code",
   "execution_count": 5,
   "metadata": {},
   "outputs": [],
   "source": [
    "#Calculo de la longitud de cada audio para en un futuro poder mover la ventana de tiempo \n",
    "#del minimo al maximo unos determinados segundos, de momento esta informacion no se utiliza\n",
    "#y se calcula el segmento de audio con un tiempo fijo\n",
    "\n",
    "len_list_train = ['']\n",
    "len_list_test = ['']\n",
    "len_list_train *= file_count\n",
    "len_list_test *= file_count2\n",
    "i = 0\n",
    "j = 0\n",
    "\n",
    "\n",
    "for audio_number in number_list_train:\n",
    "    Audio_train = AudioSegment.from_wav('C:/Users/Fran/Desktop/prueba/' + str(audio_number) + '.wav')\n",
    "    len_list_train[i] = int(len(Audio_train) / (1000))\n",
    "    i += 1\n",
    "    \n",
    "    \n",
    "for audio_number in number_list_test:\n",
    "    Audio_test = AudioSegment.from_wav('C:/Users/Fran/Desktop/prueba_test/' + str(audio_number) + '.wav')\n",
    "    len_list_test[j] = int(len(Audio_test) / (1000))\n",
    "    j += 1\n",
    "    \n"
   ]
  },
  {
   "cell_type": "code",
   "execution_count": null,
   "metadata": {},
   "outputs": [],
   "source": [
    "minimun_audio_train = np.min(len_list_train)\n",
    "minimun_audio_test = np.min(len_list_test)"
   ]
  },
  {
   "cell_type": "code",
   "execution_count": 5,
   "metadata": {},
   "outputs": [],
   "source": [
    "#Creacion de los segmentos de audio para despues crear los espectogramas\n",
    "\n",
    "t1_train_ini = 20 * 1000\n",
    "t1_test_ini = 20 * 1000\n",
    "t2_train_end = 45 * 1000\n",
    "t2_test_end = 45 * 1000\n",
    "\n",
    "for audio_number in number_list_train:\n",
    "    Audio_train = AudioSegment.from_wav('C:/Users/Fran/Desktop/prueba/' + str(audio_number) + '.wav')\n",
    "    Audio_train = Audio_train[t1_train_ini:t2_train_end]\n",
    "    Audio_train.export('C:/Users/Fran/Desktop/database_train/' + str(audio_number) + '.wav', format=\"wav\")\n",
    "    \n",
    "    \n",
    "for audio_number in number_list_test:\n",
    "    Audio_test = AudioSegment.from_wav('C:/Users/Fran/Desktop/prueba_test/' + str(audio_number) + '.wav')\n",
    "    Audio_test = Audio_test[t1_train_ini:t2_train_end]\n",
    "    Audio_test.export('C:/Users/Fran/Desktop/database_test/' + str(audio_number) + '.wav', format=\"wav\")"
   ]
  },
  {
   "cell_type": "code",
   "execution_count": 6,
   "metadata": {},
   "outputs": [
    {
     "name": "stderr",
     "output_type": "stream",
     "text": [
      "C:\\Users\\Fran\\Anaconda3\\lib\\site-packages\\librosa\\core\\spectrum.py:960: UserWarning: amplitude_to_db was called on complex input so phase information will be discarded. To suppress this warning, call amplitude_to_db(np.abs(S)) instead.\n",
      "  warnings.warn('amplitude_to_db was called on complex input so phase '\n"
     ]
    }
   ],
   "source": [
    "#Spectograms of each segmented audio\n",
    "\n",
    "i = 0\n",
    "Xdb_train = ['']\n",
    "Xdb_train_normalized = ['']\n",
    "Xdb_train *= file_count\n",
    "Xdb_train_normalized *= file_count\n",
    "\n",
    "Xdb_test = ['']\n",
    "Xdb_test_normalized = ['']\n",
    "Xdb_test *= file_count2\n",
    "Xdb_test_normalized *= file_count2\n",
    "\n",
    "for audio_train in number_list_train:\n",
    "    X, sr = librosa.load('C:/Users/Fran/Desktop/database_train/' + str(audio_train) + '.wav')\n",
    "    Xdb_train[i] = inspect_data(X)\n",
    "    #Xdb_train_normalized[i] = tf.log(tf.abs(Xdb_train[i]) + 0.01)\n",
    "    i += 1\n",
    "\n",
    "i = 0\n",
    "\n",
    "for audio_test in number_list_test:\n",
    "    X, sr = librosa.load('C:/Users/Fran/Desktop/database_test/' + str(audio_test) + '.wav')\n",
    "    Xdb_test[i] = inspect_data(X)\n",
    "    #Xdb_test_normalized[i] = tf.log(tf.abs(Xdb_test[i]) + 0.01)\n",
    "    i += 1"
   ]
  },
  {
   "cell_type": "code",
   "execution_count": 7,
   "metadata": {},
   "outputs": [],
   "source": [
    "#np.shape(Xdb_train_normalized[0])"
   ]
  },
  {
   "cell_type": "code",
   "execution_count": 11,
   "metadata": {},
   "outputs": [
    {
     "data": {
      "text/plain": [
       "8614"
      ]
     },
     "execution_count": 11,
     "metadata": {},
     "output_type": "execute_result"
    }
   ],
   "source": [
    "ancho"
   ]
  },
  {
   "cell_type": "code",
   "execution_count": 9,
   "metadata": {},
   "outputs": [
    {
     "data": {
      "image/png": "[encoded data removed]",
      "text/plain": [
       "<Figure size 432x288 with 1 Axes>"
      ]
     },
     "metadata": {
      "needs_background": "light"
     },
     "output_type": "display_data"
    }
   ],
   "source": [
    "#Espectograma de 1 audio segmentado\n",
    "\n",
    "plt.imshow(Xdb_train[0])\n",
    "alto, ancho = np.shape(Xdb_train[0])"
   ]
  },
  {
   "cell_type": "code",
   "execution_count": 46,
   "metadata": {},
   "outputs": [
    {
     "data": {
      "text/plain": [
       "(107, 129, 10336)"
      ]
     },
     "execution_count": 46,
     "metadata": {},
     "output_type": "execute_result"
    }
   ],
   "source": [
    "np.shape(Xdb_train)"
   ]
  },
  {
   "cell_type": "code",
   "execution_count": 20,
   "metadata": {},
   "outputs": [
    {
     "data": {
      "text/plain": [
       "(107, 1, 1111206)"
      ]
     },
     "execution_count": 20,
     "metadata": {},
     "output_type": "execute_result"
    }
   ],
   "source": [
    "np.shape(Xdb_train_array)"
   ]
  },
  {
   "cell_type": "code",
   "execution_count": 27,
   "metadata": {},
   "outputs": [
    {
     "data": {
      "text/plain": [
       "array([[1., 0.],\n",
       "       [1., 0.],\n",
       "       [1., 0.],\n",
       "       [1., 0.],\n",
       "       [1., 0.],\n",
       "       [1., 0.],\n",
       "       [1., 0.],\n",
       "       [1., 0.],\n",
       "       [1., 0.],\n",
       "       [1., 0.],\n",
       "       [0., 1.],\n",
       "       [0., 1.],\n",
       "       [0., 1.],\n",
       "       [1., 0.],\n",
       "       [1., 0.],\n",
       "       [0., 1.],\n",
       "       [1., 0.],\n",
       "       [1., 0.],\n",
       "       [1., 0.],\n",
       "       [0., 1.],\n",
       "       [1., 0.],\n",
       "       [1., 0.],\n",
       "       [0., 1.],\n",
       "       [0., 1.],\n",
       "       [1., 0.],\n",
       "       [1., 0.],\n",
       "       [1., 0.],\n",
       "       [0., 1.],\n",
       "       [0., 1.],\n",
       "       [0., 1.],\n",
       "       [0., 1.],\n",
       "       [0., 1.],\n",
       "       [0., 1.],\n",
       "       [0., 1.],\n",
       "       [0., 1.],\n",
       "       [0., 1.],\n",
       "       [0., 1.],\n",
       "       [1., 0.],\n",
       "       [1., 0.],\n",
       "       [1., 0.],\n",
       "       [0., 1.],\n",
       "       [1., 0.],\n",
       "       [1., 0.],\n",
       "       [1., 0.],\n",
       "       [1., 0.],\n",
       "       [1., 0.],\n",
       "       [1., 0.],\n",
       "       [1., 0.],\n",
       "       [0., 1.],\n",
       "       [1., 0.],\n",
       "       [1., 0.],\n",
       "       [0., 1.],\n",
       "       [1., 0.],\n",
       "       [0., 1.],\n",
       "       [1., 0.],\n",
       "       [1., 0.],\n",
       "       [0., 1.],\n",
       "       [1., 0.],\n",
       "       [1., 0.],\n",
       "       [1., 0.],\n",
       "       [1., 0.],\n",
       "       [1., 0.],\n",
       "       [1., 0.],\n",
       "       [0., 1.],\n",
       "       [1., 0.],\n",
       "       [0., 1.],\n",
       "       [0., 1.],\n",
       "       [1., 0.],\n",
       "       [1., 0.],\n",
       "       [1., 0.],\n",
       "       [1., 0.],\n",
       "       [1., 0.],\n",
       "       [0., 1.],\n",
       "       [1., 0.],\n",
       "       [1., 0.],\n",
       "       [1., 0.],\n",
       "       [1., 0.],\n",
       "       [0., 1.],\n",
       "       [1., 0.],\n",
       "       [1., 0.],\n",
       "       [0., 1.],\n",
       "       [1., 0.],\n",
       "       [1., 0.],\n",
       "       [1., 0.],\n",
       "       [1., 0.],\n",
       "       [1., 0.],\n",
       "       [0., 1.],\n",
       "       [1., 0.],\n",
       "       [1., 0.],\n",
       "       [1., 0.],\n",
       "       [1., 0.],\n",
       "       [1., 0.],\n",
       "       [0., 1.],\n",
       "       [1., 0.],\n",
       "       [1., 0.],\n",
       "       [1., 0.],\n",
       "       [1., 0.],\n",
       "       [1., 0.],\n",
       "       [1., 0.],\n",
       "       [1., 0.],\n",
       "       [1., 0.],\n",
       "       [1., 0.],\n",
       "       [1., 0.],\n",
       "       [1., 0.],\n",
       "       [1., 0.],\n",
       "       [1., 0.],\n",
       "       [1., 0.]], dtype=float32)"
      ]
     },
     "execution_count": 27,
     "metadata": {},
     "output_type": "execute_result"
    }
   ],
   "source": [
    "phq8_array_train"
   ]
  },
  {
   "cell_type": "code",
   "execution_count": 12,
   "metadata": {},
   "outputs": [],
   "source": [
    "#Creacion de los arrays, transformand el array para introducirlo en la red LSTM\n",
    "\n",
    "Xdb_train_array = np.ndarray(shape = (107,alto,ancho))\n",
    "Xdb_test_array = np.ndarray(shape = (35,alto,ancho))\n",
    "\n",
    "i = 0\n",
    "for train in Xdb_train:\n",
    "    Xdb_train_array[i] = train\n",
    "    i += 1\n",
    "    \n",
    "i = 0\n",
    "for test in Xdb_test:\n",
    "    Xdb_test_array[i] = test\n",
    "    i += 1\n",
    "    \n",
    "Xdb_train_array = Xdb_train_array.reshape(107 ,alto*ancho)\n",
    "Xdb_test_array = Xdb_test_array.reshape(35, alto*ancho)\n",
    "\n",
    "Xdb_train_array = np.reshape(Xdb_train_array, (Xdb_train_array.shape[0], 1, Xdb_train_array.shape[1]))\n",
    "Xdb_test_array = np.reshape(Xdb_test_array, (Xdb_test_array.shape[0], 1, Xdb_test_array.shape[1]))"
   ]
  },
  {
   "cell_type": "code",
   "execution_count": 21,
   "metadata": {},
   "outputs": [],
   "source": [
    "#i= 0\n",
    "#for audio_train in number_list_train:\n",
    "#    Xdb_train[i] = Xdb_train[i].reshape(1333344,)\n",
    "#    i += 1\n",
    "    \n",
    "#i= 0    \n",
    "#for audio_test in number_list_test:\n",
    "#    Xdb_test[i] = Xdb_test[i].reshape(1333344,)\n",
    "#    i += 1"
   ]
  },
  {
   "cell_type": "code",
   "execution_count": 22,
   "metadata": {},
   "outputs": [],
   "source": [
    "#Xdb_train_array=Xdb_train_array.reshape(Xdb_train_array.shape[0],Xdb_train_array.shape[1],1)"
   ]
  },
  {
   "cell_type": "code",
   "execution_count": 23,
   "metadata": {},
   "outputs": [],
   "source": [
    "#Xdb_test_array=Xdb_test_array.reshape(Xdb_test_array.shape[0],Xdb_test_array.shape[1],1)"
   ]
  },
  {
   "cell_type": "code",
   "execution_count": 24,
   "metadata": {},
   "outputs": [],
   "source": [
    "#np.shape(Xdb_train_array)"
   ]
  },
  {
   "cell_type": "code",
   "execution_count": 25,
   "metadata": {},
   "outputs": [],
   "source": [
    "#num_classes = 2\n",
    "#batch_size = 64\n",
    "#epochs = 10"
   ]
  },
  {
   "cell_type": "code",
   "execution_count": 19,
   "metadata": {},
   "outputs": [],
   "source": [
    "#Xdb_train_array = Xdb_train_array.reshape(Xdb_train_array.shape[0], alto, ancho, 1)\n",
    "#Xdb_test_array = Xdb_test_array.reshape(Xdb_test_array.shape[0], alto, ancho, 1)"
   ]
  },
  {
   "cell_type": "code",
   "execution_count": 28,
   "metadata": {},
   "outputs": [],
   "source": [
    "#print (Xdb_train_array.shape)\n",
    "#print (Xdb_test_array.shape)"
   ]
  },
  {
   "cell_type": "code",
   "execution_count": 52,
   "metadata": {},
   "outputs": [],
   "source": [
    "#seq = Sequential()\n",
    "#seq.add(ConvLSTM2D(filters=40, kernel_size=(3, 3),\n",
    "#                   input_shape=(107, 129, 1723, 1),\n",
    "#                   padding='same', return_sequences=True))\n",
    "#seq.add(BatchNormalization())\n",
    "\n",
    "#seq.add(ConvLSTM2D(filters=40, kernel_size=(3, 3),\n",
    "#                   padding='same', return_sequences=True))\n",
    "#seq.add(BatchNormalization())\n",
    "\n",
    "#seq.add(ConvLSTM2D(filters=40, kernel_size=(3, 3),\n",
    "#                   padding='same', return_sequences=True))\n",
    "#seq.add(BatchNormalization())\n",
    "\n",
    "#seq.add(ConvLSTM2D(filters=40, kernel_size=(3, 3),\n",
    "#                   padding='same', return_sequences=True))\n",
    "#seq.add(BatchNormalization())\n",
    "\n",
    "#seq.add(Conv3D(filters=1, kernel_size=(3, 3, 3),\n",
    "#               activation='sigmoid',\n",
    "#               padding='same', data_format='channels_last'))\n",
    "#seq.compile(loss='binary_crossentropy', optimizer='adadelta', metrics=['accuracy'])"
   ]
  },
  {
   "cell_type": "code",
   "execution_count": null,
   "metadata": {},
   "outputs": [],
   "source": [
    "#Red neuronal\n",
    "\n",
    "#model = Sequential()\n",
    "#model.add(Conv2D(32, kernel_size=(3, 3), activation='relu', input_shape=(alto,ancho,1)))\n",
    "#model.add(MaxPooling2D(pool_size=(2, 2)))\n",
    "#model.add(Conv2D(64, (3, 3), activation='relu'))\n",
    "#model.add(MaxPooling2D(pool_size=(2, 2)))\n",
    "#model.add(Conv2D(128, (3, 3), activation='relu'))\n",
    "#model.add(MaxPooling2D(pool_size=(2, 2)))\n",
    "#model.add(Conv2D(256, (3, 3), activation='relu'))\n",
    "#model.add(MaxPooling2D(pool_size=(2, 2)))\n",
    "#model.add(Dropout(0.25))\n",
    "#model.add(Flatten())\n",
    "#model.add(Dense(128, activation='relu'))\n",
    "#model.add(Dropout(0.5))\n",
    "#model.add(Dense(num_classes, activation='softmax'))\n",
    "\n",
    "#model.summary()\n",
    "\n",
    "#model.compile(loss=keras.losses.categorical_crossentropy,\n",
    "#              optimizer=keras.optimizers.Adadelta(),\n",
    "#              metrics=['accuracy'])"
   ]
  },
  {
   "cell_type": "code",
   "execution_count": null,
   "metadata": {},
   "outputs": [],
   "source": [
    "num_classes = 2\n",
    "batch_size = 64\n",
    "epochs = 10\n",
    "\n",
    "# convert class vectors to binary class matrices\n",
    "phq8_array_train = keras.utils.to_categorical(phq8_array_train, num_classes)\n",
    "phq8_array_test = keras.utils.to_categorical(phq8_array_test, num_classes)"
   ]
  },
  {
   "cell_type": "code",
   "execution_count": 29,
   "metadata": {},
   "outputs": [
    {
     "name": "stdout",
     "output_type": "stream",
     "text": [
      "_________________________________________________________________\n",
      "Layer (type)                 Output Shape              Param #   \n",
      "=================================================================\n",
      "bidirectional_1 (Bidirection (None, 1, 256)            1138007040\n",
      "_________________________________________________________________\n",
      "bidirectional_2 (Bidirection (None, 128)               164352    \n",
      "_________________________________________________________________\n",
      "dense_1 (Dense)              (None, 64)                8256      \n",
      "_________________________________________________________________\n",
      "dropout_1 (Dropout)          (None, 64)                0         \n",
      "_________________________________________________________________\n",
      "dense_2 (Dense)              (None, 2)                 130       \n",
      "=================================================================\n",
      "Total params: 1,138,179,778\n",
      "Trainable params: 1,138,179,778\n",
      "Non-trainable params: 0\n",
      "_________________________________________________________________\n"
     ]
    }
   ],
   "source": [
    "model = Sequential()\n",
    "model.add(Bidirectional(LSTM(128, return_sequences=True),\n",
    "                        input_shape=(1, alto*ancho)))\n",
    "model.add(Bidirectional(LSTM(64)))\n",
    "model.add(Dense(64, activation='relu'))\n",
    "model.add(Dropout(0.2))\n",
    "model.add(Dense(num_classes, activation='softmax'))\n",
    "\n",
    "model.summary()\n",
    "model.compile(loss=keras.losses.categorical_crossentropy,\n",
    "              optimizer=keras.optimizers.rmsprop(),\n",
    "              metrics=['accuracy'])\n",
    "\n"
   ]
  },
  {
   "cell_type": "code",
   "execution_count": 30,
   "metadata": {},
   "outputs": [
    {
     "name": "stdout",
     "output_type": "stream",
     "text": [
      "Train on 107 samples, validate on 35 samples\n",
      "Epoch 1/10\n",
      "107/107 [==============================] - 294s 3s/step - loss: 0.6664 - acc: 0.5794 - val_loss: 0.6504 - val_acc: 0.6571\n",
      "Epoch 2/10\n",
      "107/107 [==============================] - 257s 2s/step - loss: 0.6246 - acc: 0.7103 - val_loss: 0.6460 - val_acc: 0.6571\n",
      "Epoch 3/10\n",
      "107/107 [==============================] - 234s 2s/step - loss: 0.5965 - acc: 0.7196 - val_loss: 0.6538 - val_acc: 0.6571\n",
      "Epoch 4/10\n",
      "107/107 [==============================] - 266s 2s/step - loss: 0.5813 - acc: 0.7196 - val_loss: 0.6520 - val_acc: 0.6571\n",
      "Epoch 5/10\n",
      "107/107 [==============================] - 236s 2s/step - loss: 0.5951 - acc: 0.7196 - val_loss: 0.6733 - val_acc: 0.6571\n",
      "Epoch 6/10\n",
      "107/107 [==============================] - 286s 3s/step - loss: 0.6080 - acc: 0.7196 - val_loss: 0.6729 - val_acc: 0.6571\n",
      "Epoch 7/10\n",
      "107/107 [==============================] - 281s 3s/step - loss: 0.5972 - acc: 0.7196 - val_loss: 0.6434 - val_acc: 0.6571\n",
      "Epoch 8/10\n",
      "107/107 [==============================] - 250s 2s/step - loss: 0.6176 - acc: 0.7196 - val_loss: 0.6457 - val_acc: 0.6571\n",
      "Epoch 9/10\n",
      "107/107 [==============================] - 265s 2s/step - loss: 0.6068 - acc: 0.7196 - val_loss: 0.6438 - val_acc: 0.6571\n",
      "Epoch 10/10\n",
      "107/107 [==============================] - 273s 3s/step - loss: 0.6012 - acc: 0.7196 - val_loss: 0.6748 - val_acc: 0.6571\n",
      "Test loss: 0.6748288844312941\n",
      "Test accuracy: 0.6571428571428571\n"
     ]
    }
   ],
   "source": [
    "model.fit(Xdb_train_array, phq8_array_train,\n",
    "          batch_size=batch_size,\n",
    "          epochs=epochs,\n",
    "          verbose=1,\n",
    "          validation_data=(Xdb_test_array, phq8_array_test))\n",
    "score = model.evaluate(Xdb_test_array, phq8_array_test, verbose=0)\n",
    "print('Test loss:', score[0])\n",
    "print('Test accuracy:', score[1])"
   ]
  },
  {
   "cell_type": "code",
   "execution_count": 51,
   "metadata": {},
   "outputs": [
    {
     "data": {
      "text/plain": [
       "array([[1., 0.],\n",
       "       [1., 0.],\n",
       "       [1., 0.],\n",
       "       [1., 0.],\n",
       "       [1., 0.],\n",
       "       [1., 0.],\n",
       "       [1., 0.],\n",
       "       [1., 0.],\n",
       "       [1., 0.],\n",
       "       [1., 0.],\n",
       "       [0., 1.],\n",
       "       [0., 1.],\n",
       "       [0., 1.],\n",
       "       [1., 0.],\n",
       "       [1., 0.],\n",
       "       [0., 1.],\n",
       "       [1., 0.],\n",
       "       [1., 0.],\n",
       "       [1., 0.],\n",
       "       [0., 1.],\n",
       "       [1., 0.],\n",
       "       [1., 0.],\n",
       "       [0., 1.],\n",
       "       [0., 1.],\n",
       "       [1., 0.],\n",
       "       [1., 0.],\n",
       "       [1., 0.],\n",
       "       [0., 1.],\n",
       "       [0., 1.],\n",
       "       [0., 1.],\n",
       "       [0., 1.],\n",
       "       [0., 1.],\n",
       "       [0., 1.],\n",
       "       [0., 1.],\n",
       "       [0., 1.],\n",
       "       [0., 1.],\n",
       "       [0., 1.],\n",
       "       [1., 0.],\n",
       "       [1., 0.],\n",
       "       [1., 0.],\n",
       "       [0., 1.],\n",
       "       [1., 0.],\n",
       "       [1., 0.],\n",
       "       [1., 0.],\n",
       "       [1., 0.],\n",
       "       [1., 0.],\n",
       "       [1., 0.],\n",
       "       [1., 0.],\n",
       "       [0., 1.],\n",
       "       [1., 0.],\n",
       "       [1., 0.],\n",
       "       [0., 1.],\n",
       "       [1., 0.],\n",
       "       [0., 1.],\n",
       "       [1., 0.],\n",
       "       [1., 0.],\n",
       "       [0., 1.],\n",
       "       [1., 0.],\n",
       "       [1., 0.],\n",
       "       [1., 0.],\n",
       "       [1., 0.],\n",
       "       [1., 0.],\n",
       "       [1., 0.],\n",
       "       [0., 1.],\n",
       "       [1., 0.],\n",
       "       [0., 1.],\n",
       "       [0., 1.],\n",
       "       [1., 0.],\n",
       "       [1., 0.],\n",
       "       [1., 0.],\n",
       "       [1., 0.],\n",
       "       [1., 0.],\n",
       "       [0., 1.],\n",
       "       [1., 0.],\n",
       "       [1., 0.],\n",
       "       [1., 0.],\n",
       "       [1., 0.],\n",
       "       [0., 1.],\n",
       "       [1., 0.],\n",
       "       [1., 0.],\n",
       "       [0., 1.],\n",
       "       [1., 0.],\n",
       "       [1., 0.],\n",
       "       [1., 0.],\n",
       "       [1., 0.],\n",
       "       [1., 0.],\n",
       "       [0., 1.],\n",
       "       [1., 0.],\n",
       "       [1., 0.],\n",
       "       [1., 0.],\n",
       "       [1., 0.],\n",
       "       [1., 0.],\n",
       "       [0., 1.],\n",
       "       [1., 0.],\n",
       "       [1., 0.],\n",
       "       [1., 0.],\n",
       "       [1., 0.],\n",
       "       [1., 0.],\n",
       "       [1., 0.],\n",
       "       [1., 0.],\n",
       "       [1., 0.],\n",
       "       [1., 0.],\n",
       "       [1., 0.],\n",
       "       [1., 0.],\n",
       "       [1., 0.],\n",
       "       [1., 0.],\n",
       "       [1., 0.]], dtype=float32)"
      ]
     },
     "execution_count": 51,
     "metadata": {},
     "output_type": "execute_result"
    }
   ],
   "source": [
    "phq8_array_train"
   ]
  },
  {
   "cell_type": "code",
   "execution_count": 38,
   "metadata": {},
   "outputs": [
    {
     "name": "stdout",
     "output_type": "stream",
     "text": [
      "35/35 [==============================] - 3s 76ms/step\n",
      "Valor predicho: [0.7687864  0.23121361]\n",
      "Valor predicho: [0.7626601  0.23733997]\n",
      "Valor predicho: [0.7687864  0.23121361]\n",
      "Valor predicho: [0.7687864  0.23121361]\n",
      "Valor predicho: [0.7613366  0.23866336]\n",
      "Valor predicho: [0.7687864  0.23121361]\n",
      "Valor predicho: [0.7687864  0.23121361]\n",
      "Valor predicho: [0.7687864  0.23121361]\n",
      "Valor predicho: [0.7687864  0.23121361]\n",
      "Valor predicho: [0.7687864  0.23121361]\n",
      "Valor predicho: [0.7687864  0.23121361]\n",
      "Valor predicho: [0.7687864  0.23121361]\n",
      "Valor predicho: [0.7687864  0.23121361]\n",
      "Valor predicho: [0.7707407  0.22925933]\n",
      "Valor predicho: [0.7687864  0.23121361]\n",
      "Valor predicho: [0.7687864  0.23121361]\n",
      "Valor predicho: [0.7687864  0.23121361]\n",
      "Valor predicho: [0.7687864  0.23121361]\n",
      "Valor predicho: [0.7687864  0.23121361]\n",
      "Valor predicho: [0.7606199  0.23938014]\n",
      "Valor predicho: [0.7687864  0.23121361]\n",
      "Valor predicho: [0.7687864  0.23121361]\n",
      "Valor predicho: [0.7606951 0.2393049]\n",
      "Valor predicho: [0.7687864  0.23121361]\n",
      "Valor predicho: [0.7687864  0.23121361]\n",
      "Valor predicho: [0.7687864  0.23121361]\n",
      "Valor predicho: [0.7687864  0.23121361]\n",
      "Valor predicho: [0.7687864  0.23121361]\n",
      "Valor predicho: [0.7687864  0.23121361]\n",
      "Valor predicho: [0.7687864  0.23121361]\n",
      "Valor predicho: [0.7687864  0.23121361]\n",
      "Valor predicho: [0.7687864  0.23121361]\n",
      "Valor predicho: [0.76619846 0.23380156]\n",
      "Valor predicho: [0.7687864  0.23121361]\n",
      "Valor predicho: [0.7687864  0.23121361]\n"
     ]
    }
   ],
   "source": [
    "prediccion = model.predict(Xdb_test_array, batch_size=batch_size, verbose=1, steps=None)\n",
    "for i in prediccion:\n",
    "    print('Valor predicho:', i)"
   ]
  },
  {
   "cell_type": "code",
   "execution_count": null,
   "metadata": {},
   "outputs": [],
   "source": []
  },
  {
   "cell_type": "code",
   "execution_count": 40,
   "metadata": {},
   "outputs": [
    {
     "name": "stdout",
     "output_type": "stream",
     "text": [
      "Clase: 0\n",
      "Clase: 0\n",
      "Clase: 0\n",
      "Clase: 0\n",
      "Clase: 0\n",
      "Clase: 0\n",
      "Clase: 0\n",
      "Clase: 0\n",
      "Clase: 0\n",
      "Clase: 0\n",
      "Clase: 0\n",
      "Clase: 0\n",
      "Clase: 0\n",
      "Clase: 0\n",
      "Clase: 0\n",
      "Clase: 0\n",
      "Clase: 0\n",
      "Clase: 0\n",
      "Clase: 0\n",
      "Clase: 0\n",
      "Clase: 0\n",
      "Clase: 0\n",
      "Clase: 0\n",
      "Clase: 0\n",
      "Clase: 0\n",
      "Clase: 0\n",
      "Clase: 0\n",
      "Clase: 0\n",
      "Clase: 0\n",
      "Clase: 0\n",
      "Clase: 0\n",
      "Clase: 0\n",
      "Clase: 0\n",
      "Clase: 0\n",
      "Clase: 0\n"
     ]
    }
   ],
   "source": [
    "conf_matrix_pred = ['']\n",
    "conf_matrix_pred *= 35\n",
    "j = 0\n",
    "for i in prediccion:\n",
    "    conf_matrix_pred[j] = i.argmax(axis=0)\n",
    "    print (\"Clase: \" + str(i.argmax(axis=0)))\n",
    "    j += 1"
   ]
  },
  {
   "cell_type": "code",
   "execution_count": 41,
   "metadata": {},
   "outputs": [
    {
     "name": "stdout",
     "output_type": "stream",
     "text": [
      "Clase: 0\n",
      "Clase: 0\n",
      "Clase: 0\n",
      "Clase: 1\n",
      "Clase: 1\n",
      "Clase: 1\n",
      "Clase: 1\n",
      "Clase: 1\n",
      "Clase: 0\n",
      "Clase: 1\n",
      "Clase: 1\n",
      "Clase: 0\n",
      "Clase: 0\n",
      "Clase: 0\n",
      "Clase: 0\n",
      "Clase: 0\n",
      "Clase: 1\n",
      "Clase: 0\n",
      "Clase: 1\n",
      "Clase: 0\n",
      "Clase: 1\n",
      "Clase: 0\n",
      "Clase: 0\n",
      "Clase: 1\n",
      "Clase: 0\n",
      "Clase: 0\n",
      "Clase: 0\n",
      "Clase: 0\n",
      "Clase: 0\n",
      "Clase: 0\n",
      "Clase: 1\n",
      "Clase: 0\n",
      "Clase: 0\n",
      "Clase: 0\n",
      "Clase: 0\n"
     ]
    }
   ],
   "source": [
    "conf_matrix_test = ['']\n",
    "conf_matrix_test *= 35\n",
    "j = 0\n",
    "for i in phq8_array_test:\n",
    "    conf_matrix_test[j] = i.argmax(axis=0)\n",
    "    print (\"Clase: \" + str(i.argmax(axis=0)))\n",
    "    j += 1"
   ]
  },
  {
   "cell_type": "code",
   "execution_count": 46,
   "metadata": {},
   "outputs": [],
   "source": [
    "cnf_matrix = confusion_matrix(conf_matrix_test,conf_matrix_pred)"
   ]
  },
  {
   "cell_type": "code",
   "execution_count": 50,
   "metadata": {},
   "outputs": [
    {
     "name": "stdout",
     "output_type": "stream",
     "text": [
      "Confusion matrix, without normalization\n",
      "[[23  0]\n",
      " [12  0]]\n"
     ]
    },
    {
     "data": {
      "image/png": "[encoded data removed]",
      "text/plain": [
       "<Figure size 432x288 with 2 Axes>"
      ]
     },
     "metadata": {
      "needs_background": "light"
     },
     "output_type": "display_data"
    }
   ],
   "source": [
    "plot_confusion_matrix(cnf_matrix, classes=['No depresion','Depresion'],\n",
    "                      title='Confusion matrix')"
   ]
  },
  {
   "cell_type": "code",
   "execution_count": null,
   "metadata": {},
   "outputs": [],
   "source": []
  },
  {
   "cell_type": "code",
   "execution_count": null,
   "metadata": {},
   "outputs": [],
   "source": []
  },
  {
   "cell_type": "code",
   "execution_count": null,
   "metadata": {},
   "outputs": [],
   "source": []
  },
  {
   "cell_type": "code",
   "execution_count": null,
   "metadata": {},
   "outputs": [],
   "source": []
  },
  {
   "cell_type": "code",
   "execution_count": null,
   "metadata": {},
   "outputs": [],
   "source": []
  },
  {
   "cell_type": "code",
   "execution_count": null,
   "metadata": {},
   "outputs": [],
   "source": []
  },
  {
   "cell_type": "code",
   "execution_count": null,
   "metadata": {},
   "outputs": [],
   "source": []
  },
  {
   "cell_type": "code",
   "execution_count": null,
   "metadata": {},
   "outputs": [],
   "source": []
  }
 ],
 "metadata": {
  "kernelspec": {
   "display_name": "Python 3",
   "language": "python",
   "name": "python3"
  },
  "language_info": {
   "codemirror_mode": {
    "name": "ipython",
    "version": 3
   },
   "file_extension": ".py",
   "mimetype": "text/x-python",
   "name": "python",
   "nbconvert_exporter": "python",
   "pygments_lexer": "ipython3",
   "version": "3.6.7"
  }
 },
 "nbformat": 4,
 "nbformat_minor": 2
}
