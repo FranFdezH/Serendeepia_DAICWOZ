{
 "cells": [
  {
   "cell_type": "code",
   "execution_count": 1,
   "metadata": {},
   "outputs": [
    {
     "name": "stderr",
     "output_type": "stream",
     "text": [
      "Using TensorFlow backend.\n"
     ]
    }
   ],
   "source": [
    "from pydub import AudioSegment\n",
    "#from pyAudioAnalysis import audioSegmentation as aS\n",
    "import wave\n",
    "import unicodedata as un\n",
    "import pandas as pd\n",
    "import numpy as np\n",
    "import statistics as stats\n",
    "import pdb\n",
    "import ipdb\n",
    "import array as ar\n",
    "import matplotlib.pyplot as plt\n",
    "from scipy import signal\n",
    "from scipy.io import wavfile\n",
    "import librosa\n",
    "import IPython\n",
    "import pandas as pd\n",
    "import keras\n",
    "from keras.datasets import fashion_mnist\n",
    "from keras.datasets import mnist\n",
    "from keras.models import Sequential\n",
    "from keras.layers import Dense, Dropout, Flatten\n",
    "from keras.layers import Conv2D, MaxPooling2D\n",
    "from keras.optimizers import sgd\n",
    "import tensorflow as tf\n",
    "import numpy as np\n",
    "\n",
    "import matplotlib.pyplot as plt"
   ]
  },
  {
   "cell_type": "code",
   "execution_count": 2,
   "metadata": {},
   "outputs": [],
   "source": [
    "#Compute spectogram of each audio\n",
    "\n",
    "SR = 22050\n",
    "def get_short_time_fourier_transform(soundwave):\n",
    "    return librosa.stft(soundwave, n_fft=256)\n",
    "\n",
    "def short_time_fourier_transform_amplitude_to_db(stft):\n",
    "    return librosa.amplitude_to_db(stft)\n",
    "\n",
    "def soundwave_to_np_spectogram(soundwave):\n",
    "    step1 = get_short_time_fourier_transform(soundwave)\n",
    "    step2 = short_time_fourier_transform_amplitude_to_db(step1)\n",
    "    step3 = step2/100\n",
    "    return step3\n",
    "\n",
    "def inspect_data(sound):\n",
    "#    plt.figure()\n",
    "#    plt.plot(sound)\n",
    "#    IPython.display.display(IPython.display.Audio(sound, rate=SR))\n",
    "    a = get_short_time_fourier_transform(sound)\n",
    "    Xdb = short_time_fourier_transform_amplitude_to_db(a)\n",
    "#    plt.figure()   \n",
    "#    plt.imshow(Xdb)    \n",
    "#    plt.show()\n",
    "#    print (Xdb.shape)\n",
    "#    print(\"Length per sample: %d, shape of spectogram: %s, max: %f min: %f\" % (len(sound), str(Xdb.shape), Xdb.max(), Xdb.min()))\n",
    "    return Xdb"
   ]
  },
  {
   "cell_type": "code",
   "execution_count": 4,
   "metadata": {},
   "outputs": [
    {
     "ename": "CouldntDecodeError",
     "evalue": "Decoding failed. ffmpeg returned error code: 1\n\nOutput from ffmpeg/avlib:\n\nb'ffmpeg version 2.7 Copyright (c) 2000-2015 the FFmpeg developers\\r\\n  built with gcc 4.9.2 (GCC)\\r\\n  configuration: --enable-gpl --enable-version3 --disable-w32threads --enable-avisynth --enable-bzlib --enable-fontconfig --enable-frei0r --enable-gnutls --enable-iconv --enable-libass --enable-libbluray --enable-libbs2b --enable-libcaca --enable-libdcadec --enable-libfreetype --enable-libgme --enable-libgsm --enable-libilbc --enable-libmodplug --enable-libmp3lame --enable-libopencore-amrnb --enable-libopencore-amrwb --enable-libopenjpeg --enable-libopus --enable-librtmp --enable-libschroedinger --enable-libsoxr --enable-libspeex --enable-libtheora --enable-libtwolame --enable-libvidstab --enable-libvo-aacenc --enable-libvo-amrwbenc --enable-libvorbis --enable-libvpx --enable-libwavpack --enable-libwebp --enable-libx264 --enable-libx265 --enable-libxavs --enable-libxvid --enable-lzma --enable-decklink --enable-zlib\\r\\n  libavutil      54. 27.100 / 54. 27.100\\r\\n  libavcodec     56. 41.100 / 56. 41.100\\r\\n  libavformat    56. 36.100 / 56. 36.100\\r\\n  libavdevice    56.  4.100 / 56.  4.100\\r\\n  libavfilter     5. 16.101 /  5. 16.101\\r\\n  libswscale      3.  1.101 /  3.  1.101\\r\\n  libswresample   1.  2.100 /  1.  2.100\\r\\n  libpostproc    53.  3.100 / 53.  3.100\\r\\n[wav @ 00000000032865e0] invalid start code [255][243]X[192] in RIFF header\\r\\nC:/Users/Fran/Desktop/Database_procesada_train/303.wav: Invalid data found when processing input\\r\\n'",
     "output_type": "error",
     "traceback": [
      "\u001b[1;31m---------------------------------------------------------------------------\u001b[0m",
      "\u001b[1;31mCouldntDecodeError\u001b[0m                        Traceback (most recent call last)",
      "\u001b[1;32m<ipython-input-4-37e3cd0efcf7>\u001b[0m in \u001b[0;36m<module>\u001b[1;34m\u001b[0m\n\u001b[0;32m     48\u001b[0m             \u001b[0mnewAudio\u001b[0m\u001b[1;33m.\u001b[0m\u001b[0mexport\u001b[0m\u001b[1;33m(\u001b[0m\u001b[1;34m'C:/Users/Fran/Desktop/Database_procesada_train/'\u001b[0m \u001b[1;33m+\u001b[0m \u001b[0mstr\u001b[0m\u001b[1;33m(\u001b[0m\u001b[0mnumber\u001b[0m\u001b[1;33m)\u001b[0m \u001b[1;33m+\u001b[0m \u001b[1;34m'_no.wav'\u001b[0m\u001b[1;33m,\u001b[0m \u001b[0mformat\u001b[0m\u001b[1;33m=\u001b[0m\u001b[1;34m\"wav\"\u001b[0m\u001b[1;33m)\u001b[0m\u001b[1;33m\u001b[0m\u001b[0m\n\u001b[0;32m     49\u001b[0m             \u001b[0msound2\u001b[0m \u001b[1;33m=\u001b[0m \u001b[0mAudioSegment\u001b[0m\u001b[1;33m.\u001b[0m\u001b[0mfrom_wav\u001b[0m\u001b[1;33m(\u001b[0m\u001b[1;34m'C:/Users/Fran/Desktop/Database_procesada_train/'\u001b[0m \u001b[1;33m+\u001b[0m \u001b[0mstr\u001b[0m\u001b[1;33m(\u001b[0m\u001b[0mnumber\u001b[0m\u001b[1;33m)\u001b[0m \u001b[1;33m+\u001b[0m \u001b[1;34m'_no.wav'\u001b[0m\u001b[1;33m)\u001b[0m\u001b[1;33m\u001b[0m\u001b[0m\n\u001b[1;32m---> 50\u001b[1;33m             \u001b[0msound1\u001b[0m \u001b[1;33m=\u001b[0m \u001b[0mAudioSegment\u001b[0m\u001b[1;33m.\u001b[0m\u001b[0mfrom_wav\u001b[0m\u001b[1;33m(\u001b[0m\u001b[1;34m'C:/Users/Fran/Desktop/Database_procesada_train/'\u001b[0m \u001b[1;33m+\u001b[0m \u001b[0mstr\u001b[0m\u001b[1;33m(\u001b[0m\u001b[0mnumber\u001b[0m\u001b[1;33m)\u001b[0m \u001b[1;33m+\u001b[0m \u001b[1;34m'.wav'\u001b[0m\u001b[1;33m)\u001b[0m\u001b[1;33m\u001b[0m\u001b[0m\n\u001b[0m\u001b[0;32m     51\u001b[0m \u001b[1;33m\u001b[0m\u001b[0m\n\u001b[0;32m     52\u001b[0m \u001b[1;33m\u001b[0m\u001b[0m\n",
      "\u001b[1;32m~\\Anaconda3\\lib\\site-packages\\pydub\\audio_segment.py\u001b[0m in \u001b[0;36mfrom_wav\u001b[1;34m(cls, file, parameters)\u001b[0m\n\u001b[0;32m    726\u001b[0m     \u001b[1;33m@\u001b[0m\u001b[0mclassmethod\u001b[0m\u001b[1;33m\u001b[0m\u001b[0m\n\u001b[0;32m    727\u001b[0m     \u001b[1;32mdef\u001b[0m \u001b[0mfrom_wav\u001b[0m\u001b[1;33m(\u001b[0m\u001b[0mcls\u001b[0m\u001b[1;33m,\u001b[0m \u001b[0mfile\u001b[0m\u001b[1;33m,\u001b[0m \u001b[0mparameters\u001b[0m\u001b[1;33m=\u001b[0m\u001b[1;32mNone\u001b[0m\u001b[1;33m)\u001b[0m\u001b[1;33m:\u001b[0m\u001b[1;33m\u001b[0m\u001b[0m\n\u001b[1;32m--> 728\u001b[1;33m         \u001b[1;32mreturn\u001b[0m \u001b[0mcls\u001b[0m\u001b[1;33m.\u001b[0m\u001b[0mfrom_file\u001b[0m\u001b[1;33m(\u001b[0m\u001b[0mfile\u001b[0m\u001b[1;33m,\u001b[0m \u001b[1;34m'wav'\u001b[0m\u001b[1;33m,\u001b[0m \u001b[0mparameters\u001b[0m\u001b[1;33m)\u001b[0m\u001b[1;33m\u001b[0m\u001b[0m\n\u001b[0m\u001b[0;32m    729\u001b[0m \u001b[1;33m\u001b[0m\u001b[0m\n\u001b[0;32m    730\u001b[0m     \u001b[1;33m@\u001b[0m\u001b[0mclassmethod\u001b[0m\u001b[1;33m\u001b[0m\u001b[0m\n",
      "\u001b[1;32m~\\Anaconda3\\lib\\site-packages\\pydub\\audio_segment.py\u001b[0m in \u001b[0;36mfrom_file\u001b[1;34m(cls, file, format, codec, parameters, **kwargs)\u001b[0m\n\u001b[0;32m    702\u001b[0m             raise CouldntDecodeError(\n\u001b[0;32m    703\u001b[0m                 \"Decoding failed. ffmpeg returned error code: {0}\\n\\nOutput from ffmpeg/avlib:\\n\\n{1}\".format(\n\u001b[1;32m--> 704\u001b[1;33m                     p.returncode, p_err))\n\u001b[0m\u001b[0;32m    705\u001b[0m \u001b[1;33m\u001b[0m\u001b[0m\n\u001b[0;32m    706\u001b[0m         \u001b[0mp_out\u001b[0m \u001b[1;33m=\u001b[0m \u001b[0mbytearray\u001b[0m\u001b[1;33m(\u001b[0m\u001b[0mp_out\u001b[0m\u001b[1;33m)\u001b[0m\u001b[1;33m\u001b[0m\u001b[0m\n",
      "\u001b[1;31mCouldntDecodeError\u001b[0m: Decoding failed. ffmpeg returned error code: 1\n\nOutput from ffmpeg/avlib:\n\nb'ffmpeg version 2.7 Copyright (c) 2000-2015 the FFmpeg developers\\r\\n  built with gcc 4.9.2 (GCC)\\r\\n  configuration: --enable-gpl --enable-version3 --disable-w32threads --enable-avisynth --enable-bzlib --enable-fontconfig --enable-frei0r --enable-gnutls --enable-iconv --enable-libass --enable-libbluray --enable-libbs2b --enable-libcaca --enable-libdcadec --enable-libfreetype --enable-libgme --enable-libgsm --enable-libilbc --enable-libmodplug --enable-libmp3lame --enable-libopencore-amrnb --enable-libopencore-amrwb --enable-libopenjpeg --enable-libopus --enable-librtmp --enable-libschroedinger --enable-libsoxr --enable-libspeex --enable-libtheora --enable-libtwolame --enable-libvidstab --enable-libvo-aacenc --enable-libvo-amrwbenc --enable-libvorbis --enable-libvpx --enable-libwavpack --enable-libwebp --enable-libx264 --enable-libx265 --enable-libxavs --enable-libxvid --enable-lzma --enable-decklink --enable-zlib\\r\\n  libavutil      54. 27.100 / 54. 27.100\\r\\n  libavcodec     56. 41.100 / 56. 41.100\\r\\n  libavformat    56. 36.100 / 56. 36.100\\r\\n  libavdevice    56.  4.100 / 56.  4.100\\r\\n  libavfilter     5. 16.101 /  5. 16.101\\r\\n  libswscale      3.  1.101 /  3.  1.101\\r\\n  libswresample   1.  2.100 /  1.  2.100\\r\\n  libpostproc    53.  3.100 / 53.  3.100\\r\\n[wav @ 00000000032865e0] invalid start code [255][243]X[192] in RIFF header\\r\\nC:/Users/Fran/Desktop/Database_procesada_train/303.wav: Invalid data found when processing input\\r\\n'"
     ]
    }
   ],
   "source": [
    "#Abrir archivos de audio y segmentar por segmento de tiempo.\n",
    "#Exportar los segmentos a otra carpeta para su posterior analisis\n",
    "\n",
    "i = 0\n",
    "j = 0\n",
    "k = 0\n",
    "number_list_train = ['']\n",
    "number_list_test = ['']\n",
    "file_count = 107\n",
    "file_count2 = 35\n",
    "input_array_train = ['']\n",
    "phq8_array_train = ['']\n",
    "input_array_train *= file_count\n",
    "phq8_array_train *= file_count\n",
    "number_list_train *= file_count\n",
    "input_array_test = ['']\n",
    "phq8_array_test = ['']\n",
    "input_array_test *= file_count2\n",
    "phq8_array_test *= file_count2\n",
    "number_list_test *= file_count2\n",
    "number = 0\n",
    "\n",
    "l = 0\n",
    "m = 0\n",
    "      \n",
    "data = open('C:/Users/Fran/Desktop/Database/datos1.txt', 'r', encoding='utf-8-sig')\n",
    "for line in data:\n",
    "    mylist = line.split(',')\n",
    "    number = mylist[0]\n",
    "    df = pd.read_csv('C:/Users/Fran/Desktop/Database/' + str(number) + '_P/' \n",
    "                     + str(number) + '_TRANSCRIPT.csv', header=0)\n",
    "    while l < len (df):\n",
    "        a = df.iloc[l].str.split()\n",
    "        if a[0][2] == 'Participant' and m == 0: \n",
    "            newAudio = AudioSegment.from_wav('C:/Users/Fran/Desktop/Database/' + str(number) + '_P/' + str(number) + '_AUDIO.wav')\n",
    "            t1 = int(float(a[0][0]) * 1000)\n",
    "            t2 = int(float(a[0][1]) * 1000)\n",
    "            newAudio = newAudio[t1:t2]\n",
    "            newAudio.export('C:/Users/Fran/Desktop/Database_procesada_train/' + str(number) + '.wav', format = \"wav\")\n",
    "            #sound1 = AudioSegment.from_wav('C:/Users/Fran/Desktop/Database_procesada_train/' + str(number) + '.wav')\n",
    "            m = 1\n",
    "        elif a[0][2] == 'Participant':\n",
    "            newAudio = AudioSegment.from_wav('C:/Users/Fran/Desktop/Database/' \n",
    "                                             + str(number) + '_P/' + str(number) + '_AUDIO.wav')\n",
    "            t1 = int(float(a[0][0]) * 1000)\n",
    "            t2 = int(float(a[0][1]) * 1000)\n",
    "            newAudio = newAudio[t1:t2]\n",
    "            newAudio.export('C:/Users/Fran/Desktop/Database_procesada_train/' + str(number) + '_no.wav', format=\"wav\")\n",
    "            sound2 = AudioSegment.from_wav('C:/Users/Fran/Desktop/Database_procesada_train/' + str(number) + '_no.wav')\n",
    "            sound1 = AudioSegment.from_wav('C:/Users/Fran/Desktop/Database_procesada_train/' + str(number) + '.wav')\n",
    "            \n",
    "\n",
    "            combined_sounds = sound1 + sound2\n",
    "            combined_sounds.export('C:/Users/Fran/Desktop/Database_procesada_train/'\n",
    "                                           + str(number) + '.wav')\n",
    "        l += 1\n",
    "        \n",
    "    w = AudioSegment.from_wav('C:/Users/Fran/Desktop/Database/' + str(number) + '_P/' + str(number) + '_AUDIO.wav')\n",
    "    input_array_train[i] = w\n",
    "    number_list_train[i] = number\n",
    "    phq8_array_train[i] = mylist[1]\n",
    "    i += 1\n",
    "\n",
    "i = 0\n",
    "l = 0\n",
    "m = 0\n",
    "data1 = open('C:/Users/Fran/Desktop/Database/datos2_dev.txt', 'r', encoding='utf-8-sig')\n",
    "for line in data1:\n",
    "    mylist = line.split(',')\n",
    "    number = mylist[0]\n",
    "    \n",
    "    df = pd.read_csv('C:/Users/Fran/Desktop/Database/' + str(number) + '_P/' \n",
    "                     + str(number) + '_TRANSCRIPT.csv', header=0)\n",
    "    while l < len (df):\n",
    "        a = df.iloc[l].str.split()\n",
    "        if a[0][2] == 'Participant' and m == 0: \n",
    "            newAudio = AudioSegment.from_wav('C:/Users/Fran/Desktop/Database/' \n",
    "                                             + str(number) + '_P/' + str(number) + '_AUDIO.wav')\n",
    "            t1 = int(float(a[0][0]) * 1000)\n",
    "            t2 = int(float(a[0][1]) * 1000)\n",
    "            newAudio = newAudio[t1:t2]\n",
    "            newAudio.export('C:/Users/Fran/Desktop/Database_procesada_test/' + str(number) + '.wav', format=\"wav\")\n",
    "            m = 1\n",
    "        elif a[0][2] == 'Participant':\n",
    "            newAudio = AudioSegment.from_wav('C:/Users/Fran/Desktop/Database/' \n",
    "                                             + str(number) + '_P/' + str(number) + '_AUDIO.wav')\n",
    "            t1 = int(float(a[0][0]) * 1000)\n",
    "            t2 = int(float(a[0][1]) * 1000)\n",
    "            newAudio = newAudio[t1:t2]\n",
    "            newAudio.export('C:/Users/Fran/Desktop/Database_procesada_test/' + str(number) + '_no.wav', format=\"wav\")\n",
    "            sound2 = AudioSegment.from_wav('C:/Users/Fran/Desktop/Database_procesada_test/'\n",
    "                                           + str(number) + '_no.wav')\n",
    "            sound1 = AudioSegment.from_wav('C:/Users/Fran/Desktop/Database_procesada_test/' \n",
    "                                           + str(number) + '.wav')\n",
    "\n",
    "\n",
    "            combined_sounds = sound1 + sound2\n",
    "            combined_sounds.export('C:/Users/Fran/Desktop/Database_procesada_test/'\n",
    "                                           + str(number) + '.wav')\n",
    "        l += 1\n",
    "        \n",
    "    w = AudioSegment.from_wav('C:/Users/Fran/Desktop/Database/' + str(number) + '_P/' + str(number) + '_AUDIO.wav')\n",
    "    input_array_test[i] = w\n",
    "    number_list_test[i] = number\n",
    "    phq8_array_test[i] = mylist[1]\n",
    "    newAudio = w[60000:80000]\n",
    "    newAudio.export('C:/Users/Fran/Desktop/Database_procesada_test/' + str(number) + '.wav', format=\"wav\")\n",
    "    i += 1"
   ]
  },
  {
   "cell_type": "code",
   "execution_count": 4,
   "metadata": {},
   "outputs": [
    {
     "data": {
      "text/html": [
       "\n",
       "                    <audio controls>\n",
       "                        <source src=\"data:audio/mpeg;base64,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\" type=\"audio/mpeg\"/>\n",
       "                        Your browser does not support the audio element.\n",
       "                    </audio>\n",
       "                  "
      ],
      "text/plain": [
       "<pydub.audio_segment.AudioSegment at 0x1b4211239e8>"
      ]
     },
     "execution_count": 4,
     "metadata": {},
     "output_type": "execute_result"
    }
   ],
   "source": [
    "sound1"
   ]
  },
  {
   "cell_type": "code",
   "execution_count": null,
   "metadata": {},
   "outputs": [],
   "source": [
    "a = 'C:/Users/Fran/Desktop/Database_procesada_train/' + str(number) + '_seg.wav'\n",
    "wave.open('C:/Users/Fran/Desktop/Database_procesada_train/' \n",
    "                                           + str(number) + '.wav')"
   ]
  },
  {
   "cell_type": "code",
   "execution_count": null,
   "metadata": {},
   "outputs": [],
   "source": [
    "sound1 = AudioSegment.from_wav('C:/Users/Fran/Desktop/Database_procesada_train/' \n",
    "                                           + str(number) + '_seg.wav')"
   ]
  },
  {
   "cell_type": "code",
   "execution_count": null,
   "metadata": {},
   "outputs": [],
   "source": [
    "#Spectograms of each segmented audio\n",
    "\n",
    "i = 0\n",
    "Xdb_train = ['']\n",
    "Xdb_train *= file_count\n",
    "\n",
    "Xdb_test = ['']\n",
    "Xdb_test *= file_count2\n",
    "\n",
    "for audio_train in number_list_train:\n",
    "    X, sr = librosa.load('C:/Users/Fran/Desktop/Database_procesada_train/' + str(audio_train) + '.wav')\n",
    "    Xdb_train[i] = inspect_data(X)\n",
    "    i += 1\n",
    "\n",
    "i = 0\n",
    "\n",
    "for audio_train in number_list_test:\n",
    "    X, sr = librosa.load('C:/Users/Fran/Desktop/Database_procesada_test/' + str(audio_train) + '.wav')\n",
    "    Xdb_test[i] = inspect_data(X)\n",
    "    i += 1"
   ]
  },
  {
   "cell_type": "code",
   "execution_count": null,
   "metadata": {},
   "outputs": [],
   "source": [
    "plt.imshow(Xdb_train[0])"
   ]
  },
  {
   "cell_type": "code",
   "execution_count": null,
   "metadata": {},
   "outputs": [],
   "source": [
    "num_classes = 2\n",
    "batch_size = 10\n",
    "epochs = 10\n",
    "\n",
    "# convert class vectors to binary class matrices\n",
    "phq8_array_train = keras.utils.to_categorical(phq8_array_train, num_classes)\n",
    "phq8_array_test = keras.utils.to_categorical(phq8_array_test, num_classes)"
   ]
  },
  {
   "cell_type": "code",
   "execution_count": null,
   "metadata": {},
   "outputs": [],
   "source": [
    "#Red neuronal\n",
    "\n",
    "\n",
    "model = Sequential()\n",
    "model.add(Conv2D(32, kernel_size=(3, 3), activation='relu', input_shape=(129,6891,1)))\n",
    "model.add(MaxPooling2D(pool_size=(2, 2)))\n",
    "model.add(Conv2D(64, (3, 3), activation='relu'))\n",
    "model.add(MaxPooling2D(pool_size=(2, 2)))\n",
    "model.add(Conv2D(128, (3, 3), activation='relu'))\n",
    "model.add(MaxPooling2D(pool_size=(2, 2)))\n",
    "model.add(Conv2D(256, (3, 3), activation='relu'))\n",
    "model.add(MaxPooling2D(pool_size=(2, 2)))\n",
    "model.add(Dropout(0.25))\n",
    "model.add(Flatten())\n",
    "model.add(Dense(128, activation='relu'))\n",
    "model.add(Dropout(0.5))\n",
    "model.add(Dense(num_classes, activation='softmax'))\n",
    "\n",
    "model.summary()"
   ]
  },
  {
   "cell_type": "code",
   "execution_count": null,
   "metadata": {},
   "outputs": [],
   "source": [
    "Xdb_train_array = np.ndarray(shape = (107,129,6891))\n",
    "Xdb_test_array = np.ndarray(shape = (35,129,6891))"
   ]
  },
  {
   "cell_type": "code",
   "execution_count": null,
   "metadata": {},
   "outputs": [],
   "source": [
    "i = 0\n",
    "for train in Xdb_train:\n",
    "    Xdb_train_array[i] = train\n",
    "    i += 1\n",
    "    \n",
    "i = 0\n",
    "for train in Xdb_test:\n",
    "    Xdb_test_array[i] = train\n",
    "    i += 1"
   ]
  },
  {
   "cell_type": "code",
   "execution_count": null,
   "metadata": {},
   "outputs": [],
   "source": [
    "Xdb_train_array = Xdb_train_array.reshape(Xdb_train_array.shape[0], 129, 6891, 1)\n",
    "Xdb_test_array = Xdb_test_array.reshape(Xdb_test_array.shape[0], 129, 6891, 1)"
   ]
  },
  {
   "cell_type": "code",
   "execution_count": null,
   "metadata": {},
   "outputs": [],
   "source": [
    "print (Xdb_train_array.shape)\n",
    "print (Xdb_test_array.shape)"
   ]
  },
  {
   "cell_type": "code",
   "execution_count": null,
   "metadata": {},
   "outputs": [],
   "source": [
    "model.compile(loss=keras.losses.categorical_crossentropy,\n",
    "              optimizer=keras.optimizers.Adadelta(),\n",
    "              metrics=['accuracy'])"
   ]
  },
  {
   "cell_type": "code",
   "execution_count": null,
   "metadata": {},
   "outputs": [],
   "source": [
    "model.fit(Xdb_train_array, phq8_array_train,\n",
    "          batch_size=batch_size,\n",
    "          epochs=epochs,\n",
    "          verbose=1,\n",
    "          validation_data=(Xdb_test_array, phq8_array_test))\n",
    "score = model.evaluate(Xdb_test_array, phq8_array_test, verbose=0)\n",
    "print('Test loss:', score[0])\n",
    "print('Test accuracy:', score[1])"
   ]
  },
  {
   "cell_type": "code",
   "execution_count": null,
   "metadata": {},
   "outputs": [],
   "source": [
    "#prediccion = model.predict(Xdb_test, batch_size=batch_size, verbose=1, steps=None)"
   ]
  },
  {
   "cell_type": "code",
   "execution_count": null,
   "metadata": {},
   "outputs": [],
   "source": []
  },
  {
   "cell_type": "code",
   "execution_count": null,
   "metadata": {},
   "outputs": [],
   "source": []
  },
  {
   "cell_type": "code",
   "execution_count": null,
   "metadata": {},
   "outputs": [],
   "source": []
  },
  {
   "cell_type": "code",
   "execution_count": null,
   "metadata": {},
   "outputs": [],
   "source": []
  },
  {
   "cell_type": "code",
   "execution_count": null,
   "metadata": {},
   "outputs": [],
   "source": []
  },
  {
   "cell_type": "code",
   "execution_count": null,
   "metadata": {},
   "outputs": [],
   "source": []
  },
  {
   "cell_type": "code",
   "execution_count": null,
   "metadata": {},
   "outputs": [],
   "source": []
  },
  {
   "cell_type": "code",
   "execution_count": null,
   "metadata": {},
   "outputs": [],
   "source": []
  },
  {
   "cell_type": "code",
   "execution_count": null,
   "metadata": {},
   "outputs": [],
   "source": []
  },
  {
   "cell_type": "code",
   "execution_count": null,
   "metadata": {},
   "outputs": [],
   "source": []
  },
  {
   "cell_type": "code",
   "execution_count": null,
   "metadata": {},
   "outputs": [],
   "source": []
  },
  {
   "cell_type": "code",
   "execution_count": null,
   "metadata": {},
   "outputs": [],
   "source": []
  },
  {
   "cell_type": "code",
   "execution_count": null,
   "metadata": {},
   "outputs": [],
   "source": []
  }
 ],
 "metadata": {
  "kernelspec": {
   "display_name": "Python 3",
   "language": "python",
   "name": "python3"
  },
  "language_info": {
   "codemirror_mode": {
    "name": "ipython",
    "version": 3
   },
   "file_extension": ".py",
   "mimetype": "text/x-python",
   "name": "python",
   "nbconvert_exporter": "python",
   "pygments_lexer": "ipython3",
   "version": "3.6.6"
  }
 },
 "nbformat": 4,
 "nbformat_minor": 2
}
