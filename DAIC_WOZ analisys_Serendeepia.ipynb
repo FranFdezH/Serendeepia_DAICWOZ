{
 "cells": [
  {
   "cell_type": "code",
   "execution_count": 72,
   "metadata": {},
   "outputs": [],
   "source": [
    "from pydub import AudioSegment\n",
    "#from pyAudioAnalysis import audioSegmentation as aS\n",
    "import wave\n",
    "import unicodedata as un\n",
    "import pandas as pd\n",
    "import numpy as np\n",
    "import statistics as stats\n",
    "import pdb\n",
    "import ipdb\n",
    "import array as ar\n",
    "import matplotlib.pyplot as plt\n",
    "from scipy import signal\n",
    "from scipy.io import wavfile\n",
    "import librosa\n",
    "import IPython\n",
    "\n",
    "import keras\n",
    "from keras.datasets import fashion_mnist\n",
    "from keras.datasets import mnist\n",
    "from keras.models import Sequential\n",
    "from keras.layers import Dense, Dropout, Flatten\n",
    "from keras.layers import Conv2D, MaxPooling2D\n",
    "from keras.optimizers import sgd\n",
    "import tensorflow as tf\n",
    "import numpy as np\n",
    "\n",
    "import matplotlib.pyplot as plt"
   ]
  },
  {
   "cell_type": "code",
   "execution_count": 41,
   "metadata": {},
   "outputs": [],
   "source": [
    "#Compute spectogram of each audio\n",
    "\n",
    "SR = 22050\n",
    "def get_short_time_fourier_transform(soundwave):\n",
    "    return librosa.stft(soundwave, n_fft=256)\n",
    "\n",
    "def short_time_fourier_transform_amplitude_to_db(stft):\n",
    "    return librosa.amplitude_to_db(stft)\n",
    "\n",
    "def soundwave_to_np_spectogram(soundwave):\n",
    "    step1 = get_short_time_fourier_transform(soundwave)\n",
    "    step2 = short_time_fourier_transform_amplitude_to_db(step1)\n",
    "    step3 = step2/100\n",
    "    return step3\n",
    "\n",
    "def inspect_data(sound):\n",
    "#    plt.figure()\n",
    "#    plt.plot(sound)\n",
    "#    IPython.display.display(IPython.display.Audio(sound, rate=SR))\n",
    "    a = get_short_time_fourier_transform(sound)\n",
    "    Xdb = short_time_fourier_transform_amplitude_to_db(a)\n",
    "#    plt.figure()   \n",
    "#    plt.imshow(Xdb)    \n",
    "#    plt.show()\n",
    "#    print (Xdb.shape)\n",
    "#    print(\"Length per sample: %d, shape of spectogram: %s, max: %f min: %f\" % (len(sound), str(Xdb.shape), Xdb.max(), Xdb.min()))\n",
    "    return Xdb"
   ]
  },
  {
   "cell_type": "code",
   "execution_count": 124,
   "metadata": {},
   "outputs": [],
   "source": [
    "#Abrir archivos de audio y segmentar por segmento de tiempo.\n",
    "#Exportar los segmentos a otra carpeta para su posterior analisis\n",
    "\n",
    "i = 0\n",
    "j = 0\n",
    "k = 0\n",
    "number_list_train = ['']\n",
    "number_list_test = ['']\n",
    "file_count = 107\n",
    "file_count2 = 35\n",
    "input_array_train = ['']\n",
    "phq8_array_train = ['']\n",
    "input_array_train *= file_count\n",
    "phq8_array_train *= file_count\n",
    "number_list_train *= file_count\n",
    "input_array_test = ['']\n",
    "phq8_array_test = ['']\n",
    "input_array_test *= file_count2\n",
    "phq8_array_test *= file_count2\n",
    "number_list_test *= file_count2\n",
    "number = 0\n",
    "\n",
    "    \n",
    "data = open('C:/Users/Fran/Desktop/Database/datos1.txt', 'r', encoding='utf-8-sig')\n",
    "for line in data:\n",
    "    mylist = line.split(',')\n",
    "    number = mylist[0]\n",
    "    w = AudioSegment.from_wav('C:/Users/Fran/Desktop/Database/' + str(number) + '_P/' + str(number) + '_AUDIO.wav')\n",
    "    input_array_train[i] = w\n",
    "    number_list_train[i] = number\n",
    "    phq8_array_train[i] = mylist[1]\n",
    "    newAudio = w[60000:80000]\n",
    "    newAudio.export('C:/Users/Fran/Desktop/Database_procesada_train/' + str(number) + '.wav', format=\"wav\")\n",
    "    i += 1\n",
    "\n",
    "i = 0\n",
    "data1 = open('C:/Users/Fran/Desktop/Database/datos2_dev.txt', 'r', encoding='utf-8-sig')\n",
    "for line in data1:\n",
    "    mylist = line.split(',')\n",
    "    number = mylist[0]\n",
    "    w = AudioSegment.from_wav('C:/Users/Fran/Desktop/Database/' + str(number) + '_P/' + str(number) + '_AUDIO.wav')\n",
    "    input_array_test[i] = w\n",
    "    number_list_test[i] = number\n",
    "    phq8_array_test[i] = mylist[1]\n",
    "    newAudio = w[60000:80000]\n",
    "    newAudio.export('C:/Users/Fran/Desktop/Database_procesada_test/' + str(number) + '.wav', format=\"wav\")\n",
    "    i += 1"
   ]
  },
  {
   "cell_type": "code",
   "execution_count": 125,
   "metadata": {},
   "outputs": [
    {
     "name": "stderr",
     "output_type": "stream",
     "text": [
      "C:\\Users\\Fran\\Anaconda3\\lib\\site-packages\\librosa\\core\\spectrum.py:960: UserWarning: amplitude_to_db was called on complex input so phase information will be discarded. To suppress this warning, call amplitude_to_db(np.abs(S)) instead.\n",
      "  warnings.warn('amplitude_to_db was called on complex input so phase '\n"
     ]
    }
   ],
   "source": [
    "#Spectograms of each segmented audio\n",
    "\n",
    "i = 0\n",
    "Xdb_train = ['']\n",
    "Xdb_train *= file_count\n",
    "\n",
    "Xdb_test = ['']\n",
    "Xdb_test *= file_count2\n",
    "\n",
    "for audio_train in number_list_train:\n",
    "    X, sr = librosa.load('C:/Users/Fran/Desktop/Database_procesada_train/' + str(audio_train) + '.wav')\n",
    "    Xdb_train[i] = inspect_data(X)\n",
    "    i += 1\n",
    "\n",
    "i = 0\n",
    "\n",
    "for audio_train in number_list_test:\n",
    "    X, sr = librosa.load('C:/Users/Fran/Desktop/Database_procesada_test/' + str(audio_train) + '.wav')\n",
    "    Xdb_test[i] = inspect_data(X)\n",
    "    i += 1"
   ]
  },
  {
   "cell_type": "code",
   "execution_count": 135,
   "metadata": {},
   "outputs": [
    {
     "data": {
      "text/plain": [
       "<matplotlib.image.AxesImage at 0x1b5a04f69e8>"
      ]
     },
     "execution_count": 135,
     "metadata": {},
     "output_type": "execute_result"
    },
    {
     "data": {
      "image/png": "[encoded data removed]",
      "text/plain": [
       "<Figure size 432x288 with 1 Axes>"
      ]
     },
     "metadata": {
      "needs_background": "light"
     },
     "output_type": "display_data"
    }
   ],
   "source": [
    "plt.imshow(Xdb_train[0])"
   ]
  },
  {
   "cell_type": "code",
   "execution_count": 128,
   "metadata": {},
   "outputs": [],
   "source": [
    "num_classes = 2\n",
    "batch_size = 10\n",
    "epochs = 10\n",
    "\n",
    "# convert class vectors to binary class matrices\n",
    "phq8_array_train = keras.utils.to_categorical(phq8_array_train, num_classes)\n",
    "phq8_array_test = keras.utils.to_categorical(phq8_array_test, num_classes)"
   ]
  },
  {
   "cell_type": "code",
   "execution_count": 73,
   "metadata": {},
   "outputs": [
    {
     "name": "stdout",
     "output_type": "stream",
     "text": [
      "_________________________________________________________________\n",
      "Layer (type)                 Output Shape              Param #   \n",
      "=================================================================\n",
      "conv2d_2 (Conv2D)            (None, 127, 6889, 32)     320       \n",
      "_________________________________________________________________\n",
      "max_pooling2d_1 (MaxPooling2 (None, 63, 3444, 32)      0         \n",
      "_________________________________________________________________\n",
      "conv2d_3 (Conv2D)            (None, 61, 3442, 64)      18496     \n",
      "_________________________________________________________________\n",
      "max_pooling2d_2 (MaxPooling2 (None, 30, 1721, 64)      0         \n",
      "_________________________________________________________________\n",
      "conv2d_4 (Conv2D)            (None, 28, 1719, 128)     73856     \n",
      "_________________________________________________________________\n",
      "max_pooling2d_3 (MaxPooling2 (None, 14, 859, 128)      0         \n",
      "_________________________________________________________________\n",
      "conv2d_5 (Conv2D)            (None, 12, 857, 256)      295168    \n",
      "_________________________________________________________________\n",
      "max_pooling2d_4 (MaxPooling2 (None, 6, 428, 256)       0         \n",
      "_________________________________________________________________\n",
      "dropout_1 (Dropout)          (None, 6, 428, 256)       0         \n",
      "_________________________________________________________________\n",
      "flatten_1 (Flatten)          (None, 657408)            0         \n",
      "_________________________________________________________________\n",
      "dense_1 (Dense)              (None, 128)               84148352  \n",
      "_________________________________________________________________\n",
      "dropout_2 (Dropout)          (None, 128)               0         \n",
      "_________________________________________________________________\n",
      "dense_2 (Dense)              (None, 2)                 258       \n",
      "=================================================================\n",
      "Total params: 84,536,450\n",
      "Trainable params: 84,536,450\n",
      "Non-trainable params: 0\n",
      "_________________________________________________________________\n"
     ]
    }
   ],
   "source": [
    "#Red neuronal\n",
    "\n",
    "\n",
    "model = Sequential()\n",
    "model.add(Conv2D(32, kernel_size=(3, 3), activation='relu', input_shape=(129,6891,1)))\n",
    "model.add(MaxPooling2D(pool_size=(2, 2)))\n",
    "model.add(Conv2D(64, (3, 3), activation='relu'))\n",
    "model.add(MaxPooling2D(pool_size=(2, 2)))\n",
    "model.add(Conv2D(128, (3, 3), activation='relu'))\n",
    "model.add(MaxPooling2D(pool_size=(2, 2)))\n",
    "model.add(Conv2D(256, (3, 3), activation='relu'))\n",
    "model.add(MaxPooling2D(pool_size=(2, 2)))\n",
    "model.add(Dropout(0.25))\n",
    "model.add(Flatten())\n",
    "model.add(Dense(128, activation='relu'))\n",
    "model.add(Dropout(0.5))\n",
    "model.add(Dense(num_classes, activation='softmax'))\n",
    "\n",
    "model.summary()"
   ]
  },
  {
   "cell_type": "code",
   "execution_count": 129,
   "metadata": {},
   "outputs": [],
   "source": [
    "Xdb_train_array = np.ndarray(shape = (107,129,6891))\n",
    "Xdb_test_array = np.ndarray(shape = (35,129,6891))"
   ]
  },
  {
   "cell_type": "code",
   "execution_count": 130,
   "metadata": {},
   "outputs": [],
   "source": [
    "i = 0\n",
    "for train in Xdb_train:\n",
    "    Xdb_train_array[i] = train\n",
    "    i += 1\n",
    "    \n",
    "i = 0\n",
    "for train in Xdb_test:\n",
    "    Xdb_test_array[i] = train\n",
    "    i += 1"
   ]
  },
  {
   "cell_type": "code",
   "execution_count": 131,
   "metadata": {},
   "outputs": [],
   "source": [
    "Xdb_train_array = Xdb_train_array.reshape(Xdb_train_array.shape[0], 129, 6891, 1)\n",
    "Xdb_test_array = Xdb_test_array.reshape(Xdb_test_array.shape[0], 129, 6891, 1)"
   ]
  },
  {
   "cell_type": "code",
   "execution_count": 132,
   "metadata": {},
   "outputs": [
    {
     "name": "stdout",
     "output_type": "stream",
     "text": [
      "(107, 129, 6891, 1)\n",
      "(35, 129, 6891, 1)\n"
     ]
    }
   ],
   "source": [
    "print (Xdb_train_array.shape)\n",
    "print (Xdb_test_array.shape)"
   ]
  },
  {
   "cell_type": "code",
   "execution_count": 133,
   "metadata": {},
   "outputs": [],
   "source": [
    "model.compile(loss=keras.losses.categorical_crossentropy,\n",
    "              optimizer=keras.optimizers.Adadelta(),\n",
    "              metrics=['accuracy'])"
   ]
  },
  {
   "cell_type": "code",
   "execution_count": 134,
   "metadata": {},
   "outputs": [
    {
     "name": "stdout",
     "output_type": "stream",
     "text": [
      "Train on 107 samples, validate on 35 samples\n",
      "Epoch 1/10\n",
      "107/107 [==============================] - 161s 2s/step - loss: 10.9257 - acc: 0.2991 - val_loss: 10.5919 - val_acc: 0.3429\n",
      "Epoch 2/10\n",
      "107/107 [==============================] - 128s 1s/step - loss: 11.5990 - acc: 0.2804 - val_loss: 10.5919 - val_acc: 0.3429\n",
      "Epoch 3/10\n",
      "107/107 [==============================] - 127s 1s/step - loss: 11.5990 - acc: 0.2804 - val_loss: 10.5919 - val_acc: 0.3429\n",
      "Epoch 4/10\n",
      "107/107 [==============================] - 126s 1s/step - loss: 11.5990 - acc: 0.2804 - val_loss: 10.5919 - val_acc: 0.3429\n",
      "Epoch 5/10\n",
      "107/107 [==============================] - 126s 1s/step - loss: 11.5990 - acc: 0.2804 - val_loss: 10.5919 - val_acc: 0.3429\n",
      "Epoch 6/10\n",
      "107/107 [==============================] - 126s 1s/step - loss: 11.5990 - acc: 0.2804 - val_loss: 10.5919 - val_acc: 0.3429\n",
      "Epoch 7/10\n",
      "107/107 [==============================] - 126s 1s/step - loss: 11.5990 - acc: 0.2804 - val_loss: 10.5919 - val_acc: 0.3429\n",
      "Epoch 8/10\n",
      "107/107 [==============================] - 126s 1s/step - loss: 11.5990 - acc: 0.2804 - val_loss: 10.5919 - val_acc: 0.3429\n",
      "Epoch 9/10\n",
      "107/107 [==============================] - 126s 1s/step - loss: 11.5990 - acc: 0.2804 - val_loss: 10.5919 - val_acc: 0.3429\n",
      "Epoch 10/10\n",
      "107/107 [==============================] - 126s 1s/step - loss: 11.5990 - acc: 0.2804 - val_loss: 10.5919 - val_acc: 0.3429\n",
      "Test loss: 10.591891261509486\n",
      "Test accuracy: 0.34285714285714286\n"
     ]
    }
   ],
   "source": [
    "model.fit(Xdb_train_array, phq8_array_train,\n",
    "          batch_size=batch_size,\n",
    "          epochs=epochs,\n",
    "          verbose=1,\n",
    "          validation_data=(Xdb_test_array, phq8_array_test))\n",
    "score = model.evaluate(Xdb_test_array, phq8_array_test, verbose=0)\n",
    "print('Test loss:', score[0])\n",
    "print('Test accuracy:', score[1])"
   ]
  },
  {
   "cell_type": "code",
   "execution_count": null,
   "metadata": {},
   "outputs": [],
   "source": [
    "#prediccion = model.predict(Xdb_test, batch_size=batch_size, verbose=1, steps=None)"
   ]
  },
  {
   "cell_type": "code",
   "execution_count": 11,
   "metadata": {},
   "outputs": [],
   "source": []
  },
  {
   "cell_type": "code",
   "execution_count": 13,
   "metadata": {},
   "outputs": [],
   "source": []
  },
  {
   "cell_type": "code",
   "execution_count": null,
   "metadata": {},
   "outputs": [],
   "source": []
  },
  {
   "cell_type": "code",
   "execution_count": null,
   "metadata": {},
   "outputs": [],
   "source": []
  },
  {
   "cell_type": "code",
   "execution_count": null,
   "metadata": {},
   "outputs": [],
   "source": []
  },
  {
   "cell_type": "code",
   "execution_count": null,
   "metadata": {},
   "outputs": [],
   "source": []
  },
  {
   "cell_type": "code",
   "execution_count": null,
   "metadata": {},
   "outputs": [],
   "source": []
  },
  {
   "cell_type": "code",
   "execution_count": null,
   "metadata": {},
   "outputs": [],
   "source": []
  },
  {
   "cell_type": "code",
   "execution_count": null,
   "metadata": {},
   "outputs": [],
   "source": []
  },
  {
   "cell_type": "code",
   "execution_count": null,
   "metadata": {},
   "outputs": [],
   "source": []
  },
  {
   "cell_type": "code",
   "execution_count": null,
   "metadata": {},
   "outputs": [],
   "source": []
  },
  {
   "cell_type": "code",
   "execution_count": null,
   "metadata": {},
   "outputs": [],
   "source": []
  },
  {
   "cell_type": "code",
   "execution_count": null,
   "metadata": {},
   "outputs": [],
   "source": []
  }
 ],
 "metadata": {
  "kernelspec": {
   "display_name": "Python 3",
   "language": "python",
   "name": "python3"
  },
  "language_info": {
   "codemirror_mode": {
    "name": "ipython",
    "version": 3
   },
   "file_extension": ".py",
   "mimetype": "text/x-python",
   "name": "python",
   "nbconvert_exporter": "python",
   "pygments_lexer": "ipython3",
   "version": "3.6.6"
  }
 },
 "nbformat": 4,
 "nbformat_minor": 2
}
